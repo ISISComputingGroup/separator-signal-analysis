{
 "cells": [
  {
   "cell_type": "markdown",
   "metadata": {},
   "source": [
    "# Anaylsis of Packets of Raw Data Pre Capacitor"
   ]
  },
  {
   "cell_type": "markdown",
   "metadata": {},
   "source": [
    "Now we will try to use all the data to plot 1 second worth of time (first 10 rows). To do this we need to give the extra entries in the array time stamps. We will do this using the sampling frequency of 1000Hz to generate time stamps which are 0.001 larger than the previous one."
   ]
  },
  {
   "cell_type": "code",
   "execution_count": 1,
   "metadata": {},
   "outputs": [],
   "source": [
    "import numpy as np\n",
    "import matplotlib.pyplot as plt\n",
    "import os\n",
    "import pandas as pd\n",
    "\n",
    "from src.data_processing import create_data_from_entry\n",
    "\n",
    "%matplotlib inline\n",
    "%load_ext autoreload\n",
    "%autoreload 2"
   ]
  },
  {
   "cell_type": "markdown",
   "metadata": {},
   "source": [
    "## Import and Clean Raw Data\n",
    "\n",
    "First we import and clean the raw data. See `1-rdp-voltage-signal-exploration-pre-capacitor.ipynb` for a description of the cleaning. We will only be looking at a couple of rows of data at most so we don't need to import alot of data."
   ]
  },
  {
   "cell_type": "code",
   "execution_count": 22,
   "metadata": {},
   "outputs": [
    {
     "data": {
      "text/html": [
       "<div>\n",
       "<style scoped>\n",
       "    .dataframe tbody tr th:only-of-type {\n",
       "        vertical-align: middle;\n",
       "    }\n",
       "\n",
       "    .dataframe tbody tr th {\n",
       "        vertical-align: top;\n",
       "    }\n",
       "\n",
       "    .dataframe thead th {\n",
       "        text-align: right;\n",
       "    }\n",
       "</style>\n",
       "<table border=\"1\" class=\"dataframe\">\n",
       "  <thead>\n",
       "    <tr style=\"text-align: right;\">\n",
       "      <th></th>\n",
       "      <th>1</th>\n",
       "      <th>2</th>\n",
       "      <th>3</th>\n",
       "      <th>4</th>\n",
       "      <th>5</th>\n",
       "      <th>6</th>\n",
       "      <th>7</th>\n",
       "      <th>8</th>\n",
       "      <th>9</th>\n",
       "      <th>10</th>\n",
       "      <th>...</th>\n",
       "      <th>92</th>\n",
       "      <th>93</th>\n",
       "      <th>94</th>\n",
       "      <th>95</th>\n",
       "      <th>96</th>\n",
       "      <th>97</th>\n",
       "      <th>98</th>\n",
       "      <th>99</th>\n",
       "      <th>100</th>\n",
       "      <th>Datetime</th>\n",
       "    </tr>\n",
       "  </thead>\n",
       "  <tbody>\n",
       "    <tr>\n",
       "      <th>0</th>\n",
       "      <td>4.518552</td>\n",
       "      <td>4.450329</td>\n",
       "      <td>4.418448</td>\n",
       "      <td>4.399958</td>\n",
       "      <td>4.232905</td>\n",
       "      <td>4.364889</td>\n",
       "      <td>4.349268</td>\n",
       "      <td>4.384018</td>\n",
       "      <td>4.372859</td>\n",
       "      <td>4.489223</td>\n",
       "      <td>...</td>\n",
       "      <td>4.583588</td>\n",
       "      <td>4.619294</td>\n",
       "      <td>4.657232</td>\n",
       "      <td>4.733744</td>\n",
       "      <td>4.664564</td>\n",
       "      <td>4.699314</td>\n",
       "      <td>4.683055</td>\n",
       "      <td>4.667433</td>\n",
       "      <td>4.580400</td>\n",
       "      <td>2018-09-21 16:56:48.930999994</td>\n",
       "    </tr>\n",
       "    <tr>\n",
       "      <th>1</th>\n",
       "      <td>4.662333</td>\n",
       "      <td>4.594428</td>\n",
       "      <td>4.530986</td>\n",
       "      <td>4.521740</td>\n",
       "      <td>4.437258</td>\n",
       "      <td>4.376048</td>\n",
       "      <td>4.420680</td>\n",
       "      <td>4.308780</td>\n",
       "      <td>4.335241</td>\n",
       "      <td>4.349268</td>\n",
       "      <td>...</td>\n",
       "      <td>4.443634</td>\n",
       "      <td>4.479021</td>\n",
       "      <td>4.523972</td>\n",
       "      <td>4.572749</td>\n",
       "      <td>4.621207</td>\n",
       "      <td>4.601122</td>\n",
       "      <td>4.675722</td>\n",
       "      <td>4.678910</td>\n",
       "      <td>4.640973</td>\n",
       "      <td>2018-09-21 16:56:49.041000128</td>\n",
       "    </tr>\n",
       "    <tr>\n",
       "      <th>2</th>\n",
       "      <td>4.574343</td>\n",
       "      <td>4.545651</td>\n",
       "      <td>4.414623</td>\n",
       "      <td>4.446503</td>\n",
       "      <td>4.410478</td>\n",
       "      <td>4.276900</td>\n",
       "      <td>4.364252</td>\n",
       "      <td>4.322807</td>\n",
       "      <td>4.329821</td>\n",
       "      <td>4.408565</td>\n",
       "      <td>...</td>\n",
       "      <td>4.487310</td>\n",
       "      <td>4.581038</td>\n",
       "      <td>4.601760</td>\n",
       "      <td>4.649262</td>\n",
       "      <td>4.719398</td>\n",
       "      <td>4.696445</td>\n",
       "      <td>4.677954</td>\n",
       "      <td>4.710791</td>\n",
       "      <td>4.597616</td>\n",
       "      <td>2018-09-21 16:56:49.367999792</td>\n",
       "    </tr>\n",
       "    <tr>\n",
       "      <th>3</th>\n",
       "      <td>4.467225</td>\n",
       "      <td>4.557128</td>\n",
       "      <td>4.540231</td>\n",
       "      <td>4.637466</td>\n",
       "      <td>4.605267</td>\n",
       "      <td>4.711109</td>\n",
       "      <td>4.667433</td>\n",
       "      <td>4.705371</td>\n",
       "      <td>4.678273</td>\n",
       "      <td>4.630452</td>\n",
       "      <td>...</td>\n",
       "      <td>4.495280</td>\n",
       "      <td>4.479658</td>\n",
       "      <td>4.398364</td>\n",
       "      <td>4.403146</td>\n",
       "      <td>4.286783</td>\n",
       "      <td>4.359789</td>\n",
       "      <td>4.301766</td>\n",
       "      <td>4.342573</td>\n",
       "      <td>4.410478</td>\n",
       "      <td>2018-09-21 16:56:49.640000105</td>\n",
       "    </tr>\n",
       "    <tr>\n",
       "      <th>4</th>\n",
       "      <td>4.386568</td>\n",
       "      <td>4.472645</td>\n",
       "      <td>4.553302</td>\n",
       "      <td>4.616744</td>\n",
       "      <td>4.628539</td>\n",
       "      <td>4.760205</td>\n",
       "      <td>4.666477</td>\n",
       "      <td>4.698039</td>\n",
       "      <td>4.673172</td>\n",
       "      <td>4.654681</td>\n",
       "      <td>...</td>\n",
       "      <td>4.534811</td>\n",
       "      <td>4.435664</td>\n",
       "      <td>4.408565</td>\n",
       "      <td>4.401552</td>\n",
       "      <td>4.286145</td>\n",
       "      <td>4.342892</td>\n",
       "      <td>4.349268</td>\n",
       "      <td>4.333966</td>\n",
       "      <td>4.378279</td>\n",
       "      <td>2018-09-21 16:56:49.912999868</td>\n",
       "    </tr>\n",
       "  </tbody>\n",
       "</table>\n",
       "<p>5 rows × 101 columns</p>\n",
       "</div>"
      ],
      "text/plain": [
       "          1         2         3         4         5         6         7  \\\n",
       "0  4.518552  4.450329  4.418448  4.399958  4.232905  4.364889  4.349268   \n",
       "1  4.662333  4.594428  4.530986  4.521740  4.437258  4.376048  4.420680   \n",
       "2  4.574343  4.545651  4.414623  4.446503  4.410478  4.276900  4.364252   \n",
       "3  4.467225  4.557128  4.540231  4.637466  4.605267  4.711109  4.667433   \n",
       "4  4.386568  4.472645  4.553302  4.616744  4.628539  4.760205  4.666477   \n",
       "\n",
       "          8         9        10              ...                      92  \\\n",
       "0  4.384018  4.372859  4.489223              ...                4.583588   \n",
       "1  4.308780  4.335241  4.349268              ...                4.443634   \n",
       "2  4.322807  4.329821  4.408565              ...                4.487310   \n",
       "3  4.705371  4.678273  4.630452              ...                4.495280   \n",
       "4  4.698039  4.673172  4.654681              ...                4.534811   \n",
       "\n",
       "         93        94        95        96        97        98        99  \\\n",
       "0  4.619294  4.657232  4.733744  4.664564  4.699314  4.683055  4.667433   \n",
       "1  4.479021  4.523972  4.572749  4.621207  4.601122  4.675722  4.678910   \n",
       "2  4.581038  4.601760  4.649262  4.719398  4.696445  4.677954  4.710791   \n",
       "3  4.479658  4.398364  4.403146  4.286783  4.359789  4.301766  4.342573   \n",
       "4  4.435664  4.408565  4.401552  4.286145  4.342892  4.349268  4.333966   \n",
       "\n",
       "        100                       Datetime  \n",
       "0  4.580400  2018-09-21 16:56:48.930999994  \n",
       "1  4.640973  2018-09-21 16:56:49.041000128  \n",
       "2  4.597616  2018-09-21 16:56:49.367999792  \n",
       "3  4.410478  2018-09-21 16:56:49.640000105  \n",
       "4  4.378279  2018-09-21 16:56:49.912999868  \n",
       "\n",
       "[5 rows x 101 columns]"
      ]
     },
     "execution_count": 22,
     "metadata": {},
     "output_type": "execute_result"
    }
   ],
   "source": [
    "data = pd.read_csv(\"..\\\\data\\\\processed\\\\pre-capactitor-raw-data.csv\", nrows=10)\n",
    "data.head()"
   ]
  },
  {
   "cell_type": "code",
   "execution_count": 23,
   "metadata": {},
   "outputs": [
    {
     "data": {
      "text/plain": [
       "(10, 101)"
      ]
     },
     "execution_count": 23,
     "metadata": {},
     "output_type": "execute_result"
    }
   ],
   "source": [
    "data.shape"
   ]
  },
  {
   "cell_type": "markdown",
   "metadata": {},
   "source": [
    "## Anaylsis of a packet of data"
   ]
  },
  {
   "cell_type": "code",
   "execution_count": 25,
   "metadata": {},
   "outputs": [
    {
     "data": {
      "text/html": [
       "<div>\n",
       "<style scoped>\n",
       "    .dataframe tbody tr th:only-of-type {\n",
       "        vertical-align: middle;\n",
       "    }\n",
       "\n",
       "    .dataframe tbody tr th {\n",
       "        vertical-align: top;\n",
       "    }\n",
       "\n",
       "    .dataframe thead th {\n",
       "        text-align: right;\n",
       "    }\n",
       "</style>\n",
       "<table border=\"1\" class=\"dataframe\">\n",
       "  <thead>\n",
       "    <tr style=\"text-align: right;\">\n",
       "      <th></th>\n",
       "      <th>Datetime</th>\n",
       "      <th>Value</th>\n",
       "    </tr>\n",
       "  </thead>\n",
       "  <tbody>\n",
       "    <tr>\n",
       "      <th>0</th>\n",
       "      <td>2018-09-21 16:56:48.930999994</td>\n",
       "      <td>4.518552</td>\n",
       "    </tr>\n",
       "    <tr>\n",
       "      <th>1</th>\n",
       "      <td>2018-09-21 16:56:48.932099995</td>\n",
       "      <td>4.450329</td>\n",
       "    </tr>\n",
       "    <tr>\n",
       "      <th>2</th>\n",
       "      <td>2018-09-21 16:56:48.933199996</td>\n",
       "      <td>4.418448</td>\n",
       "    </tr>\n",
       "    <tr>\n",
       "      <th>3</th>\n",
       "      <td>2018-09-21 16:56:48.934299997</td>\n",
       "      <td>4.399958</td>\n",
       "    </tr>\n",
       "    <tr>\n",
       "      <th>4</th>\n",
       "      <td>2018-09-21 16:56:48.935399998</td>\n",
       "      <td>4.232905</td>\n",
       "    </tr>\n",
       "  </tbody>\n",
       "</table>\n",
       "</div>"
      ],
      "text/plain": [
       "                       Datetime     Value\n",
       "0 2018-09-21 16:56:48.930999994  4.518552\n",
       "1 2018-09-21 16:56:48.932099995  4.450329\n",
       "2 2018-09-21 16:56:48.933199996  4.418448\n",
       "3 2018-09-21 16:56:48.934299997  4.399958\n",
       "4 2018-09-21 16:56:48.935399998  4.232905"
      ]
     },
     "execution_count": 25,
     "metadata": {},
     "output_type": "execute_result"
    }
   ],
   "source": [
    "first_packet = create_data_from_entry(0, data)\n",
    "first_packet.head()"
   ]
  },
  {
   "cell_type": "code",
   "execution_count": 26,
   "metadata": {},
   "outputs": [
    {
     "data": {
      "text/plain": [
       "[<matplotlib.lines.Line2D at 0x1c370c18>]"
      ]
     },
     "execution_count": 26,
     "metadata": {},
     "output_type": "execute_result"
    },
    {
     "data": {
      "image/png": "[encoded data removed]",
      "text/plain": [
       "<Figure size 432x288 with 1 Axes>"
      ]
     },
     "metadata": {
      "needs_background": "light"
     },
     "output_type": "display_data"
    }
   ],
   "source": [
    "plt.plot(first_packet[\"Datetime\"], first_packet[\"Value\"])"
   ]
  },
  {
   "cell_type": "markdown",
   "metadata": {},
   "source": [
    "As you can see, their is definitely a 50Hz wave underneath the data. Lets look at a second packet of data to see any more."
   ]
  },
  {
   "cell_type": "code",
   "execution_count": 27,
   "metadata": {},
   "outputs": [
    {
     "data": {
      "text/html": [
       "<div>\n",
       "<style scoped>\n",
       "    .dataframe tbody tr th:only-of-type {\n",
       "        vertical-align: middle;\n",
       "    }\n",
       "\n",
       "    .dataframe tbody tr th {\n",
       "        vertical-align: top;\n",
       "    }\n",
       "\n",
       "    .dataframe thead th {\n",
       "        text-align: right;\n",
       "    }\n",
       "</style>\n",
       "<table border=\"1\" class=\"dataframe\">\n",
       "  <thead>\n",
       "    <tr style=\"text-align: right;\">\n",
       "      <th></th>\n",
       "      <th>Datetime</th>\n",
       "      <th>Value</th>\n",
       "    </tr>\n",
       "  </thead>\n",
       "  <tbody>\n",
       "    <tr>\n",
       "      <th>0</th>\n",
       "      <td>2018-09-21 16:56:49.041000128</td>\n",
       "      <td>4.662333</td>\n",
       "    </tr>\n",
       "    <tr>\n",
       "      <th>1</th>\n",
       "      <td>2018-09-21 16:56:49.044270124</td>\n",
       "      <td>4.594428</td>\n",
       "    </tr>\n",
       "    <tr>\n",
       "      <th>2</th>\n",
       "      <td>2018-09-21 16:56:49.047540120</td>\n",
       "      <td>4.530986</td>\n",
       "    </tr>\n",
       "    <tr>\n",
       "      <th>3</th>\n",
       "      <td>2018-09-21 16:56:49.050810116</td>\n",
       "      <td>4.521740</td>\n",
       "    </tr>\n",
       "    <tr>\n",
       "      <th>4</th>\n",
       "      <td>2018-09-21 16:56:49.054080112</td>\n",
       "      <td>4.437258</td>\n",
       "    </tr>\n",
       "  </tbody>\n",
       "</table>\n",
       "</div>"
      ],
      "text/plain": [
       "                       Datetime     Value\n",
       "0 2018-09-21 16:56:49.041000128  4.662333\n",
       "1 2018-09-21 16:56:49.044270124  4.594428\n",
       "2 2018-09-21 16:56:49.047540120  4.530986\n",
       "3 2018-09-21 16:56:49.050810116  4.521740\n",
       "4 2018-09-21 16:56:49.054080112  4.437258"
      ]
     },
     "execution_count": 27,
     "metadata": {},
     "output_type": "execute_result"
    }
   ],
   "source": [
    "second_packet = create_data_from_entry(1, data)\n",
    "second_packet.head()"
   ]
  },
  {
   "cell_type": "code",
   "execution_count": 28,
   "metadata": {},
   "outputs": [
    {
     "data": {
      "text/plain": [
       "[<matplotlib.lines.Line2D at 0x1c5ed080>]"
      ]
     },
     "execution_count": 28,
     "metadata": {},
     "output_type": "execute_result"
    },
    {
     "data": {
      "image/png": "[encoded data removed]",
      "text/plain": [
       "<Figure size 432x288 with 1 Axes>"
      ]
     },
     "metadata": {
      "needs_background": "light"
     },
     "output_type": "display_data"
    }
   ],
   "source": [
    "plt.plot(second_packet[\"Datetime\"], second_packet[\"Value\"])"
   ]
  },
  {
   "cell_type": "code",
   "execution_count": 29,
   "metadata": {},
   "outputs": [
    {
     "data": {
      "text/plain": [
       "[<matplotlib.lines.Line2D at 0x1c7bdcc0>]"
      ]
     },
     "execution_count": 29,
     "metadata": {},
     "output_type": "execute_result"
    },
    {
     "data": {
      "image/png": "[encoded data removed]",
      "text/plain": [
       "<Figure size 432x288 with 1 Axes>"
      ]
     },
     "metadata": {
      "needs_background": "light"
     },
     "output_type": "display_data"
    }
   ],
   "source": [
    "packets = pd.concat([first_packet, second_packet])\n",
    "plt.plot(packets[\"Datetime\"], packets[\"Value\"])"
   ]
  },
  {
   "cell_type": "markdown",
   "metadata": {},
   "source": [
    "## Conclusion\n",
    "\n",
    "There is clearly a 50Hz wave as part of the signal just from looking at 2ms worth of data. The next notebook will look at the effect of averaging out this 50Hz wave by averaging points which are 180 degrees apart."
   ]
  }
 ],
 "metadata": {
  "kernelspec": {
   "display_name": "Python 2",
   "language": "python",
   "name": "python2"
  },
  "language_info": {
   "codemirror_mode": {
    "name": "ipython",
    "version": 2
   },
   "file_extension": ".py",
   "mimetype": "text/x-python",
   "name": "python",
   "nbconvert_exporter": "python",
   "pygments_lexer": "ipython2",
   "version": "2.7.14"
  }
 },
 "nbformat": 4,
 "nbformat_minor": 2
}
