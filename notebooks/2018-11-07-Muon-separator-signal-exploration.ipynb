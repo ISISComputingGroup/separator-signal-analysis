{
 "cells": [
  {
   "cell_type": "markdown",
   "metadata": {},
   "source": [
    "# Muon Separator data exploration\n",
    "\n",
    "In this notebook we explore the voltage signal. This data was sampled with the frequencey at 1000Hz and the number of elements at 100 so the DAQ sent new information to the IOC every 0.1 seconds."
   ]
  },
  {
   "cell_type": "code",
   "execution_count": 1,
   "metadata": {},
   "outputs": [],
   "source": [
    "import pandas as pd\n",
    "import os\n",
    "import src.data_processing as dp"
   ]
  },
  {
   "cell_type": "markdown",
   "metadata": {},
   "source": [
    "The raw data take the following form:\n",
    "    - Column 0: Time since EPOCH the reading was taken.\n",
    "    - Column 1-100: Data from the `DAQ:_RAW` record. The readings are the DAQ voltage readings. These readings were requested every 0.05 seconds by the python script collecting the data from the IOC."
   ]
  },
  {
   "cell_type": "code",
   "execution_count": 2,
   "metadata": {
    "scrolled": true
   },
   "outputs": [],
   "source": [
    "raw = pd.read_csv(\"muon_results.csv\", nrows=100000, header=None)"
   ]
  },
  {
   "cell_type": "code",
   "execution_count": 3,
   "metadata": {},
   "outputs": [],
   "source": [
    "raw = dp.set_columns(raw)"
   ]
  },
  {
   "cell_type": "markdown",
   "metadata": {},
   "source": [
    "We now remove the duplicated rows."
   ]
  },
  {
   "cell_type": "code",
   "execution_count": 4,
   "metadata": {},
   "outputs": [],
   "source": [
    "signal = dp.remove_duplicates(raw)"
   ]
  },
  {
   "cell_type": "markdown",
   "metadata": {},
   "source": [
    "So we have eliminated the duplicates from the raw data. Now lets tidy up signal data."
   ]
  },
  {
   "cell_type": "code",
   "execution_count": 5,
   "metadata": {
    "scrolled": true
   },
   "outputs": [
    {
     "data": {
      "text/html": [
       "<div>\n",
       "<style scoped>\n",
       "    .dataframe tbody tr th:only-of-type {\n",
       "        vertical-align: middle;\n",
       "    }\n",
       "\n",
       "    .dataframe tbody tr th {\n",
       "        vertical-align: top;\n",
       "    }\n",
       "\n",
       "    .dataframe thead th {\n",
       "        text-align: right;\n",
       "    }\n",
       "</style>\n",
       "<table border=\"1\" class=\"dataframe\">\n",
       "  <thead>\n",
       "    <tr style=\"text-align: right;\">\n",
       "      <th></th>\n",
       "      <th>1</th>\n",
       "      <th>2</th>\n",
       "      <th>3</th>\n",
       "      <th>4</th>\n",
       "      <th>5</th>\n",
       "      <th>6</th>\n",
       "      <th>7</th>\n",
       "      <th>8</th>\n",
       "      <th>9</th>\n",
       "      <th>10</th>\n",
       "      <th>...</th>\n",
       "      <th>91</th>\n",
       "      <th>92</th>\n",
       "      <th>93</th>\n",
       "      <th>94</th>\n",
       "      <th>95</th>\n",
       "      <th>96</th>\n",
       "      <th>97</th>\n",
       "      <th>98</th>\n",
       "      <th>99</th>\n",
       "      <th>100</th>\n",
       "    </tr>\n",
       "    <tr>\n",
       "      <th>Time</th>\n",
       "      <th></th>\n",
       "      <th></th>\n",
       "      <th></th>\n",
       "      <th></th>\n",
       "      <th></th>\n",
       "      <th></th>\n",
       "      <th></th>\n",
       "      <th></th>\n",
       "      <th></th>\n",
       "      <th></th>\n",
       "      <th></th>\n",
       "      <th></th>\n",
       "      <th></th>\n",
       "      <th></th>\n",
       "      <th></th>\n",
       "      <th></th>\n",
       "      <th></th>\n",
       "      <th></th>\n",
       "      <th></th>\n",
       "      <th></th>\n",
       "      <th></th>\n",
       "    </tr>\n",
       "  </thead>\n",
       "  <tbody>\n",
       "    <tr>\n",
       "      <th>2018-09-21 16:56:48.930999994</th>\n",
       "      <td>4.518552</td>\n",
       "      <td>4.450329</td>\n",
       "      <td>4.418448</td>\n",
       "      <td>4.399958</td>\n",
       "      <td>4.232905</td>\n",
       "      <td>4.364889</td>\n",
       "      <td>4.349268</td>\n",
       "      <td>4.384018</td>\n",
       "      <td>4.372859</td>\n",
       "      <td>4.489223</td>\n",
       "      <td>...</td>\n",
       "      <td>4.488585</td>\n",
       "      <td>4.583588</td>\n",
       "      <td>4.619294</td>\n",
       "      <td>4.657232</td>\n",
       "      <td>4.733744</td>\n",
       "      <td>4.664564</td>\n",
       "      <td>4.699314</td>\n",
       "      <td>4.683055</td>\n",
       "      <td>4.667433</td>\n",
       "      <td>4.580400</td>\n",
       "    </tr>\n",
       "    <tr>\n",
       "      <th>2018-09-21 16:56:49.041000128</th>\n",
       "      <td>4.662333</td>\n",
       "      <td>4.594428</td>\n",
       "      <td>4.530986</td>\n",
       "      <td>4.521740</td>\n",
       "      <td>4.437258</td>\n",
       "      <td>4.376048</td>\n",
       "      <td>4.420680</td>\n",
       "      <td>4.308780</td>\n",
       "      <td>4.335241</td>\n",
       "      <td>4.349268</td>\n",
       "      <td>...</td>\n",
       "      <td>4.338110</td>\n",
       "      <td>4.443634</td>\n",
       "      <td>4.479021</td>\n",
       "      <td>4.523972</td>\n",
       "      <td>4.572749</td>\n",
       "      <td>4.621207</td>\n",
       "      <td>4.601122</td>\n",
       "      <td>4.675722</td>\n",
       "      <td>4.678910</td>\n",
       "      <td>4.640973</td>\n",
       "    </tr>\n",
       "    <tr>\n",
       "      <th>2018-09-21 16:56:49.367999792</th>\n",
       "      <td>4.574343</td>\n",
       "      <td>4.545651</td>\n",
       "      <td>4.414623</td>\n",
       "      <td>4.446503</td>\n",
       "      <td>4.410478</td>\n",
       "      <td>4.276900</td>\n",
       "      <td>4.364252</td>\n",
       "      <td>4.322807</td>\n",
       "      <td>4.329821</td>\n",
       "      <td>4.408565</td>\n",
       "      <td>...</td>\n",
       "      <td>4.426418</td>\n",
       "      <td>4.487310</td>\n",
       "      <td>4.581038</td>\n",
       "      <td>4.601760</td>\n",
       "      <td>4.649262</td>\n",
       "      <td>4.719398</td>\n",
       "      <td>4.696445</td>\n",
       "      <td>4.677954</td>\n",
       "      <td>4.710791</td>\n",
       "      <td>4.597616</td>\n",
       "    </tr>\n",
       "    <tr>\n",
       "      <th>2018-09-21 16:56:49.640000105</th>\n",
       "      <td>4.467225</td>\n",
       "      <td>4.557128</td>\n",
       "      <td>4.540231</td>\n",
       "      <td>4.637466</td>\n",
       "      <td>4.605267</td>\n",
       "      <td>4.711109</td>\n",
       "      <td>4.667433</td>\n",
       "      <td>4.705371</td>\n",
       "      <td>4.678273</td>\n",
       "      <td>4.630452</td>\n",
       "      <td>...</td>\n",
       "      <td>4.609730</td>\n",
       "      <td>4.495280</td>\n",
       "      <td>4.479658</td>\n",
       "      <td>4.398364</td>\n",
       "      <td>4.403146</td>\n",
       "      <td>4.286783</td>\n",
       "      <td>4.359789</td>\n",
       "      <td>4.301766</td>\n",
       "      <td>4.342573</td>\n",
       "      <td>4.410478</td>\n",
       "    </tr>\n",
       "    <tr>\n",
       "      <th>2018-09-21 16:56:49.912999868</th>\n",
       "      <td>4.386568</td>\n",
       "      <td>4.472645</td>\n",
       "      <td>4.553302</td>\n",
       "      <td>4.616744</td>\n",
       "      <td>4.628539</td>\n",
       "      <td>4.760205</td>\n",
       "      <td>4.666477</td>\n",
       "      <td>4.698039</td>\n",
       "      <td>4.673172</td>\n",
       "      <td>4.654681</td>\n",
       "      <td>...</td>\n",
       "      <td>4.613875</td>\n",
       "      <td>4.534811</td>\n",
       "      <td>4.435664</td>\n",
       "      <td>4.408565</td>\n",
       "      <td>4.401552</td>\n",
       "      <td>4.286145</td>\n",
       "      <td>4.342892</td>\n",
       "      <td>4.349268</td>\n",
       "      <td>4.333966</td>\n",
       "      <td>4.378279</td>\n",
       "    </tr>\n",
       "  </tbody>\n",
       "</table>\n",
       "<p>5 rows × 100 columns</p>\n",
       "</div>"
      ],
      "text/plain": [
       "                                    1         2         3         4    \\\n",
       "Time                                                                    \n",
       "2018-09-21 16:56:48.930999994  4.518552  4.450329  4.418448  4.399958   \n",
       "2018-09-21 16:56:49.041000128  4.662333  4.594428  4.530986  4.521740   \n",
       "2018-09-21 16:56:49.367999792  4.574343  4.545651  4.414623  4.446503   \n",
       "2018-09-21 16:56:49.640000105  4.467225  4.557128  4.540231  4.637466   \n",
       "2018-09-21 16:56:49.912999868  4.386568  4.472645  4.553302  4.616744   \n",
       "\n",
       "                                    5         6         7         8    \\\n",
       "Time                                                                    \n",
       "2018-09-21 16:56:48.930999994  4.232905  4.364889  4.349268  4.384018   \n",
       "2018-09-21 16:56:49.041000128  4.437258  4.376048  4.420680  4.308780   \n",
       "2018-09-21 16:56:49.367999792  4.410478  4.276900  4.364252  4.322807   \n",
       "2018-09-21 16:56:49.640000105  4.605267  4.711109  4.667433  4.705371   \n",
       "2018-09-21 16:56:49.912999868  4.628539  4.760205  4.666477  4.698039   \n",
       "\n",
       "                                    9         10     ...          91   \\\n",
       "Time                                                 ...                \n",
       "2018-09-21 16:56:48.930999994  4.372859  4.489223    ...     4.488585   \n",
       "2018-09-21 16:56:49.041000128  4.335241  4.349268    ...     4.338110   \n",
       "2018-09-21 16:56:49.367999792  4.329821  4.408565    ...     4.426418   \n",
       "2018-09-21 16:56:49.640000105  4.678273  4.630452    ...     4.609730   \n",
       "2018-09-21 16:56:49.912999868  4.673172  4.654681    ...     4.613875   \n",
       "\n",
       "                                    92        93        94        95   \\\n",
       "Time                                                                    \n",
       "2018-09-21 16:56:48.930999994  4.583588  4.619294  4.657232  4.733744   \n",
       "2018-09-21 16:56:49.041000128  4.443634  4.479021  4.523972  4.572749   \n",
       "2018-09-21 16:56:49.367999792  4.487310  4.581038  4.601760  4.649262   \n",
       "2018-09-21 16:56:49.640000105  4.495280  4.479658  4.398364  4.403146   \n",
       "2018-09-21 16:56:49.912999868  4.534811  4.435664  4.408565  4.401552   \n",
       "\n",
       "                                    96        97        98        99   \\\n",
       "Time                                                                    \n",
       "2018-09-21 16:56:48.930999994  4.664564  4.699314  4.683055  4.667433   \n",
       "2018-09-21 16:56:49.041000128  4.621207  4.601122  4.675722  4.678910   \n",
       "2018-09-21 16:56:49.367999792  4.719398  4.696445  4.677954  4.710791   \n",
       "2018-09-21 16:56:49.640000105  4.286783  4.359789  4.301766  4.342573   \n",
       "2018-09-21 16:56:49.912999868  4.286145  4.342892  4.349268  4.333966   \n",
       "\n",
       "                                    100  \n",
       "Time                                     \n",
       "2018-09-21 16:56:48.930999994  4.580400  \n",
       "2018-09-21 16:56:49.041000128  4.640973  \n",
       "2018-09-21 16:56:49.367999792  4.597616  \n",
       "2018-09-21 16:56:49.640000105  4.410478  \n",
       "2018-09-21 16:56:49.912999868  4.378279  \n",
       "\n",
       "[5 rows x 100 columns]"
      ]
     },
     "execution_count": 5,
     "metadata": {},
     "output_type": "execute_result"
    }
   ],
   "source": [
    "signal.head()"
   ]
  },
  {
   "cell_type": "code",
   "execution_count": 6,
   "metadata": {},
   "outputs": [
    {
     "data": {
      "text/plain": [
       "(19022, 100)"
      ]
     },
     "execution_count": 6,
     "metadata": {},
     "output_type": "execute_result"
    }
   ],
   "source": [
    "signal.shape"
   ]
  },
  {
   "cell_type": "markdown",
   "metadata": {},
   "source": [
    "Now we write this converted data to "
   ]
  },
  {
   "cell_type": "code",
   "execution_count": 7,
   "metadata": {},
   "outputs": [],
   "source": [
    "signal.to_csv(\"signal_data.csv\")"
   ]
  },
  {
   "cell_type": "code",
   "execution_count": null,
   "metadata": {},
   "outputs": [],
   "source": []
  }
 ],
 "metadata": {
  "kernelspec": {
   "display_name": "Python 2",
   "language": "python",
   "name": "python2"
  },
  "language_info": {
   "codemirror_mode": {
    "name": "ipython",
    "version": 2
   },
   "file_extension": ".py",
   "mimetype": "text/x-python",
   "name": "python",
   "nbconvert_exporter": "python",
   "pygments_lexer": "ipython2",
   "version": "2.7.14"
  }
 },
 "nbformat": 4,
 "nbformat_minor": 2
}
