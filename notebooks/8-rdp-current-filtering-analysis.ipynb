{
 "cells": [
  {
   "cell_type": "markdown",
   "metadata": {},
   "source": [
    "# Analysis of Current Signal Post-capacitor Installation"
   ]
  },
  {
   "cell_type": "code",
   "execution_count": 1,
   "metadata": {},
   "outputs": [
    {
     "data": {
      "text/plain": [
       "DataTransformerRegistry.enable('json')"
      ]
     },
     "execution_count": 1,
     "metadata": {},
     "output_type": "execute_result"
    }
   ],
   "source": [
    "import altair as alt\n",
    "import numpy as np\n",
    "import pandas as pd\n",
    "\n",
    "from src.data_processing import clean_camonitored_data, calibrate_data, flatten_data, time_period\n",
    "from src.vizualization import generate_stability_rules, generate_line_chart\n",
    "\n",
    "# Render altair charts correctly\n",
    "alt.renderers.enable('notebook')\n",
    "\n",
    "# Store the altair char json separately and not in the notebook \n",
    "# to reduce notebook size\n",
    "alt.data_transformers.enable('json')"
   ]
  },
  {
   "cell_type": "markdown",
   "metadata": {},
   "source": [
    "## Load in an clean the current data\n",
    "\n",
    "First we load in roughly 10 minutes of current data without any sparks and then clean and calibrate the data."
   ]
  },
  {
   "cell_type": "code",
   "execution_count": 2,
   "metadata": {},
   "outputs": [
    {
     "data": {
      "text/html": [
       "<div>\n",
       "<style scoped>\n",
       "    .dataframe tbody tr th:only-of-type {\n",
       "        vertical-align: middle;\n",
       "    }\n",
       "\n",
       "    .dataframe tbody tr th {\n",
       "        vertical-align: top;\n",
       "    }\n",
       "\n",
       "    .dataframe thead th {\n",
       "        text-align: right;\n",
       "    }\n",
       "</style>\n",
       "<table border=\"1\" class=\"dataframe\">\n",
       "  <thead>\n",
       "    <tr style=\"text-align: right;\">\n",
       "      <th></th>\n",
       "      <th>Datetime</th>\n",
       "      <th>1</th>\n",
       "      <th>2</th>\n",
       "      <th>3</th>\n",
       "      <th>4</th>\n",
       "      <th>5</th>\n",
       "      <th>6</th>\n",
       "      <th>7</th>\n",
       "      <th>8</th>\n",
       "      <th>9</th>\n",
       "      <th>...</th>\n",
       "      <th>91</th>\n",
       "      <th>92</th>\n",
       "      <th>93</th>\n",
       "      <th>94</th>\n",
       "      <th>95</th>\n",
       "      <th>96</th>\n",
       "      <th>97</th>\n",
       "      <th>98</th>\n",
       "      <th>99</th>\n",
       "      <th>100</th>\n",
       "    </tr>\n",
       "  </thead>\n",
       "  <tbody>\n",
       "    <tr>\n",
       "      <th>0</th>\n",
       "      <td>2018-11-09 10:46:49.991566</td>\n",
       "      <td>0.004414</td>\n",
       "      <td>0.005046</td>\n",
       "      <td>0.001571</td>\n",
       "      <td>0.006625</td>\n",
       "      <td>0.004730</td>\n",
       "      <td>0.007888</td>\n",
       "      <td>0.003151</td>\n",
       "      <td>0.004414</td>\n",
       "      <td>0.001571</td>\n",
       "      <td>...</td>\n",
       "      <td>0.000308</td>\n",
       "      <td>0.007888</td>\n",
       "      <td>-0.002219</td>\n",
       "      <td>0.009152</td>\n",
       "      <td>-0.000956</td>\n",
       "      <td>0.011047</td>\n",
       "      <td>-0.003798</td>\n",
       "      <td>0.008520</td>\n",
       "      <td>-0.000640</td>\n",
       "      <td>0.010415</td>\n",
       "    </tr>\n",
       "    <tr>\n",
       "      <th>1</th>\n",
       "      <td>2018-11-09 10:46:49.991566</td>\n",
       "      <td>0.004414</td>\n",
       "      <td>0.005046</td>\n",
       "      <td>0.001571</td>\n",
       "      <td>0.006625</td>\n",
       "      <td>0.004730</td>\n",
       "      <td>0.007888</td>\n",
       "      <td>0.003151</td>\n",
       "      <td>0.004414</td>\n",
       "      <td>0.001571</td>\n",
       "      <td>...</td>\n",
       "      <td>0.000308</td>\n",
       "      <td>0.007888</td>\n",
       "      <td>-0.002219</td>\n",
       "      <td>0.009152</td>\n",
       "      <td>-0.000956</td>\n",
       "      <td>0.011047</td>\n",
       "      <td>-0.003798</td>\n",
       "      <td>0.008520</td>\n",
       "      <td>-0.000640</td>\n",
       "      <td>0.010415</td>\n",
       "    </tr>\n",
       "    <tr>\n",
       "      <th>2</th>\n",
       "      <td>2018-11-09 10:46:51.171747</td>\n",
       "      <td>-0.000640</td>\n",
       "      <td>0.009468</td>\n",
       "      <td>-0.000640</td>\n",
       "      <td>0.009784</td>\n",
       "      <td>-0.000640</td>\n",
       "      <td>0.009152</td>\n",
       "      <td>-0.001272</td>\n",
       "      <td>0.009784</td>\n",
       "      <td>-0.000008</td>\n",
       "      <td>...</td>\n",
       "      <td>-0.003798</td>\n",
       "      <td>0.010731</td>\n",
       "      <td>-0.003798</td>\n",
       "      <td>0.009468</td>\n",
       "      <td>-0.007589</td>\n",
       "      <td>0.009784</td>\n",
       "      <td>-0.003483</td>\n",
       "      <td>0.008836</td>\n",
       "      <td>-0.006325</td>\n",
       "      <td>0.010099</td>\n",
       "    </tr>\n",
       "    <tr>\n",
       "      <th>3</th>\n",
       "      <td>2018-11-09 10:46:52.363062</td>\n",
       "      <td>-0.005378</td>\n",
       "      <td>0.005993</td>\n",
       "      <td>-0.007905</td>\n",
       "      <td>0.008204</td>\n",
       "      <td>-0.008536</td>\n",
       "      <td>0.010099</td>\n",
       "      <td>-0.006641</td>\n",
       "      <td>0.008204</td>\n",
       "      <td>-0.007273</td>\n",
       "      <td>...</td>\n",
       "      <td>-0.006009</td>\n",
       "      <td>0.004098</td>\n",
       "      <td>-0.006957</td>\n",
       "      <td>0.004730</td>\n",
       "      <td>-0.002219</td>\n",
       "      <td>0.003782</td>\n",
       "      <td>-0.006641</td>\n",
       "      <td>0.004098</td>\n",
       "      <td>-0.003167</td>\n",
       "      <td>0.003782</td>\n",
       "    </tr>\n",
       "    <tr>\n",
       "      <th>4</th>\n",
       "      <td>2018-11-09 10:46:53.543171</td>\n",
       "      <td>0.001255</td>\n",
       "      <td>-0.001903</td>\n",
       "      <td>-0.003167</td>\n",
       "      <td>-0.000640</td>\n",
       "      <td>0.000624</td>\n",
       "      <td>-0.000956</td>\n",
       "      <td>0.000624</td>\n",
       "      <td>0.000624</td>\n",
       "      <td>0.001255</td>\n",
       "      <td>...</td>\n",
       "      <td>0.000939</td>\n",
       "      <td>0.002203</td>\n",
       "      <td>-0.001587</td>\n",
       "      <td>0.000939</td>\n",
       "      <td>-0.002535</td>\n",
       "      <td>0.000308</td>\n",
       "      <td>-0.001272</td>\n",
       "      <td>-0.000956</td>\n",
       "      <td>-0.001587</td>\n",
       "      <td>-0.000008</td>\n",
       "    </tr>\n",
       "  </tbody>\n",
       "</table>\n",
       "<p>5 rows × 101 columns</p>\n",
       "</div>"
      ],
      "text/plain": [
       "                    Datetime         1         2         3         4  \\\n",
       "0 2018-11-09 10:46:49.991566  0.004414  0.005046  0.001571  0.006625   \n",
       "1 2018-11-09 10:46:49.991566  0.004414  0.005046  0.001571  0.006625   \n",
       "2 2018-11-09 10:46:51.171747 -0.000640  0.009468 -0.000640  0.009784   \n",
       "3 2018-11-09 10:46:52.363062 -0.005378  0.005993 -0.007905  0.008204   \n",
       "4 2018-11-09 10:46:53.543171  0.001255 -0.001903 -0.003167 -0.000640   \n",
       "\n",
       "          5         6         7         8         9    ...           91  \\\n",
       "0  0.004730  0.007888  0.003151  0.004414  0.001571    ...     0.000308   \n",
       "1  0.004730  0.007888  0.003151  0.004414  0.001571    ...     0.000308   \n",
       "2 -0.000640  0.009152 -0.001272  0.009784 -0.000008    ...    -0.003798   \n",
       "3 -0.008536  0.010099 -0.006641  0.008204 -0.007273    ...    -0.006009   \n",
       "4  0.000624 -0.000956  0.000624  0.000624  0.001255    ...     0.000939   \n",
       "\n",
       "         92        93        94        95        96        97        98  \\\n",
       "0  0.007888 -0.002219  0.009152 -0.000956  0.011047 -0.003798  0.008520   \n",
       "1  0.007888 -0.002219  0.009152 -0.000956  0.011047 -0.003798  0.008520   \n",
       "2  0.010731 -0.003798  0.009468 -0.007589  0.009784 -0.003483  0.008836   \n",
       "3  0.004098 -0.006957  0.004730 -0.002219  0.003782 -0.006641  0.004098   \n",
       "4  0.002203 -0.001587  0.000939 -0.002535  0.000308 -0.001272 -0.000956   \n",
       "\n",
       "         99       100  \n",
       "0 -0.000640  0.010415  \n",
       "1 -0.000640  0.010415  \n",
       "2 -0.006325  0.010099  \n",
       "3 -0.003167  0.003782  \n",
       "4 -0.001587 -0.000008  \n",
       "\n",
       "[5 rows x 101 columns]"
      ]
     },
     "execution_count": 2,
     "metadata": {},
     "output_type": "execute_result"
    }
   ],
   "source": [
    "data = pd.read_csv(os.path.join(os.getcwd(), \"..\", \"data\", \"raw\", \"2018-11-09-current-data.txt\"), \n",
    "                   delim_whitespace=True, header=None, nrows=600)\n",
    "data = clean_camonitored_data(data)\n",
    "data.head()"
   ]
  },
  {
   "cell_type": "code",
   "execution_count": 3,
   "metadata": {},
   "outputs": [
    {
     "data": {
      "text/html": [
       "<div>\n",
       "<style scoped>\n",
       "    .dataframe tbody tr th:only-of-type {\n",
       "        vertical-align: middle;\n",
       "    }\n",
       "\n",
       "    .dataframe tbody tr th {\n",
       "        vertical-align: top;\n",
       "    }\n",
       "\n",
       "    .dataframe thead th {\n",
       "        text-align: right;\n",
       "    }\n",
       "</style>\n",
       "<table border=\"1\" class=\"dataframe\">\n",
       "  <thead>\n",
       "    <tr style=\"text-align: right;\">\n",
       "      <th></th>\n",
       "      <th>1</th>\n",
       "      <th>2</th>\n",
       "      <th>3</th>\n",
       "      <th>4</th>\n",
       "      <th>5</th>\n",
       "      <th>6</th>\n",
       "      <th>7</th>\n",
       "      <th>8</th>\n",
       "      <th>9</th>\n",
       "      <th>10</th>\n",
       "      <th>...</th>\n",
       "      <th>92</th>\n",
       "      <th>93</th>\n",
       "      <th>94</th>\n",
       "      <th>95</th>\n",
       "      <th>96</th>\n",
       "      <th>97</th>\n",
       "      <th>98</th>\n",
       "      <th>99</th>\n",
       "      <th>100</th>\n",
       "      <th>Datetime</th>\n",
       "    </tr>\n",
       "  </thead>\n",
       "  <tbody>\n",
       "    <tr>\n",
       "      <th>0</th>\n",
       "      <td>0.001103</td>\n",
       "      <td>0.001261</td>\n",
       "      <td>0.000393</td>\n",
       "      <td>0.001656</td>\n",
       "      <td>0.001182</td>\n",
       "      <td>0.001972</td>\n",
       "      <td>0.000788</td>\n",
       "      <td>0.001103</td>\n",
       "      <td>0.000393</td>\n",
       "      <td>0.001735</td>\n",
       "      <td>...</td>\n",
       "      <td>0.001972</td>\n",
       "      <td>-0.000555</td>\n",
       "      <td>0.002288</td>\n",
       "      <td>-0.000239</td>\n",
       "      <td>0.002762</td>\n",
       "      <td>-0.000950</td>\n",
       "      <td>0.002130</td>\n",
       "      <td>-0.000160</td>\n",
       "      <td>0.002604</td>\n",
       "      <td>2018-11-09 10:46:49.991566</td>\n",
       "    </tr>\n",
       "    <tr>\n",
       "      <th>1</th>\n",
       "      <td>-0.000160</td>\n",
       "      <td>0.002367</td>\n",
       "      <td>-0.000160</td>\n",
       "      <td>0.002446</td>\n",
       "      <td>-0.000160</td>\n",
       "      <td>0.002288</td>\n",
       "      <td>-0.000318</td>\n",
       "      <td>0.002446</td>\n",
       "      <td>-0.000002</td>\n",
       "      <td>0.002367</td>\n",
       "      <td>...</td>\n",
       "      <td>0.002683</td>\n",
       "      <td>-0.000950</td>\n",
       "      <td>0.002367</td>\n",
       "      <td>-0.001897</td>\n",
       "      <td>0.002446</td>\n",
       "      <td>-0.000871</td>\n",
       "      <td>0.002209</td>\n",
       "      <td>-0.001581</td>\n",
       "      <td>0.002525</td>\n",
       "      <td>2018-11-09 10:46:51.171747</td>\n",
       "    </tr>\n",
       "    <tr>\n",
       "      <th>2</th>\n",
       "      <td>-0.001344</td>\n",
       "      <td>0.001498</td>\n",
       "      <td>-0.001976</td>\n",
       "      <td>0.002051</td>\n",
       "      <td>-0.002134</td>\n",
       "      <td>0.002525</td>\n",
       "      <td>-0.001660</td>\n",
       "      <td>0.002051</td>\n",
       "      <td>-0.001818</td>\n",
       "      <td>0.001735</td>\n",
       "      <td>...</td>\n",
       "      <td>0.001025</td>\n",
       "      <td>-0.001739</td>\n",
       "      <td>0.001182</td>\n",
       "      <td>-0.000555</td>\n",
       "      <td>0.000946</td>\n",
       "      <td>-0.001660</td>\n",
       "      <td>0.001025</td>\n",
       "      <td>-0.000792</td>\n",
       "      <td>0.000946</td>\n",
       "      <td>2018-11-09 10:46:52.363062</td>\n",
       "    </tr>\n",
       "    <tr>\n",
       "      <th>3</th>\n",
       "      <td>0.000314</td>\n",
       "      <td>-0.000476</td>\n",
       "      <td>-0.000792</td>\n",
       "      <td>-0.000160</td>\n",
       "      <td>0.000156</td>\n",
       "      <td>-0.000239</td>\n",
       "      <td>0.000156</td>\n",
       "      <td>0.000156</td>\n",
       "      <td>0.000314</td>\n",
       "      <td>-0.000081</td>\n",
       "      <td>...</td>\n",
       "      <td>0.000551</td>\n",
       "      <td>-0.000397</td>\n",
       "      <td>0.000235</td>\n",
       "      <td>-0.000634</td>\n",
       "      <td>0.000077</td>\n",
       "      <td>-0.000318</td>\n",
       "      <td>-0.000239</td>\n",
       "      <td>-0.000397</td>\n",
       "      <td>-0.000002</td>\n",
       "      <td>2018-11-09 10:46:53.543171</td>\n",
       "    </tr>\n",
       "    <tr>\n",
       "      <th>4</th>\n",
       "      <td>-0.000239</td>\n",
       "      <td>0.000235</td>\n",
       "      <td>-0.000555</td>\n",
       "      <td>0.000077</td>\n",
       "      <td>-0.000871</td>\n",
       "      <td>0.000946</td>\n",
       "      <td>-0.000318</td>\n",
       "      <td>0.000235</td>\n",
       "      <td>-0.000555</td>\n",
       "      <td>0.000472</td>\n",
       "      <td>...</td>\n",
       "      <td>0.000077</td>\n",
       "      <td>0.000709</td>\n",
       "      <td>-0.000239</td>\n",
       "      <td>0.000314</td>\n",
       "      <td>-0.000160</td>\n",
       "      <td>-0.000081</td>\n",
       "      <td>0.000472</td>\n",
       "      <td>0.000393</td>\n",
       "      <td>0.000156</td>\n",
       "      <td>2018-11-09 10:46:54.713090</td>\n",
       "    </tr>\n",
       "  </tbody>\n",
       "</table>\n",
       "<p>5 rows × 101 columns</p>\n",
       "</div>"
      ],
      "text/plain": [
       "          1         2         3         4         5         6         7  \\\n",
       "0  0.001103  0.001261  0.000393  0.001656  0.001182  0.001972  0.000788   \n",
       "1 -0.000160  0.002367 -0.000160  0.002446 -0.000160  0.002288 -0.000318   \n",
       "2 -0.001344  0.001498 -0.001976  0.002051 -0.002134  0.002525 -0.001660   \n",
       "3  0.000314 -0.000476 -0.000792 -0.000160  0.000156 -0.000239  0.000156   \n",
       "4 -0.000239  0.000235 -0.000555  0.000077 -0.000871  0.000946 -0.000318   \n",
       "\n",
       "          8         9        10            ...                    92  \\\n",
       "0  0.001103  0.000393  0.001735            ...              0.001972   \n",
       "1  0.002446 -0.000002  0.002367            ...              0.002683   \n",
       "2  0.002051 -0.001818  0.001735            ...              0.001025   \n",
       "3  0.000156  0.000314 -0.000081            ...              0.000551   \n",
       "4  0.000235 -0.000555  0.000472            ...              0.000077   \n",
       "\n",
       "         93        94        95        96        97        98        99  \\\n",
       "0 -0.000555  0.002288 -0.000239  0.002762 -0.000950  0.002130 -0.000160   \n",
       "1 -0.000950  0.002367 -0.001897  0.002446 -0.000871  0.002209 -0.001581   \n",
       "2 -0.001739  0.001182 -0.000555  0.000946 -0.001660  0.001025 -0.000792   \n",
       "3 -0.000397  0.000235 -0.000634  0.000077 -0.000318 -0.000239 -0.000397   \n",
       "4  0.000709 -0.000239  0.000314 -0.000160 -0.000081  0.000472  0.000393   \n",
       "\n",
       "        100                   Datetime  \n",
       "0  0.002604 2018-11-09 10:46:49.991566  \n",
       "1  0.002525 2018-11-09 10:46:51.171747  \n",
       "2  0.000946 2018-11-09 10:46:52.363062  \n",
       "3 -0.000002 2018-11-09 10:46:53.543171  \n",
       "4  0.000156 2018-11-09 10:46:54.713090  \n",
       "\n",
       "[5 rows x 101 columns]"
      ]
     },
     "execution_count": 3,
     "metadata": {},
     "output_type": "execute_result"
    }
   ],
   "source": [
    "CURRENT_CALIBRATION_SCALE_FACTOR = 0.25\n",
    "calibrated_data = calibrate_data(data, CURRENT_CALIBRATION_SCALE_FACTOR)\n",
    "calibrated_data.head()"
   ]
  },
  {
   "cell_type": "code",
   "execution_count": 4,
   "metadata": {},
   "outputs": [
    {
     "data": {
      "text/plain": [
       "(599, 101)"
      ]
     },
     "execution_count": 4,
     "metadata": {},
     "output_type": "execute_result"
    }
   ],
   "source": [
    "calibrated_data.shape"
   ]
  },
  {
   "cell_type": "markdown",
   "metadata": {},
   "source": [
    "## Plotting the raw data"
   ]
  },
  {
   "cell_type": "markdown",
   "metadata": {},
   "source": [
    "Now we flatten the raw data before plotting it."
   ]
  },
  {
   "cell_type": "code",
   "execution_count": 5,
   "metadata": {},
   "outputs": [
    {
     "data": {
      "text/plain": [
       "(59800, 2)"
      ]
     },
     "execution_count": 5,
     "metadata": {},
     "output_type": "execute_result"
    }
   ],
   "source": [
    "flatten_raw_data = flatten_data(calibrated_data)\n",
    "flatten_raw_data.shape"
   ]
  },
  {
   "cell_type": "code",
   "execution_count": 6,
   "metadata": {
    "scrolled": false
   },
   "outputs": [
    {
     "data": {
      "application/javascript": [
       "var spec = {\"layer\": [{\"mark\": {\"color\": \"#7570b3\", \"type\": \"line\"}, \"encoding\": {\"y\": {\"field\": \"Value\", \"scale\": {\"domain\": [-0.1, 0.21]}, \"type\": \"quantitative\", \"title\": \"Current (mA)\"}, \"x\": {\"field\": \"Datetime\", \"timeUnit\": \"hoursminutesseconds\", \"type\": \"temporal\", \"title\": \"Time (h:m:s)\"}}}, {\"layer\": [{\"mark\": {\"opacity\": 1, \"color\": \"#1b9e77\", \"type\": \"rule\"}, \"encoding\": {\"y\": {\"field\": \"average\", \"type\": \"quantitative\"}, \"size\": {\"value\": 3}}}, {\"mark\": {\"opacity\": 1, \"color\": \"#d95f02\", \"type\": \"rule\"}, \"encoding\": {\"y\": {\"field\": \"high_limit\", \"type\": \"quantitative\"}, \"size\": {\"value\": 3}}}, {\"mark\": {\"opacity\": 1, \"color\": \"#d95f02\", \"type\": \"rule\"}, \"encoding\": {\"y\": {\"field\": \"low_limit\", \"type\": \"quantitative\"}, \"size\": {\"value\": 3}}}], \"data\": {\"url\": \"altair-data-2db858e308ccc569479a41c4eaddbb91.json\", \"format\": {\"type\": \"json\"}}}], \"title\": \"Current over 706 seconds\", \"config\": {\"background\": \"white\", \"view\": {\"width\": 400, \"height\": 300}}, \"width\": 875, \"$schema\": \"https://vega.github.io/schema/vega-lite/v2.6.0.json\", \"data\": {\"url\": \"altair-data-2d138031f2eca3e5890c18e203839bb8.json\", \"format\": {\"type\": \"json\"}}};\n",
       "var opt = {};\n",
       "var type = \"vega-lite\";\n",
       "var id = \"4b278adc-f4a8-46db-b068-d6dfc9d4e49b\";\n",
       "\n",
       "var output_area = this;\n",
       "\n",
       "require([\"nbextensions/jupyter-vega/index\"], function(vega) {\n",
       "  var target = document.createElement(\"div\");\n",
       "  target.id = id;\n",
       "  target.className = \"vega-embed\";\n",
       "\n",
       "  var style = document.createElement(\"style\");\n",
       "  style.textContent = [\n",
       "    \".vega-embed .error p {\",\n",
       "    \"  color: firebrick;\",\n",
       "    \"  font-size: 14px;\",\n",
       "    \"}\",\n",
       "  ].join(\"\\\\n\");\n",
       "\n",
       "  // element is a jQuery wrapped DOM element inside the output area\n",
       "  // see http://ipython.readthedocs.io/en/stable/api/generated/\\\n",
       "  // IPython.display.html#IPython.display.Javascript.__init__\n",
       "  element[0].appendChild(target);\n",
       "  element[0].appendChild(style);\n",
       "\n",
       "  vega.render(\"#\" + id, spec, type, opt, output_area);\n",
       "}, function (err) {\n",
       "  if (err.requireType !== \"scripterror\") {\n",
       "    throw(err);\n",
       "  }\n",
       "});\n"
      ],
      "text/plain": [
       "<vega.vegalite.VegaLite at 0x1d003f60>"
      ]
     },
     "metadata": {
      "jupyter-vega": "#4b278adc-f4a8-46db-b068-d6dfc9d4e49b"
     },
     "output_type": "display_data"
    },
    {
     "data": {
      "text/plain": []
     },
     "execution_count": 6,
     "metadata": {},
     "output_type": "execute_result"
    },
    {
     "data": {
      "image/png": "[encoded data removed]"
     },
     "metadata": {
      "jupyter-vega": "#4b278adc-f4a8-46db-b068-d6dfc9d4e49b"
     },
     "output_type": "display_data"
    }
   ],
   "source": [
    "stability_rules_layer = generate_stability_rules(flatten_raw_data, mean=0, low_limit=0, high_limit=0.2)\n",
    "\n",
    "base_line = generate_line_chart(x_title=\"Time (h:m:s)\", y_title=\"Current (mA)\", \n",
    "                                y_scale=(-0.1,0.21), time_unit=\"hoursminutesseconds\")\n",
    "\n",
    "alt.layer(base_line, stability_rules_layer, data=flatten_raw_data,\n",
    "          title=\"Current over {} seconds\".format(time_period(flatten_raw_data)),\n",
    "          width=875,\n",
    "          config={\"background\": \"white\"}\n",
    ")"
   ]
  },
  {
   "cell_type": "code",
   "execution_count": 7,
   "metadata": {},
   "outputs": [
    {
     "data": {
      "text/plain": [
       "Value    0.001443\n",
       "dtype: float64"
      ]
     },
     "execution_count": 7,
     "metadata": {},
     "output_type": "execute_result"
    }
   ],
   "source": [
    "np.std(flatten_raw_data)"
   ]
  },
  {
   "cell_type": "code",
   "execution_count": 8,
   "metadata": {},
   "outputs": [
    {
     "data": {
      "text/plain": [
       "Value    0.00046\n",
       "dtype: float64"
      ]
     },
     "execution_count": 8,
     "metadata": {},
     "output_type": "execute_result"
    }
   ],
   "source": [
    "np.mean(flatten_raw_data)"
   ]
  },
  {
   "cell_type": "markdown",
   "metadata": {},
   "source": [
    "As you can see, the data does not need any filtering and stays comfortably within the stability bound of 0.2mA."
   ]
  }
 ],
 "metadata": {
  "kernelspec": {
   "display_name": "Python 2",
   "language": "python",
   "name": "python2"
  },
  "language_info": {
   "codemirror_mode": {
    "name": "ipython",
    "version": 2
   },
   "file_extension": ".py",
   "mimetype": "text/x-python",
   "name": "python",
   "nbconvert_exporter": "python",
   "pygments_lexer": "ipython2",
   "version": "2.7.14"
  }
 },
 "nbformat": 4,
 "nbformat_minor": 2
}
