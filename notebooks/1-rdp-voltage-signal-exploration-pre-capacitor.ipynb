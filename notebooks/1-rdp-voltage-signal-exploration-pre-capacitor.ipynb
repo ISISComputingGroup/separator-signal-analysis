{
 "cells": [
  {
   "cell_type": "markdown",
   "metadata": {},
   "source": [
    "# Muon Separator Voltage Signal Exploration Pre-capacitor installation\n",
    "\n",
    "In this notebook, we explore the raw voltage signal. This data was sampled with the frequency at 1000Hz and the number of elements at 100, so the DAQ sent a packet of 100 readings to the IOC every 0.1 seconds. \n",
    "\n",
    "The aim is to see how noisy the data is and if there is a 50Hz component. The data was taken before a 0.1uF capacitor was fitted so will be extra noisy. More analysis will be needed of data post fitting the capacitor."
   ]
  },
  {
   "cell_type": "code",
   "execution_count": null,
   "metadata": {},
   "outputs": [],
   "source": [
    "import numpy as np\n",
    "import altair as alt\n",
    "import os\n",
    "import pandas as pd\n",
    "\n",
    "from src.data_processing import create_data_from_entry, calibrate_data, time_period\n",
    "from src.vizualization import LINE_COLOUR\n",
    "\n",
    "# Render altair charts correctly\n",
    "alt.renderers.enable('notebook')\n",
    "\n",
    "# Store the altair char json separately and not in the notebook to reduce\n",
    "# notebook size\n",
    "alt.data_transformers.enable('json')\n",
    "\n",
    "%load_ext autoreload\n",
    "%autoreload 2"
   ]
  },
  {
   "cell_type": "markdown",
   "metadata": {},
   "source": [
    "## Cleaning the data\n",
    "\n",
    "The raw data takes the following form:\n",
    "\n",
    "- Column 0: Time since EPOCH the reading was taken given by the python collection script `Muon-data-logger.py`.\n",
    "- Column 1-100: Data from the `DAQ:_RAW` record. The readings are the DAQ voltage readings. These readings were requested every 0.05 seconds by the `Muon-data-logger.py` python script which collected data from the IOC."
   ]
  },
  {
   "cell_type": "code",
   "execution_count": null,
   "metadata": {
    "scrolled": true
   },
   "outputs": [],
   "source": [
    "raw = pd.read_csv(os.path.join(os.getcwd(), \"..\", \"data\", \"raw\", \"muon_results.csv\"), nrows=36000, header=None)"
   ]
  },
  {
   "cell_type": "markdown",
   "metadata": {},
   "source": [
    "Now we clean the data up by changing the datetime value to a timestamp, drop any rows with duplicate values and then reset the index."
   ]
  },
  {
   "cell_type": "code",
   "execution_count": null,
   "metadata": {},
   "outputs": [],
   "source": [
    "def clean_data(dataframe):\n",
    "    \"\"\"\n",
    "    Sets the columns of the dataframe and removes duplicates\n",
    "\n",
    "    Args:\n",
    "        dataframe: Pandas data frame with columns labeled 0-101.\n",
    "            First column is a datetime EPOCH timestamp and next 100 are voltage readings.\n",
    "\n",
    "    Returns:\n",
    "        dataframe: Dataframe with converted columns and duplicates removed.\n",
    "    \"\"\"\n",
    "    dataframe[\"Datetime\"] = pd.to_datetime(dataframe[0], unit=\"s\")\n",
    "    dataframe = dataframe.drop(0, 1)\n",
    "    dataframe = dataframe.drop_duplicates(list(range(1, 100 + 1)))\n",
    "    dataframe = dataframe.reset_index(drop=True)\n",
    "    return dataframe\n",
    "\n",
    "data = clean_data(raw)\n",
    "calibrated_data = calibrate_data(data, 20)\n",
    "calibrated_data.head()"
   ]
  },
  {
   "cell_type": "code",
   "execution_count": null,
   "metadata": {},
   "outputs": [],
   "source": [
    "calibrated_data.tail()"
   ]
  },
  {
   "cell_type": "code",
   "execution_count": null,
   "metadata": {},
   "outputs": [],
   "source": [
    "calibrated_data.to_csv(os.path.join(os.getcwd(), \"..\", \"data\", \"processed\", \"pre-capactitor-raw-data.csv\"), index=False)"
   ]
  },
  {
   "cell_type": "code",
   "execution_count": null,
   "metadata": {
    "scrolled": true
   },
   "outputs": [],
   "source": [
    "def time_difference(row):\n",
    "    row[\"Datetime\"]\n",
    "\n",
    "calibrated_data.shape"
   ]
  },
  {
   "cell_type": "markdown",
   "metadata": {},
   "source": [
    "Lets now look at how the data is spread out."
   ]
  },
  {
   "cell_type": "code",
   "execution_count": null,
   "metadata": {},
   "outputs": [],
   "source": [
    "times = calibrated_data.loc[:, \"Datetime\"]\n",
    "differences = [ time2 - time1 for time1, time2 in zip(times[0:-1],times[1:]) ]\n",
    "\n",
    "pd.Series(differences[:10]).mean()"
   ]
  },
  {
   "cell_type": "code",
   "execution_count": null,
   "metadata": {},
   "outputs": [],
   "source": [
    "time_period(calibrated_data, len(calibrated_data.index) - 1)"
   ]
  },
  {
   "cell_type": "markdown",
   "metadata": {},
   "source": [
    "So we have a new data value every 0.2671 seconds spread across 1964 seconds."
   ]
  },
  {
   "cell_type": "markdown",
   "metadata": {},
   "source": [
    "\n",
    "\n",
    "## Visualizing the data\n",
    "\n",
    "First we plot the first element (column 1) of each row against the time it was collected."
   ]
  },
  {
   "cell_type": "code",
   "execution_count": null,
   "metadata": {
    "scrolled": true
   },
   "outputs": [],
   "source": [
    "base = alt.Chart().mark_line(color=LINE_COLOUR).encode(\n",
    "    x = alt.X(\"Datetime:T\", timeUnit=\"hoursminutesseconds\", title=\"Time (h:m:s)\"),\n",
    "    y = alt.Y(\"1:Q\", title=\"Voltage (kV)\", scale = alt.Scale(domain=[84, 96]))\n",
    ")\n",
    "\n",
    "alt.layer(base, data = calibrated_data,\n",
    "          title=\"Voltage over {} seconds\".format(time_period(calibrated_data, len(calibrated_data.index) - 1)),\n",
    "          config={\"background\": \"white\"},\n",
    "          width = 850\n",
    "         )"
   ]
  },
  {
   "cell_type": "markdown",
   "metadata": {},
   "source": [
    "We now plot 100 elements from the first column of each row against the time it was collected to see how the voltage behaves over a shorter time period."
   ]
  },
  {
   "cell_type": "code",
   "execution_count": null,
   "metadata": {},
   "outputs": [],
   "source": [
    "alt.layer(base, data = calibrated_data[:450],\n",
    "          title=\"Voltage readings over {} seconds\".format(time_period(calibrated_data, 450)),\n",
    "          config={\"background\": \"white\"},\n",
    "          width = 850\n",
    "         )"
   ]
  },
  {
   "cell_type": "markdown",
   "metadata": {},
   "source": [
    "## Conclusion\n",
    "\n",
    "It looks like the signal has a sine wave but it is hard to see. More analysis is required."
   ]
  }
 ],
 "metadata": {
  "kernelspec": {
   "display_name": "Python 2",
   "language": "python",
   "name": "python2"
  },
  "language_info": {
   "codemirror_mode": {
    "name": "ipython",
    "version": 2
   },
   "file_extension": ".py",
   "mimetype": "text/x-python",
   "name": "python",
   "nbconvert_exporter": "python",
   "pygments_lexer": "ipython2",
   "version": "2.7.14"
  }
 },
 "nbformat": 4,
 "nbformat_minor": 2
}
