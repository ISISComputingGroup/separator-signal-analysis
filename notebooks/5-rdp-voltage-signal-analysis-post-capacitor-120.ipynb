{
 "cells": [
  {
   "cell_type": "markdown",
   "metadata": {},
   "source": [
    "# Analysis of 140s of the Voltage Signal post-capacitor installation"
   ]
  },
  {
   "cell_type": "code",
   "execution_count": null,
   "metadata": {},
   "outputs": [],
   "source": [
    "import altair as alt\n",
    "import numpy as np\n",
    "import pandas as pd\n",
    "\n",
    "from src.data_processing import unstable_seconds, flatten_data, average_data, time_period\n",
    "from src.vizualization import generate_stability_rules, generate_line_chart\n",
    "\n",
    "# Render altair charts correctly\n",
    "alt.renderers.enable('notebook')\n",
    "\n",
    "# Store the altair char json separately and not in the notebook \n",
    "# to reduce notebook size\n",
    "alt.data_transformers.enable('json')"
   ]
  },
  {
   "cell_type": "markdown",
   "metadata": {},
   "source": [
    "## Load Data\n",
    "\n",
    "First we load the data which we cleaned and calibrated in [Notebook 4](4-rdp-voltage-signal-analysis-post-capacitor-600.ipynb)."
   ]
  },
  {
   "cell_type": "code",
   "execution_count": null,
   "metadata": {},
   "outputs": [],
   "source": [
    "data = pd.read_csv(os.path.join(os.getcwd(), \"..\", \"data\", \"processed\", \"post-capacitor-cleand-calibrated-voltage-data.csv\"), \n",
    "                   nrows=120)"
   ]
  },
  {
   "cell_type": "code",
   "execution_count": null,
   "metadata": {},
   "outputs": [],
   "source": [
    "data.head()"
   ]
  },
  {
   "cell_type": "markdown",
   "metadata": {},
   "source": [
    "## Analysis of 140 seconds\n",
    "\n",
    "### Raw Data\n",
    "\n",
    "First we analysis the raw data for 140 seconds before comparing it to what happens after filtering the data using a moving average filter."
   ]
  },
  {
   "cell_type": "code",
   "execution_count": null,
   "metadata": {},
   "outputs": [],
   "source": [
    "flatten_raw_data = flatten_data(data)"
   ]
  },
  {
   "cell_type": "code",
   "execution_count": null,
   "metadata": {},
   "outputs": [],
   "source": [
    "stability_rules_layer = generate_stability_rules(flatten_raw_data)\n",
    "\n",
    "base_line = generate_line_chart(x_title=\"Time (s:ms)\", y_title=\"Voltage (kV)\", \n",
    "                                y_scale=(89,97), time_unit=\"secondsmilliseconds\")\n",
    "\n",
    "\n",
    "alt.layer(base_line, stability_rules_layer, data=flatten_raw_data, \n",
    "          title=\"Voltage before filtering over {} seconds\".format(time_period(flatten_raw_data)),\n",
    "          width=875,\n",
    "          config={\"background\": \"white\"})"
   ]
  },
  {
   "cell_type": "markdown",
   "metadata": {},
   "source": [
    "The line chart above shows how the voltage changes over time. The green line is the mean and the red lines are the stability bounds which are 1kV above and below the mean."
   ]
  },
  {
   "cell_type": "code",
   "execution_count": null,
   "metadata": {},
   "outputs": [],
   "source": [
    "raw_mean = np.mean(flatten_raw_data)\n",
    "raw_mean"
   ]
  },
  {
   "cell_type": "code",
   "execution_count": null,
   "metadata": {},
   "outputs": [],
   "source": [
    "raw_std = np.std(flatten_raw_data)\n",
    "raw_std"
   ]
  },
  {
   "cell_type": "code",
   "execution_count": null,
   "metadata": {},
   "outputs": [],
   "source": [
    "raw_unstable_seconds = unstable_seconds(flatten_raw_data)\n",
    "raw_unstable_seconds"
   ]
  },
  {
   "cell_type": "code",
   "execution_count": null,
   "metadata": {},
   "outputs": [],
   "source": [
    "percentage_of_unstable_time = (raw_unstable_seconds/140)*100\n",
    "percentage_of_unstable_time"
   ]
  },
  {
   "cell_type": "markdown",
   "metadata": {},
   "source": [
    "The number of unstable seconds is roughly 67% of the time, meaning that the voltage signal is currently considered permanently unstable by the IOC."
   ]
  },
  {
   "cell_type": "markdown",
   "metadata": {},
   "source": [
    "## Averaged Data\n",
    "\n",
    "Now we will average the data by averaging values which are 180 degrees apart on the 50Hz wave. As this data was collected while sampling 100 elements at 100Hz (new reading every second) we need to average each pair of elements. We set the timestamp of the average to the later element's timestamp. Assuming the DAQ keeps sampling at 100Hz while sending the data to the IOC, this won't create artifacts at the ends of the packets of data."
   ]
  },
  {
   "cell_type": "code",
   "execution_count": null,
   "metadata": {},
   "outputs": [],
   "source": [
    "filtered_data = average_data(flatten_raw_data)"
   ]
  },
  {
   "cell_type": "code",
   "execution_count": null,
   "metadata": {},
   "outputs": [],
   "source": [
    "filtered_data_mean = np.mean(filtered_data)\n",
    "filtered_data_mean"
   ]
  },
  {
   "cell_type": "code",
   "execution_count": null,
   "metadata": {},
   "outputs": [],
   "source": [
    "np.std(filtered_data)"
   ]
  },
  {
   "cell_type": "code",
   "execution_count": null,
   "metadata": {},
   "outputs": [],
   "source": [
    "1- np.std(filtered_data)/np.std(flatten_raw_data)"
   ]
  },
  {
   "cell_type": "code",
   "execution_count": null,
   "metadata": {},
   "outputs": [],
   "source": [
    "averaged_stability_bounds = generate_stability_rules(filtered_data)\n",
    "\n",
    "alt.layer(base_line, averaged_stability_bounds, data=filtered_data, \n",
    "          title=\"Voltage after averaging over {} seconds\".format(time_period(filtered_data)),\n",
    "          width=875,\n",
    "          config={\"background\": \"white\"})"
   ]
  },
  {
   "cell_type": "markdown",
   "metadata": {},
   "source": [
    "The graph above shows how often the signal is outside of the stability parameters set at $\\pm1kV$ from the mean. We also see that the signal has a standard deviation of $0.156802kV$ from a mean of $93.177131kV$. This is a $93.4785\\%$ reduction of the standard deviation."
   ]
  },
  {
   "cell_type": "code",
   "execution_count": null,
   "metadata": {},
   "outputs": [],
   "source": [
    "averaged_unstable_second = unstable_seconds(filtered_data)\n",
    "averaged_unstable_second"
   ]
  },
  {
   "cell_type": "code",
   "execution_count": null,
   "metadata": {},
   "outputs": [],
   "source": [
    "1 - averaged_unstable_second/raw_unstable_seconds"
   ]
  },
  {
   "cell_type": "markdown",
   "metadata": {},
   "source": [
    "The number of unstable seconds is 0.43 seconds over this 140 second window- a 99.54% decrease in the amount of time spent unstable."
   ]
  }
 ],
 "metadata": {
  "kernelspec": {
   "display_name": "Python 2",
   "language": "python",
   "name": "python2"
  },
  "language_info": {
   "codemirror_mode": {
    "name": "ipython",
    "version": 2
   },
   "file_extension": ".py",
   "mimetype": "text/x-python",
   "name": "python",
   "nbconvert_exporter": "python",
   "pygments_lexer": "ipython2",
   "version": "2.7.14"
  }
 },
 "nbformat": 4,
 "nbformat_minor": 2
}
