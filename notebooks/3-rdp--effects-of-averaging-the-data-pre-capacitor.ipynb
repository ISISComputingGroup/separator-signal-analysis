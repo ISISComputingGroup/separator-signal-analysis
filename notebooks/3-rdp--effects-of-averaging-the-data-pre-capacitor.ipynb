{
 "cells": [
  {
   "cell_type": "markdown",
   "metadata": {},
   "source": [
    "# Effects of Averaging the data Pre Capacitor addition\n",
    "\n",
    "Now we look at analyzing the signal to work out the curve."
   ]
  },
  {
   "cell_type": "code",
   "execution_count": 1,
   "metadata": {},
   "outputs": [],
   "source": [
    "import pandas as pd\n",
    "import numpy as np\n",
    "import unittest\n",
    "import altair as alt\n",
    "\n",
    "from src.data_processing import create_data_from_entry, flatten_data\n",
    "from src.vizualization import generate_stability_rules, LINE_COLOUR\n",
    "\n",
    "# Render altair charts correctly\n",
    "alt.renderers.enable('notebook')\n",
    "\n",
    "# Store the altair char json separately and not in the notebook to reduce\n",
    "# notebook size\n",
    "alt.data_transformers.enable('json')\n",
    "\n",
    "%load_ext autoreload\n",
    "%autoreload 2"
   ]
  },
  {
   "cell_type": "markdown",
   "metadata": {},
   "source": [
    "## Load Data\n",
    "\n",
    "First we import the calibrated data found in . As we will only look at the first couple of packets of data, we only import the first 5 rows."
   ]
  },
  {
   "cell_type": "code",
   "execution_count": 2,
   "metadata": {},
   "outputs": [],
   "source": [
    "data = pd.read_csv(\"C:\\\\Users\\\\olz75487\\\\Documents\\\\muonfe\\\\data\\\\processed\\\\pre-capactitor-raw-data.csv\", nrows=6000)"
   ]
  },
  {
   "cell_type": "code",
   "execution_count": 3,
   "metadata": {},
   "outputs": [
    {
     "data": {
      "text/html": [
       "<div>\n",
       "<style scoped>\n",
       "    .dataframe tbody tr th:only-of-type {\n",
       "        vertical-align: middle;\n",
       "    }\n",
       "\n",
       "    .dataframe tbody tr th {\n",
       "        vertical-align: top;\n",
       "    }\n",
       "\n",
       "    .dataframe thead th {\n",
       "        text-align: right;\n",
       "    }\n",
       "</style>\n",
       "<table border=\"1\" class=\"dataframe\">\n",
       "  <thead>\n",
       "    <tr style=\"text-align: right;\">\n",
       "      <th></th>\n",
       "      <th>1</th>\n",
       "      <th>2</th>\n",
       "      <th>3</th>\n",
       "      <th>4</th>\n",
       "      <th>5</th>\n",
       "      <th>6</th>\n",
       "      <th>7</th>\n",
       "      <th>8</th>\n",
       "      <th>9</th>\n",
       "      <th>10</th>\n",
       "      <th>...</th>\n",
       "      <th>92</th>\n",
       "      <th>93</th>\n",
       "      <th>94</th>\n",
       "      <th>95</th>\n",
       "      <th>96</th>\n",
       "      <th>97</th>\n",
       "      <th>98</th>\n",
       "      <th>99</th>\n",
       "      <th>100</th>\n",
       "      <th>Datetime</th>\n",
       "    </tr>\n",
       "  </thead>\n",
       "  <tbody>\n",
       "    <tr>\n",
       "      <th>0</th>\n",
       "      <td>90.371049</td>\n",
       "      <td>89.006572</td>\n",
       "      <td>88.368966</td>\n",
       "      <td>87.999155</td>\n",
       "      <td>84.658099</td>\n",
       "      <td>87.297788</td>\n",
       "      <td>86.985361</td>\n",
       "      <td>87.680352</td>\n",
       "      <td>87.457190</td>\n",
       "      <td>89.784452</td>\n",
       "      <td>...</td>\n",
       "      <td>91.671765</td>\n",
       "      <td>92.385884</td>\n",
       "      <td>93.144635</td>\n",
       "      <td>94.674890</td>\n",
       "      <td>93.291285</td>\n",
       "      <td>93.986275</td>\n",
       "      <td>93.661096</td>\n",
       "      <td>93.348669</td>\n",
       "      <td>91.608005</td>\n",
       "      <td>2018-09-21 16:56:48.930999994</td>\n",
       "    </tr>\n",
       "    <tr>\n",
       "      <th>1</th>\n",
       "      <td>93.246652</td>\n",
       "      <td>91.888552</td>\n",
       "      <td>90.619716</td>\n",
       "      <td>90.434810</td>\n",
       "      <td>88.745154</td>\n",
       "      <td>87.520950</td>\n",
       "      <td>88.413599</td>\n",
       "      <td>86.175602</td>\n",
       "      <td>86.704815</td>\n",
       "      <td>86.985361</td>\n",
       "      <td>...</td>\n",
       "      <td>88.872675</td>\n",
       "      <td>89.580418</td>\n",
       "      <td>90.479442</td>\n",
       "      <td>91.454979</td>\n",
       "      <td>92.424141</td>\n",
       "      <td>92.022449</td>\n",
       "      <td>93.514447</td>\n",
       "      <td>93.578207</td>\n",
       "      <td>92.819456</td>\n",
       "      <td>2018-09-21 16:56:49.041000128</td>\n",
       "    </tr>\n",
       "    <tr>\n",
       "      <th>2</th>\n",
       "      <td>91.486860</td>\n",
       "      <td>90.913014</td>\n",
       "      <td>88.292454</td>\n",
       "      <td>88.930060</td>\n",
       "      <td>88.209565</td>\n",
       "      <td>85.537996</td>\n",
       "      <td>87.285036</td>\n",
       "      <td>86.456148</td>\n",
       "      <td>86.596422</td>\n",
       "      <td>88.171309</td>\n",
       "      <td>...</td>\n",
       "      <td>89.746195</td>\n",
       "      <td>91.620757</td>\n",
       "      <td>92.035201</td>\n",
       "      <td>92.985234</td>\n",
       "      <td>94.387967</td>\n",
       "      <td>93.928891</td>\n",
       "      <td>93.559079</td>\n",
       "      <td>94.215813</td>\n",
       "      <td>91.952312</td>\n",
       "      <td>2018-09-21 16:56:49.367999792</td>\n",
       "    </tr>\n",
       "    <tr>\n",
       "      <th>3</th>\n",
       "      <td>89.344504</td>\n",
       "      <td>91.142552</td>\n",
       "      <td>90.804621</td>\n",
       "      <td>92.749320</td>\n",
       "      <td>92.105338</td>\n",
       "      <td>94.222189</td>\n",
       "      <td>93.348669</td>\n",
       "      <td>94.107420</td>\n",
       "      <td>93.565455</td>\n",
       "      <td>92.609046</td>\n",
       "      <td>...</td>\n",
       "      <td>89.905597</td>\n",
       "      <td>89.593170</td>\n",
       "      <td>87.967275</td>\n",
       "      <td>88.062916</td>\n",
       "      <td>85.735654</td>\n",
       "      <td>87.195771</td>\n",
       "      <td>86.035328</td>\n",
       "      <td>86.851464</td>\n",
       "      <td>88.209565</td>\n",
       "      <td>2018-09-21 16:56:49.640000105</td>\n",
       "    </tr>\n",
       "    <tr>\n",
       "      <th>4</th>\n",
       "      <td>87.731360</td>\n",
       "      <td>89.452897</td>\n",
       "      <td>91.066040</td>\n",
       "      <td>92.334876</td>\n",
       "      <td>92.570790</td>\n",
       "      <td>95.204103</td>\n",
       "      <td>93.329541</td>\n",
       "      <td>93.960771</td>\n",
       "      <td>93.463438</td>\n",
       "      <td>93.093627</td>\n",
       "      <td>...</td>\n",
       "      <td>90.696228</td>\n",
       "      <td>88.713274</td>\n",
       "      <td>88.171309</td>\n",
       "      <td>88.031035</td>\n",
       "      <td>85.722901</td>\n",
       "      <td>86.857840</td>\n",
       "      <td>86.985361</td>\n",
       "      <td>86.679310</td>\n",
       "      <td>87.565583</td>\n",
       "      <td>2018-09-21 16:56:49.912999868</td>\n",
       "    </tr>\n",
       "  </tbody>\n",
       "</table>\n",
       "<p>5 rows × 101 columns</p>\n",
       "</div>"
      ],
      "text/plain": [
       "           1          2          3          4          5          6  \\\n",
       "0  90.371049  89.006572  88.368966  87.999155  84.658099  87.297788   \n",
       "1  93.246652  91.888552  90.619716  90.434810  88.745154  87.520950   \n",
       "2  91.486860  90.913014  88.292454  88.930060  88.209565  85.537996   \n",
       "3  89.344504  91.142552  90.804621  92.749320  92.105338  94.222189   \n",
       "4  87.731360  89.452897  91.066040  92.334876  92.570790  95.204103   \n",
       "\n",
       "           7          8          9         10              ...                \\\n",
       "0  86.985361  87.680352  87.457190  89.784452              ...                 \n",
       "1  88.413599  86.175602  86.704815  86.985361              ...                 \n",
       "2  87.285036  86.456148  86.596422  88.171309              ...                 \n",
       "3  93.348669  94.107420  93.565455  92.609046              ...                 \n",
       "4  93.329541  93.960771  93.463438  93.093627              ...                 \n",
       "\n",
       "          92         93         94         95         96         97  \\\n",
       "0  91.671765  92.385884  93.144635  94.674890  93.291285  93.986275   \n",
       "1  88.872675  89.580418  90.479442  91.454979  92.424141  92.022449   \n",
       "2  89.746195  91.620757  92.035201  92.985234  94.387967  93.928891   \n",
       "3  89.905597  89.593170  87.967275  88.062916  85.735654  87.195771   \n",
       "4  90.696228  88.713274  88.171309  88.031035  85.722901  86.857840   \n",
       "\n",
       "          98         99        100                       Datetime  \n",
       "0  93.661096  93.348669  91.608005  2018-09-21 16:56:48.930999994  \n",
       "1  93.514447  93.578207  92.819456  2018-09-21 16:56:49.041000128  \n",
       "2  93.559079  94.215813  91.952312  2018-09-21 16:56:49.367999792  \n",
       "3  86.035328  86.851464  88.209565  2018-09-21 16:56:49.640000105  \n",
       "4  86.985361  86.679310  87.565583  2018-09-21 16:56:49.912999868  \n",
       "\n",
       "[5 rows x 101 columns]"
      ]
     },
     "execution_count": 3,
     "metadata": {},
     "output_type": "execute_result"
    }
   ],
   "source": [
    "data.head()"
   ]
  },
  {
   "cell_type": "markdown",
   "metadata": {},
   "source": [
    "## Averaging effect\n",
    "\n",
    "The DAQ is sampling at 1000Hz collecting 100 samples before giving the data to the IOC. This happens every 0.1 second so a new sample is taken every 0.001 seconds. At 50Hz, the signal repeats every 1/50 = 0.02 seconds. So a period lasts is 20 samples. Thus to average out the 50Hz we need to average every ten samples.\n",
    "\n",
    "We create a new data set from the rolling average of two samples 0.01 seconds apart.\n",
    "\n",
    "Each element (row, col) of this data set is the average of the values (row, col) and (row, col + 10)."
   ]
  },
  {
   "cell_type": "code",
   "execution_count": 4,
   "metadata": {},
   "outputs": [
    {
     "name": "stderr",
     "output_type": "stream",
     "text": [
      "test_that_GIVEN_a_row_THEN_an_array_of_rolling_averages_is_produced (__main__.AveragingTests) ... ok\n",
      "\n",
      "----------------------------------------------------------------------\n",
      "Ran 1 test in 0.005s\n",
      "\n",
      "OK\n"
     ]
    },
    {
     "data": {
      "text/plain": [
       "<unittest.main.TestProgram at 0xaf9f438>"
      ]
     },
     "execution_count": 4,
     "metadata": {},
     "output_type": "execute_result"
    }
   ],
   "source": [
    "def create_rolling_averages(row, increment=10):\n",
    "    \"\"\"\n",
    "    Creates an array of rolling averages\n",
    "    \n",
    "    Args:\n",
    "        row (pandas series): Row of a pandas dataframe.\n",
    "        increment (int, optional): Increment of the point \n",
    "    Return:\n",
    "        averages (list): Row for a pandas dataframe with rolling averages.\n",
    "    \"\"\"\n",
    "    values = row.drop(\"Datetime\")\n",
    "    averages =  [np.mean([values[i], values[i + increment]]) for i in range(0, values.size - increment)]\n",
    "    averages.insert(0, row[\"Datetime\"])\n",
    "    return averages\n",
    "\n",
    "class AveragingTests(unittest.TestCase):\n",
    "    \n",
    "    def test_that_GIVEN_a_row_THEN_an_array_of_rolling_averages_is_produced(self):\n",
    "        # Given:\n",
    "        timestamp = datetime.datetime.utcnow()\n",
    "        row = pd.Series([1, 2, 3, 4, 5, 6, 7, 8, 9, 10, timestamp],\n",
    "                        index=[0, 1, 2, 3, 4, 5, 6, 7, 8, 9, \"Datetime\"])\n",
    "\n",
    "        # Then:\n",
    "        result = create_rolling_averages(row, increment=2)\n",
    "        expected = [timestamp, 2, 3, 4, 5, 6, 7, 8, 9]\n",
    "\n",
    "        self.assertEquals(result, expected)\n",
    "\n",
    "        \n",
    "unittest.main(argv=[''], verbosity=2, exit=False)"
   ]
  },
  {
   "cell_type": "code",
   "execution_count": 5,
   "metadata": {},
   "outputs": [
    {
     "data": {
      "text/html": [
       "<div>\n",
       "<style scoped>\n",
       "    .dataframe tbody tr th:only-of-type {\n",
       "        vertical-align: middle;\n",
       "    }\n",
       "\n",
       "    .dataframe tbody tr th {\n",
       "        vertical-align: top;\n",
       "    }\n",
       "\n",
       "    .dataframe thead th {\n",
       "        text-align: right;\n",
       "    }\n",
       "</style>\n",
       "<table border=\"1\" class=\"dataframe\">\n",
       "  <thead>\n",
       "    <tr style=\"text-align: right;\">\n",
       "      <th></th>\n",
       "      <th>Datetime</th>\n",
       "      <th>1</th>\n",
       "      <th>2</th>\n",
       "      <th>3</th>\n",
       "      <th>4</th>\n",
       "      <th>5</th>\n",
       "      <th>6</th>\n",
       "      <th>7</th>\n",
       "      <th>8</th>\n",
       "      <th>9</th>\n",
       "      <th>...</th>\n",
       "      <th>81</th>\n",
       "      <th>82</th>\n",
       "      <th>83</th>\n",
       "      <th>84</th>\n",
       "      <th>85</th>\n",
       "      <th>86</th>\n",
       "      <th>87</th>\n",
       "      <th>88</th>\n",
       "      <th>89</th>\n",
       "      <th>90</th>\n",
       "    </tr>\n",
       "  </thead>\n",
       "  <tbody>\n",
       "    <tr>\n",
       "      <th>0</th>\n",
       "      <td>2018-09-21 16:56:48.930999994</td>\n",
       "      <td>89.937477</td>\n",
       "      <td>90.307289</td>\n",
       "      <td>89.994862</td>\n",
       "      <td>90.479442</td>\n",
       "      <td>89.854588</td>\n",
       "      <td>90.284972</td>\n",
       "      <td>90.288160</td>\n",
       "      <td>91.110672</td>\n",
       "      <td>90.109631</td>\n",
       "      <td>...</td>\n",
       "      <td>90.074562</td>\n",
       "      <td>90.386989</td>\n",
       "      <td>90.425246</td>\n",
       "      <td>90.798245</td>\n",
       "      <td>90.205272</td>\n",
       "      <td>90.131947</td>\n",
       "      <td>90.603775</td>\n",
       "      <td>90.415682</td>\n",
       "      <td>90.320041</td>\n",
       "      <td>89.867340</td>\n",
       "    </tr>\n",
       "    <tr>\n",
       "      <th>1</th>\n",
       "      <td>2018-09-21 16:56:49.041000128</td>\n",
       "      <td>90.182955</td>\n",
       "      <td>90.109631</td>\n",
       "      <td>89.940665</td>\n",
       "      <td>90.508135</td>\n",
       "      <td>89.991674</td>\n",
       "      <td>90.320041</td>\n",
       "      <td>90.332793</td>\n",
       "      <td>90.128759</td>\n",
       "      <td>90.272220</td>\n",
       "      <td>...</td>\n",
       "      <td>90.122383</td>\n",
       "      <td>90.205272</td>\n",
       "      <td>90.399741</td>\n",
       "      <td>90.112819</td>\n",
       "      <td>90.163827</td>\n",
       "      <td>90.052246</td>\n",
       "      <td>90.422058</td>\n",
       "      <td>89.682435</td>\n",
       "      <td>90.444374</td>\n",
       "      <td>89.966169</td>\n",
       "    </tr>\n",
       "    <tr>\n",
       "      <th>2</th>\n",
       "      <td>2018-09-21 16:56:49.367999792</td>\n",
       "      <td>90.109631</td>\n",
       "      <td>90.345545</td>\n",
       "      <td>90.013990</td>\n",
       "      <td>90.549579</td>\n",
       "      <td>90.587835</td>\n",
       "      <td>90.457126</td>\n",
       "      <td>90.326417</td>\n",
       "      <td>90.128759</td>\n",
       "      <td>90.208460</td>\n",
       "      <td>...</td>\n",
       "      <td>89.899221</td>\n",
       "      <td>90.112819</td>\n",
       "      <td>90.240340</td>\n",
       "      <td>90.170203</td>\n",
       "      <td>90.645220</td>\n",
       "      <td>89.947041</td>\n",
       "      <td>90.575083</td>\n",
       "      <td>89.784452</td>\n",
       "      <td>90.540015</td>\n",
       "      <td>90.141511</td>\n",
       "    </tr>\n",
       "    <tr>\n",
       "      <th>3</th>\n",
       "      <td>2018-09-21 16:56:49.640000105</td>\n",
       "      <td>90.300913</td>\n",
       "      <td>90.810997</td>\n",
       "      <td>90.182955</td>\n",
       "      <td>90.409306</td>\n",
       "      <td>89.969357</td>\n",
       "      <td>89.848212</td>\n",
       "      <td>90.294537</td>\n",
       "      <td>90.128759</td>\n",
       "      <td>90.119195</td>\n",
       "      <td>...</td>\n",
       "      <td>90.399741</td>\n",
       "      <td>89.714315</td>\n",
       "      <td>90.533639</td>\n",
       "      <td>89.813144</td>\n",
       "      <td>90.125571</td>\n",
       "      <td>89.625050</td>\n",
       "      <td>90.495382</td>\n",
       "      <td>89.934289</td>\n",
       "      <td>90.422058</td>\n",
       "      <td>90.096879</td>\n",
       "    </tr>\n",
       "    <tr>\n",
       "      <th>4</th>\n",
       "      <td>2018-09-21 16:56:49.912999868</td>\n",
       "      <td>89.829084</td>\n",
       "      <td>90.141511</td>\n",
       "      <td>89.835460</td>\n",
       "      <td>90.399741</td>\n",
       "      <td>90.109631</td>\n",
       "      <td>90.106443</td>\n",
       "      <td>90.555955</td>\n",
       "      <td>90.163827</td>\n",
       "      <td>90.237152</td>\n",
       "      <td>...</td>\n",
       "      <td>90.275408</td>\n",
       "      <td>90.198896</td>\n",
       "      <td>90.135135</td>\n",
       "      <td>90.119195</td>\n",
       "      <td>90.540015</td>\n",
       "      <td>90.033118</td>\n",
       "      <td>90.205272</td>\n",
       "      <td>89.966169</td>\n",
       "      <td>90.313665</td>\n",
       "      <td>90.029930</td>\n",
       "    </tr>\n",
       "  </tbody>\n",
       "</table>\n",
       "<p>5 rows × 91 columns</p>\n",
       "</div>"
      ],
      "text/plain": [
       "                        Datetime          1          2          3          4  \\\n",
       "0  2018-09-21 16:56:48.930999994  89.937477  90.307289  89.994862  90.479442   \n",
       "1  2018-09-21 16:56:49.041000128  90.182955  90.109631  89.940665  90.508135   \n",
       "2  2018-09-21 16:56:49.367999792  90.109631  90.345545  90.013990  90.549579   \n",
       "3  2018-09-21 16:56:49.640000105  90.300913  90.810997  90.182955  90.409306   \n",
       "4  2018-09-21 16:56:49.912999868  89.829084  90.141511  89.835460  90.399741   \n",
       "\n",
       "           5          6          7          8          9    ...      \\\n",
       "0  89.854588  90.284972  90.288160  91.110672  90.109631    ...       \n",
       "1  89.991674  90.320041  90.332793  90.128759  90.272220    ...       \n",
       "2  90.587835  90.457126  90.326417  90.128759  90.208460    ...       \n",
       "3  89.969357  89.848212  90.294537  90.128759  90.119195    ...       \n",
       "4  90.109631  90.106443  90.555955  90.163827  90.237152    ...       \n",
       "\n",
       "          81         82         83         84         85         86  \\\n",
       "0  90.074562  90.386989  90.425246  90.798245  90.205272  90.131947   \n",
       "1  90.122383  90.205272  90.399741  90.112819  90.163827  90.052246   \n",
       "2  89.899221  90.112819  90.240340  90.170203  90.645220  89.947041   \n",
       "3  90.399741  89.714315  90.533639  89.813144  90.125571  89.625050   \n",
       "4  90.275408  90.198896  90.135135  90.119195  90.540015  90.033118   \n",
       "\n",
       "          87         88         89         90  \n",
       "0  90.603775  90.415682  90.320041  89.867340  \n",
       "1  90.422058  89.682435  90.444374  89.966169  \n",
       "2  90.575083  89.784452  90.540015  90.141511  \n",
       "3  90.495382  89.934289  90.422058  90.096879  \n",
       "4  90.205272  89.966169  90.313665  90.029930  \n",
       "\n",
       "[5 rows x 91 columns]"
      ]
     },
     "execution_count": 5,
     "metadata": {},
     "output_type": "execute_result"
    }
   ],
   "source": [
    "rolling_averages = data.apply(create_rolling_averages, axis=1, result_type='expand').rename(columns={0: \"Datetime\"})\n",
    "rolling_averages.head()"
   ]
  },
  {
   "cell_type": "markdown",
   "metadata": {},
   "source": [
    "## Comparsion between raw data and averaged data\n",
    "\n",
    "Lets look at how this averaging process affects the mean and standard deviation of the signal.\n",
    "\n",
    "First we flattern the non-averaged data and look at the mean and standard deviation and plot the data."
   ]
  },
  {
   "cell_type": "code",
   "execution_count": 6,
   "metadata": {},
   "outputs": [
    {
     "data": {
      "text/html": [
       "<div>\n",
       "<style scoped>\n",
       "    .dataframe tbody tr th:only-of-type {\n",
       "        vertical-align: middle;\n",
       "    }\n",
       "\n",
       "    .dataframe tbody tr th {\n",
       "        vertical-align: top;\n",
       "    }\n",
       "\n",
       "    .dataframe thead th {\n",
       "        text-align: right;\n",
       "    }\n",
       "</style>\n",
       "<table border=\"1\" class=\"dataframe\">\n",
       "  <thead>\n",
       "    <tr style=\"text-align: right;\">\n",
       "      <th></th>\n",
       "      <th>Datetime</th>\n",
       "      <th>Value</th>\n",
       "    </tr>\n",
       "  </thead>\n",
       "  <tbody>\n",
       "    <tr>\n",
       "      <th>0</th>\n",
       "      <td>2018-09-21 16:56:48.930999994</td>\n",
       "      <td>90.371049</td>\n",
       "    </tr>\n",
       "    <tr>\n",
       "      <th>1</th>\n",
       "      <td>2018-09-21 16:56:48.932099995</td>\n",
       "      <td>89.006572</td>\n",
       "    </tr>\n",
       "    <tr>\n",
       "      <th>2</th>\n",
       "      <td>2018-09-21 16:56:48.933199996</td>\n",
       "      <td>88.368966</td>\n",
       "    </tr>\n",
       "    <tr>\n",
       "      <th>3</th>\n",
       "      <td>2018-09-21 16:56:48.934299997</td>\n",
       "      <td>87.999155</td>\n",
       "    </tr>\n",
       "    <tr>\n",
       "      <th>4</th>\n",
       "      <td>2018-09-21 16:56:48.935399998</td>\n",
       "      <td>84.658099</td>\n",
       "    </tr>\n",
       "  </tbody>\n",
       "</table>\n",
       "</div>"
      ],
      "text/plain": [
       "                       Datetime      Value\n",
       "0 2018-09-21 16:56:48.930999994  90.371049\n",
       "1 2018-09-21 16:56:48.932099995  89.006572\n",
       "2 2018-09-21 16:56:48.933199996  88.368966\n",
       "3 2018-09-21 16:56:48.934299997  87.999155\n",
       "4 2018-09-21 16:56:48.935399998  84.658099"
      ]
     },
     "execution_count": 6,
     "metadata": {},
     "output_type": "execute_result"
    }
   ],
   "source": [
    "raw_data = flatten_data(data)\n",
    "raw_data.head()"
   ]
  },
  {
   "cell_type": "code",
   "execution_count": 7,
   "metadata": {},
   "outputs": [
    {
     "data": {
      "text/plain": [
       "Value    90.24125\n",
       "dtype: float64"
      ]
     },
     "execution_count": 7,
     "metadata": {},
     "output_type": "execute_result"
    }
   ],
   "source": [
    "data_mean = np.mean(raw_data)\n",
    "data_mean"
   ]
  },
  {
   "cell_type": "code",
   "execution_count": 8,
   "metadata": {},
   "outputs": [
    {
     "data": {
      "text/plain": [
       "Value    2.624633\n",
       "dtype: float64"
      ]
     },
     "execution_count": 8,
     "metadata": {},
     "output_type": "execute_result"
    }
   ],
   "source": [
    "data_std = np.std(raw_data)\n",
    "data_std"
   ]
  },
  {
   "cell_type": "code",
   "execution_count": 9,
   "metadata": {},
   "outputs": [
    {
     "data": {
      "application/javascript": [
       "var spec = {\"data\": {\"url\": \"altair-data-6055d40fa28c92e31f00840cd0270f37.json\", \"format\": {\"type\": \"json\"}}, \"layer\": [{\"mark\": {\"color\": \"#838DB7\", \"type\": \"line\"}, \"encoding\": {\"y\": {\"field\": \"Value\", \"scale\": {\"domain\": [83, 97]}, \"type\": \"quantitative\", \"title\": \"Voltage\"}, \"x\": {\"field\": \"Datetime\", \"type\": \"temporal\"}}}, {\"layer\": [{\"mark\": {\"opacity\": 0.8, \"color\": \"#469E74\", \"type\": \"rule\"}, \"encoding\": {\"y\": {\"field\": \"average\", \"type\": \"quantitative\"}, \"size\": {\"value\": 3}}}, {\"mark\": {\"opacity\": 0.8, \"color\": \"#D6726B\", \"type\": \"rule\"}, \"encoding\": {\"y\": {\"field\": \"high_limit\", \"type\": \"quantitative\"}, \"size\": {\"value\": 3}}}, {\"mark\": {\"opacity\": 0.8, \"color\": \"#D6726B\", \"type\": \"rule\"}, \"encoding\": {\"y\": {\"field\": \"low_limit\", \"type\": \"quantitative\"}, \"size\": {\"value\": 3}}}], \"data\": {\"url\": \"altair-data-4f1b0252c4f08f10f8567ce9cb5c85bd.json\", \"format\": {\"type\": \"json\"}}}], \"config\": {\"background\": \"white\", \"view\": {\"width\": 400, \"height\": 300}}, \"$schema\": \"https://vega.github.io/schema/vega-lite/v2.6.0.json\", \"title\": \"Voltage over first 600 seconds\"};\n",
       "var opt = {};\n",
       "var type = \"vega-lite\";\n",
       "var id = \"3ca92a84-9d6d-4437-b592-e1a3c01a70bf\";\n",
       "\n",
       "var output_area = this;\n",
       "\n",
       "require([\"nbextensions/jupyter-vega/index\"], function(vega) {\n",
       "  var target = document.createElement(\"div\");\n",
       "  target.id = id;\n",
       "  target.className = \"vega-embed\";\n",
       "\n",
       "  var style = document.createElement(\"style\");\n",
       "  style.textContent = [\n",
       "    \".vega-embed .error p {\",\n",
       "    \"  color: firebrick;\",\n",
       "    \"  font-size: 14px;\",\n",
       "    \"}\",\n",
       "  ].join(\"\\\\n\");\n",
       "\n",
       "  // element is a jQuery wrapped DOM element inside the output area\n",
       "  // see http://ipython.readthedocs.io/en/stable/api/generated/\\\n",
       "  // IPython.display.html#IPython.display.Javascript.__init__\n",
       "  element[0].appendChild(target);\n",
       "  element[0].appendChild(style);\n",
       "\n",
       "  vega.render(\"#\" + id, spec, type, opt, output_area);\n",
       "}, function (err) {\n",
       "  if (err.requireType !== \"scripterror\") {\n",
       "    throw(err);\n",
       "  }\n",
       "});\n"
      ],
      "text/plain": [
       "<vega.vegalite.VegaLite at 0x49bf2e8>"
      ]
     },
     "metadata": {
      "jupyter-vega": "#3ca92a84-9d6d-4437-b592-e1a3c01a70bf"
     },
     "output_type": "display_data"
    },
    {
     "data": {
      "text/plain": []
     },
     "execution_count": 9,
     "metadata": {},
     "output_type": "execute_result"
    },
    {
     "data": {
      "image/png": "[encoded data removed]"
     },
     "metadata": {
      "jupyter-vega": "#3ca92a84-9d6d-4437-b592-e1a3c01a70bf"
     },
     "output_type": "display_data"
    }
   ],
   "source": [
    "raw_stability_rules = generate_stability_rules(raw_data)\n",
    "\n",
    "base = alt.Chart().mark_line(color=LINE_COLOUR).encode(\n",
    "    x = \"Datetime:T\",\n",
    "    y = alt.Y(\"Value:Q\", scale = alt.Scale(domain=[83, 97]), title=\"Voltage\")\n",
    ")\n",
    "\n",
    "alt.layer(base, raw_stability_rules, data=raw_data, \n",
    "          title=\"Voltage over first 600 seconds\", \n",
    "          config={\"background\": \"white\"})"
   ]
  },
  {
   "cell_type": "markdown",
   "metadata": {},
   "source": [
    "Now we flattern the averaged data and look at the mean and standard deviation"
   ]
  },
  {
   "cell_type": "code",
   "execution_count": 10,
   "metadata": {},
   "outputs": [
    {
     "data": {
      "text/html": [
       "<div>\n",
       "<style scoped>\n",
       "    .dataframe tbody tr th:only-of-type {\n",
       "        vertical-align: middle;\n",
       "    }\n",
       "\n",
       "    .dataframe tbody tr th {\n",
       "        vertical-align: top;\n",
       "    }\n",
       "\n",
       "    .dataframe thead th {\n",
       "        text-align: right;\n",
       "    }\n",
       "</style>\n",
       "<table border=\"1\" class=\"dataframe\">\n",
       "  <thead>\n",
       "    <tr style=\"text-align: right;\">\n",
       "      <th></th>\n",
       "      <th>Datetime</th>\n",
       "      <th>Value</th>\n",
       "    </tr>\n",
       "  </thead>\n",
       "  <tbody>\n",
       "    <tr>\n",
       "      <th>0</th>\n",
       "      <td>2018-09-21 16:56:48.930999994</td>\n",
       "      <td>89.937477</td>\n",
       "    </tr>\n",
       "    <tr>\n",
       "      <th>1</th>\n",
       "      <td>2018-09-21 16:56:48.932099995</td>\n",
       "      <td>90.307289</td>\n",
       "    </tr>\n",
       "    <tr>\n",
       "      <th>2</th>\n",
       "      <td>2018-09-21 16:56:48.933199996</td>\n",
       "      <td>89.994862</td>\n",
       "    </tr>\n",
       "    <tr>\n",
       "      <th>3</th>\n",
       "      <td>2018-09-21 16:56:48.934299997</td>\n",
       "      <td>90.479442</td>\n",
       "    </tr>\n",
       "    <tr>\n",
       "      <th>4</th>\n",
       "      <td>2018-09-21 16:56:48.935399998</td>\n",
       "      <td>89.854588</td>\n",
       "    </tr>\n",
       "  </tbody>\n",
       "</table>\n",
       "</div>"
      ],
      "text/plain": [
       "                       Datetime      Value\n",
       "0 2018-09-21 16:56:48.930999994  89.937477\n",
       "1 2018-09-21 16:56:48.932099995  90.307289\n",
       "2 2018-09-21 16:56:48.933199996  89.994862\n",
       "3 2018-09-21 16:56:48.934299997  90.479442\n",
       "4 2018-09-21 16:56:48.935399998  89.854588"
      ]
     },
     "execution_count": 10,
     "metadata": {},
     "output_type": "execute_result"
    }
   ],
   "source": [
    "rolling_averages = flatten_data(rolling_averages)\n",
    "rolling_averages.head()"
   ]
  },
  {
   "cell_type": "code",
   "execution_count": 11,
   "metadata": {},
   "outputs": [
    {
     "data": {
      "text/plain": [
       "Value    90.241489\n",
       "dtype: float64"
      ]
     },
     "execution_count": 11,
     "metadata": {},
     "output_type": "execute_result"
    }
   ],
   "source": [
    "rolling_mean = np.mean(rolling_averages)\n",
    "rolling_mean"
   ]
  },
  {
   "cell_type": "code",
   "execution_count": 12,
   "metadata": {},
   "outputs": [
    {
     "data": {
      "text/plain": [
       "Value    0.272833\n",
       "dtype: float64"
      ]
     },
     "execution_count": 12,
     "metadata": {},
     "output_type": "execute_result"
    }
   ],
   "source": [
    "rolling_std = np.std(rolling_averages)\n",
    "rolling_std"
   ]
  },
  {
   "cell_type": "markdown",
   "metadata": {},
   "source": [
    "Lets look at the differences between the rolling average mean and standard deviation and the orginal data"
   ]
  },
  {
   "cell_type": "code",
   "execution_count": 13,
   "metadata": {},
   "outputs": [
    {
     "data": {
      "text/plain": [
       "Value   -0.000239\n",
       "dtype: float64"
      ]
     },
     "execution_count": 13,
     "metadata": {},
     "output_type": "execute_result"
    }
   ],
   "source": [
    "data_mean - rolling_mean"
   ]
  },
  {
   "cell_type": "code",
   "execution_count": 14,
   "metadata": {},
   "outputs": [
    {
     "data": {
      "text/plain": [
       "Value    0.896049\n",
       "dtype: float64"
      ]
     },
     "execution_count": 14,
     "metadata": {},
     "output_type": "execute_result"
    }
   ],
   "source": [
    "1- rolling_std/data_std"
   ]
  },
  {
   "cell_type": "code",
   "execution_count": 15,
   "metadata": {},
   "outputs": [
    {
     "data": {
      "application/javascript": [
       "var spec = {\"data\": {\"url\": \"altair-data-b5f5551c9b0709b786735cf770c1b80b.json\", \"format\": {\"type\": \"json\"}}, \"layer\": [{\"mark\": {\"color\": \"#838DB7\", \"type\": \"line\"}, \"encoding\": {\"y\": {\"field\": \"Value\", \"scale\": {\"domain\": [83, 97]}, \"type\": \"quantitative\", \"title\": \"Voltage\"}, \"x\": {\"field\": \"Datetime\", \"type\": \"temporal\"}}}, {\"layer\": [{\"mark\": {\"opacity\": 0.8, \"color\": \"#469E74\", \"type\": \"rule\"}, \"encoding\": {\"y\": {\"field\": \"average\", \"type\": \"quantitative\"}, \"size\": {\"value\": 3}}}, {\"mark\": {\"opacity\": 0.8, \"color\": \"#D6726B\", \"type\": \"rule\"}, \"encoding\": {\"y\": {\"field\": \"high_limit\", \"type\": \"quantitative\"}, \"size\": {\"value\": 3}}}, {\"mark\": {\"opacity\": 0.8, \"color\": \"#D6726B\", \"type\": \"rule\"}, \"encoding\": {\"y\": {\"field\": \"low_limit\", \"type\": \"quantitative\"}, \"size\": {\"value\": 3}}}], \"data\": {\"url\": \"altair-data-38cf4973f4dc0c6466721f43707b2a96.json\", \"format\": {\"type\": \"json\"}}}], \"config\": {\"background\": \"white\", \"view\": {\"width\": 400, \"height\": 300}}, \"$schema\": \"https://vega.github.io/schema/vega-lite/v2.6.0.json\", \"title\": \"Voltage over first 600 seconds\"};\n",
       "var opt = {};\n",
       "var type = \"vega-lite\";\n",
       "var id = \"a055889e-4cb5-4238-9380-ca429e1f0329\";\n",
       "\n",
       "var output_area = this;\n",
       "\n",
       "require([\"nbextensions/jupyter-vega/index\"], function(vega) {\n",
       "  var target = document.createElement(\"div\");\n",
       "  target.id = id;\n",
       "  target.className = \"vega-embed\";\n",
       "\n",
       "  var style = document.createElement(\"style\");\n",
       "  style.textContent = [\n",
       "    \".vega-embed .error p {\",\n",
       "    \"  color: firebrick;\",\n",
       "    \"  font-size: 14px;\",\n",
       "    \"}\",\n",
       "  ].join(\"\\\\n\");\n",
       "\n",
       "  // element is a jQuery wrapped DOM element inside the output area\n",
       "  // see http://ipython.readthedocs.io/en/stable/api/generated/\\\n",
       "  // IPython.display.html#IPython.display.Javascript.__init__\n",
       "  element[0].appendChild(target);\n",
       "  element[0].appendChild(style);\n",
       "\n",
       "  vega.render(\"#\" + id, spec, type, opt, output_area);\n",
       "}, function (err) {\n",
       "  if (err.requireType !== \"scripterror\") {\n",
       "    throw(err);\n",
       "  }\n",
       "});\n"
      ],
      "text/plain": [
       "<vega.vegalite.VegaLite at 0x25b86908>"
      ]
     },
     "metadata": {
      "jupyter-vega": "#a055889e-4cb5-4238-9380-ca429e1f0329"
     },
     "output_type": "display_data"
    },
    {
     "data": {
      "text/plain": []
     },
     "execution_count": 15,
     "metadata": {},
     "output_type": "execute_result"
    },
    {
     "data": {
      "image/png": "[encoded data removed]"
     },
     "metadata": {
      "jupyter-vega": "#a055889e-4cb5-4238-9380-ca429e1f0329"
     },
     "output_type": "display_data"
    }
   ],
   "source": [
    "averaged_stability_rules = generate_stability_rules(rolling_averages)\n",
    "\n",
    "base = alt.Chart().mark_line(color=LINE_COLOUR).encode(\n",
    "    x = \"Datetime:T\",\n",
    "    y = alt.Y(\"Value:Q\", scale = alt.Scale(domain=[83, 97]), title=\"Voltage\")\n",
    ")\n",
    "\n",
    "alt.layer(base, averaged_stability_rules, data=rolling_averages,\n",
    "          title=\"Voltage over first 600 seconds\", \n",
    "          config={\"background\": \"white\"})"
   ]
  },
  {
   "cell_type": "markdown",
   "metadata": {},
   "source": [
    "## Conclusion\n",
    "\n",
    "By averaging the samples using a rolling average to cancel the 50Hz signal we reduce the standard deviation of the signal by 89.6%. As you can see from the charts above, the signal is far smoother than before. The max and min are now very close to the stability bounds. The avearged data has only 30.9ms seconds of instability in 10 minutes."
   ]
  },
  {
   "cell_type": "code",
   "execution_count": 16,
   "metadata": {},
   "outputs": [
    {
     "data": {
      "text/plain": [
       "91.614380920000002"
      ]
     },
     "execution_count": 16,
     "metadata": {},
     "output_type": "execute_result"
    }
   ],
   "source": [
    "np.max(rolling_averages[\"Value\"])"
   ]
  },
  {
   "cell_type": "code",
   "execution_count": 17,
   "metadata": {},
   "outputs": [
    {
     "data": {
      "text/plain": [
       "88.891803299999992"
      ]
     },
     "execution_count": 17,
     "metadata": {},
     "output_type": "execute_result"
    }
   ],
   "source": [
    "np.min(rolling_averages[\"Value\"])"
   ]
  },
  {
   "cell_type": "code",
   "execution_count": 18,
   "metadata": {},
   "outputs": [
    {
     "data": {
      "text/plain": [
       "0.309"
      ]
     },
     "execution_count": 18,
     "metadata": {},
     "output_type": "execute_result"
    }
   ],
   "source": [
    "unstable_readings = rolling_averages[(rolling_averages[\"Value\"] > float(rolling_mean) + 1) |\n",
    "                                      (rolling_averages[\"Value\"] < float(rolling_mean) - 1)]\n",
    "unstable_readings[\"Value\"].size/1000.0"
   ]
  }
 ],
 "metadata": {
  "kernelspec": {
   "display_name": "Python 2",
   "language": "python",
   "name": "python2"
  },
  "language_info": {
   "codemirror_mode": {
    "name": "ipython",
    "version": 2
   },
   "file_extension": ".py",
   "mimetype": "text/x-python",
   "name": "python",
   "nbconvert_exporter": "python",
   "pygments_lexer": "ipython2",
   "version": "2.7.14"
  }
 },
 "nbformat": 4,
 "nbformat_minor": 2
}
