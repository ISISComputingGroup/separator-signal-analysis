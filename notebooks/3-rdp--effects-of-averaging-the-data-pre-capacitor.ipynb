{
 "cells": [
  {
   "cell_type": "markdown",
   "metadata": {},
   "source": [
    "# Effects of Averaging the data Pre-capacitor installation\n",
    "\n",
    "Now we look at analyzing the signal to work out the curve."
   ]
  },
  {
   "cell_type": "code",
   "execution_count": 1,
   "metadata": {
    "format": "row"
   },
   "outputs": [],
   "source": [
    "import pandas as pd\n",
    "import numpy as np\n",
    "import unittest\n",
    "import altair as alt\n",
    "\n",
    "from src.data_processing import create_data_from_entry, flatten_data, time_period, unstable_seconds\n",
    "from src.vizualization import generate_stability_rules, generate_line_chart\n",
    "\n",
    "# Render altair charts correctly\n",
    "alt.renderers.enable('notebook')\n",
    "\n",
    "# Store the altair char json separately and not in the notebook to reduce\n",
    "# notebook size\n",
    "alt.data_transformers.enable('json')\n",
    "\n",
    "%load_ext autoreload\n",
    "%autoreload 2"
   ]
  },
  {
   "cell_type": "markdown",
   "metadata": {},
   "source": [
    "## Load Data\n",
    "\n",
    "First we import the calibrated data created in [Notebook 2](2-rdp-voltage-signal-exploration-pre-capacitor.ipynb). As we will only look at the first couple of packets of data, we only import the first 2000 rows."
   ]
  },
  {
   "cell_type": "code",
   "execution_count": 2,
   "metadata": {},
   "outputs": [],
   "source": [
    "data = pd.read_csv(os.path.join(os.getcwd(), \"..\", \"data\", \"processed\", \"pre-capactitor-raw-data.csv\"), nrows=2000)"
   ]
  },
  {
   "cell_type": "code",
   "execution_count": 3,
   "metadata": {
    "scrolled": true
   },
   "outputs": [
    {
     "data": {
      "text/html": [
       "<div>\n",
       "<style scoped>\n",
       "    .dataframe tbody tr th:only-of-type {\n",
       "        vertical-align: middle;\n",
       "    }\n",
       "\n",
       "    .dataframe tbody tr th {\n",
       "        vertical-align: top;\n",
       "    }\n",
       "\n",
       "    .dataframe thead th {\n",
       "        text-align: right;\n",
       "    }\n",
       "</style>\n",
       "<table border=\"1\" class=\"dataframe\">\n",
       "  <thead>\n",
       "    <tr style=\"text-align: right;\">\n",
       "      <th></th>\n",
       "      <th>1</th>\n",
       "      <th>2</th>\n",
       "      <th>3</th>\n",
       "      <th>4</th>\n",
       "      <th>5</th>\n",
       "      <th>6</th>\n",
       "      <th>7</th>\n",
       "      <th>8</th>\n",
       "      <th>9</th>\n",
       "      <th>10</th>\n",
       "      <th>...</th>\n",
       "      <th>92</th>\n",
       "      <th>93</th>\n",
       "      <th>94</th>\n",
       "      <th>95</th>\n",
       "      <th>96</th>\n",
       "      <th>97</th>\n",
       "      <th>98</th>\n",
       "      <th>99</th>\n",
       "      <th>100</th>\n",
       "      <th>Datetime</th>\n",
       "    </tr>\n",
       "  </thead>\n",
       "  <tbody>\n",
       "    <tr>\n",
       "      <th>0</th>\n",
       "      <td>90.371049</td>\n",
       "      <td>89.006572</td>\n",
       "      <td>88.368966</td>\n",
       "      <td>87.999155</td>\n",
       "      <td>84.658099</td>\n",
       "      <td>87.297788</td>\n",
       "      <td>86.985361</td>\n",
       "      <td>87.680352</td>\n",
       "      <td>87.457190</td>\n",
       "      <td>89.784452</td>\n",
       "      <td>...</td>\n",
       "      <td>91.671765</td>\n",
       "      <td>92.385884</td>\n",
       "      <td>93.144635</td>\n",
       "      <td>94.674890</td>\n",
       "      <td>93.291285</td>\n",
       "      <td>93.986275</td>\n",
       "      <td>93.661096</td>\n",
       "      <td>93.348669</td>\n",
       "      <td>91.608005</td>\n",
       "      <td>2018-09-21 16:56:48.930999994</td>\n",
       "    </tr>\n",
       "    <tr>\n",
       "      <th>1</th>\n",
       "      <td>93.246652</td>\n",
       "      <td>91.888552</td>\n",
       "      <td>90.619716</td>\n",
       "      <td>90.434810</td>\n",
       "      <td>88.745154</td>\n",
       "      <td>87.520950</td>\n",
       "      <td>88.413599</td>\n",
       "      <td>86.175602</td>\n",
       "      <td>86.704815</td>\n",
       "      <td>86.985361</td>\n",
       "      <td>...</td>\n",
       "      <td>88.872675</td>\n",
       "      <td>89.580418</td>\n",
       "      <td>90.479442</td>\n",
       "      <td>91.454979</td>\n",
       "      <td>92.424141</td>\n",
       "      <td>92.022449</td>\n",
       "      <td>93.514447</td>\n",
       "      <td>93.578207</td>\n",
       "      <td>92.819456</td>\n",
       "      <td>2018-09-21 16:56:49.041000128</td>\n",
       "    </tr>\n",
       "    <tr>\n",
       "      <th>2</th>\n",
       "      <td>91.486860</td>\n",
       "      <td>90.913014</td>\n",
       "      <td>88.292454</td>\n",
       "      <td>88.930060</td>\n",
       "      <td>88.209565</td>\n",
       "      <td>85.537996</td>\n",
       "      <td>87.285036</td>\n",
       "      <td>86.456148</td>\n",
       "      <td>86.596422</td>\n",
       "      <td>88.171309</td>\n",
       "      <td>...</td>\n",
       "      <td>89.746195</td>\n",
       "      <td>91.620757</td>\n",
       "      <td>92.035201</td>\n",
       "      <td>92.985234</td>\n",
       "      <td>94.387967</td>\n",
       "      <td>93.928891</td>\n",
       "      <td>93.559079</td>\n",
       "      <td>94.215813</td>\n",
       "      <td>91.952312</td>\n",
       "      <td>2018-09-21 16:56:49.367999792</td>\n",
       "    </tr>\n",
       "    <tr>\n",
       "      <th>3</th>\n",
       "      <td>89.344504</td>\n",
       "      <td>91.142552</td>\n",
       "      <td>90.804621</td>\n",
       "      <td>92.749320</td>\n",
       "      <td>92.105338</td>\n",
       "      <td>94.222189</td>\n",
       "      <td>93.348669</td>\n",
       "      <td>94.107420</td>\n",
       "      <td>93.565455</td>\n",
       "      <td>92.609046</td>\n",
       "      <td>...</td>\n",
       "      <td>89.905597</td>\n",
       "      <td>89.593170</td>\n",
       "      <td>87.967275</td>\n",
       "      <td>88.062916</td>\n",
       "      <td>85.735654</td>\n",
       "      <td>87.195771</td>\n",
       "      <td>86.035328</td>\n",
       "      <td>86.851464</td>\n",
       "      <td>88.209565</td>\n",
       "      <td>2018-09-21 16:56:49.640000105</td>\n",
       "    </tr>\n",
       "    <tr>\n",
       "      <th>4</th>\n",
       "      <td>87.731360</td>\n",
       "      <td>89.452897</td>\n",
       "      <td>91.066040</td>\n",
       "      <td>92.334876</td>\n",
       "      <td>92.570790</td>\n",
       "      <td>95.204103</td>\n",
       "      <td>93.329541</td>\n",
       "      <td>93.960771</td>\n",
       "      <td>93.463438</td>\n",
       "      <td>93.093627</td>\n",
       "      <td>...</td>\n",
       "      <td>90.696228</td>\n",
       "      <td>88.713274</td>\n",
       "      <td>88.171309</td>\n",
       "      <td>88.031035</td>\n",
       "      <td>85.722901</td>\n",
       "      <td>86.857840</td>\n",
       "      <td>86.985361</td>\n",
       "      <td>86.679310</td>\n",
       "      <td>87.565583</td>\n",
       "      <td>2018-09-21 16:56:49.912999868</td>\n",
       "    </tr>\n",
       "  </tbody>\n",
       "</table>\n",
       "<p>5 rows × 101 columns</p>\n",
       "</div>"
      ],
      "text/plain": [
       "           1          2          3          4          5          6  \\\n",
       "0  90.371049  89.006572  88.368966  87.999155  84.658099  87.297788   \n",
       "1  93.246652  91.888552  90.619716  90.434810  88.745154  87.520950   \n",
       "2  91.486860  90.913014  88.292454  88.930060  88.209565  85.537996   \n",
       "3  89.344504  91.142552  90.804621  92.749320  92.105338  94.222189   \n",
       "4  87.731360  89.452897  91.066040  92.334876  92.570790  95.204103   \n",
       "\n",
       "           7          8          9         10              ...                \\\n",
       "0  86.985361  87.680352  87.457190  89.784452              ...                 \n",
       "1  88.413599  86.175602  86.704815  86.985361              ...                 \n",
       "2  87.285036  86.456148  86.596422  88.171309              ...                 \n",
       "3  93.348669  94.107420  93.565455  92.609046              ...                 \n",
       "4  93.329541  93.960771  93.463438  93.093627              ...                 \n",
       "\n",
       "          92         93         94         95         96         97  \\\n",
       "0  91.671765  92.385884  93.144635  94.674890  93.291285  93.986275   \n",
       "1  88.872675  89.580418  90.479442  91.454979  92.424141  92.022449   \n",
       "2  89.746195  91.620757  92.035201  92.985234  94.387967  93.928891   \n",
       "3  89.905597  89.593170  87.967275  88.062916  85.735654  87.195771   \n",
       "4  90.696228  88.713274  88.171309  88.031035  85.722901  86.857840   \n",
       "\n",
       "          98         99        100                       Datetime  \n",
       "0  93.661096  93.348669  91.608005  2018-09-21 16:56:48.930999994  \n",
       "1  93.514447  93.578207  92.819456  2018-09-21 16:56:49.041000128  \n",
       "2  93.559079  94.215813  91.952312  2018-09-21 16:56:49.367999792  \n",
       "3  86.035328  86.851464  88.209565  2018-09-21 16:56:49.640000105  \n",
       "4  86.985361  86.679310  87.565583  2018-09-21 16:56:49.912999868  \n",
       "\n",
       "[5 rows x 101 columns]"
      ]
     },
     "execution_count": 3,
     "metadata": {},
     "output_type": "execute_result"
    }
   ],
   "source": [
    "data.head()"
   ]
  },
  {
   "cell_type": "code",
   "execution_count": 4,
   "metadata": {},
   "outputs": [
    {
     "data": {
      "text/html": [
       "<div>\n",
       "<style scoped>\n",
       "    .dataframe tbody tr th:only-of-type {\n",
       "        vertical-align: middle;\n",
       "    }\n",
       "\n",
       "    .dataframe tbody tr th {\n",
       "        vertical-align: top;\n",
       "    }\n",
       "\n",
       "    .dataframe thead th {\n",
       "        text-align: right;\n",
       "    }\n",
       "</style>\n",
       "<table border=\"1\" class=\"dataframe\">\n",
       "  <thead>\n",
       "    <tr style=\"text-align: right;\">\n",
       "      <th></th>\n",
       "      <th>1</th>\n",
       "      <th>2</th>\n",
       "      <th>3</th>\n",
       "      <th>4</th>\n",
       "      <th>5</th>\n",
       "      <th>6</th>\n",
       "      <th>7</th>\n",
       "      <th>8</th>\n",
       "      <th>9</th>\n",
       "      <th>10</th>\n",
       "      <th>...</th>\n",
       "      <th>92</th>\n",
       "      <th>93</th>\n",
       "      <th>94</th>\n",
       "      <th>95</th>\n",
       "      <th>96</th>\n",
       "      <th>97</th>\n",
       "      <th>98</th>\n",
       "      <th>99</th>\n",
       "      <th>100</th>\n",
       "      <th>Datetime</th>\n",
       "    </tr>\n",
       "  </thead>\n",
       "  <tbody>\n",
       "    <tr>\n",
       "      <th>1995</th>\n",
       "      <td>91.518740</td>\n",
       "      <td>92.334876</td>\n",
       "      <td>93.214772</td>\n",
       "      <td>94.834291</td>\n",
       "      <td>93.667472</td>\n",
       "      <td>93.533575</td>\n",
       "      <td>93.272157</td>\n",
       "      <td>92.373132</td>\n",
       "      <td>91.244569</td>\n",
       "      <td>90.402930</td>\n",
       "      <td>...</td>\n",
       "      <td>88.451855</td>\n",
       "      <td>86.283995</td>\n",
       "      <td>87.214900</td>\n",
       "      <td>86.252114</td>\n",
       "      <td>87.546455</td>\n",
       "      <td>87.661224</td>\n",
       "      <td>89.401888</td>\n",
       "      <td>88.910931</td>\n",
       "      <td>90.772741</td>\n",
       "      <td>2018-09-21 17:06:14.700999975</td>\n",
       "    </tr>\n",
       "    <tr>\n",
       "      <th>1996</th>\n",
       "      <td>88.636761</td>\n",
       "      <td>87.240404</td>\n",
       "      <td>85.767534</td>\n",
       "      <td>87.610215</td>\n",
       "      <td>86.660182</td>\n",
       "      <td>86.889720</td>\n",
       "      <td>88.254197</td>\n",
       "      <td>89.248863</td>\n",
       "      <td>90.326417</td>\n",
       "      <td>91.977816</td>\n",
       "      <td>...</td>\n",
       "      <td>94.177557</td>\n",
       "      <td>93.010738</td>\n",
       "      <td>94.694018</td>\n",
       "      <td>92.813080</td>\n",
       "      <td>92.857713</td>\n",
       "      <td>91.608005</td>\n",
       "      <td>91.442227</td>\n",
       "      <td>88.949188</td>\n",
       "      <td>89.185102</td>\n",
       "      <td>2018-09-21 17:06:14.973999977</td>\n",
       "    </tr>\n",
       "    <tr>\n",
       "      <th>1997</th>\n",
       "      <td>93.106379</td>\n",
       "      <td>96.237024</td>\n",
       "      <td>92.864089</td>\n",
       "      <td>93.552703</td>\n",
       "      <td>93.514447</td>\n",
       "      <td>93.552703</td>\n",
       "      <td>92.347628</td>\n",
       "      <td>90.938519</td>\n",
       "      <td>88.515616</td>\n",
       "      <td>88.553872</td>\n",
       "      <td>...</td>\n",
       "      <td>86.985361</td>\n",
       "      <td>87.214900</td>\n",
       "      <td>86.570917</td>\n",
       "      <td>88.439103</td>\n",
       "      <td>87.897138</td>\n",
       "      <td>88.145804</td>\n",
       "      <td>90.179767</td>\n",
       "      <td>91.824791</td>\n",
       "      <td>91.168057</td>\n",
       "      <td>2018-09-21 17:06:15.302000046</td>\n",
       "    </tr>\n",
       "    <tr>\n",
       "      <th>1998</th>\n",
       "      <td>88.349838</td>\n",
       "      <td>87.425309</td>\n",
       "      <td>85.410475</td>\n",
       "      <td>87.112883</td>\n",
       "      <td>86.781327</td>\n",
       "      <td>87.253156</td>\n",
       "      <td>88.668641</td>\n",
       "      <td>89.032077</td>\n",
       "      <td>91.155305</td>\n",
       "      <td>91.410347</td>\n",
       "      <td>...</td>\n",
       "      <td>93.692976</td>\n",
       "      <td>93.406054</td>\n",
       "      <td>94.088292</td>\n",
       "      <td>93.074499</td>\n",
       "      <td>92.813080</td>\n",
       "      <td>91.467732</td>\n",
       "      <td>91.321082</td>\n",
       "      <td>89.344504</td>\n",
       "      <td>89.223358</td>\n",
       "      <td>2018-09-21 17:06:15.573999882</td>\n",
       "    </tr>\n",
       "    <tr>\n",
       "      <th>1999</th>\n",
       "      <td>85.302082</td>\n",
       "      <td>87.412557</td>\n",
       "      <td>86.532661</td>\n",
       "      <td>86.545413</td>\n",
       "      <td>88.171309</td>\n",
       "      <td>88.910931</td>\n",
       "      <td>90.052246</td>\n",
       "      <td>91.869423</td>\n",
       "      <td>92.972482</td>\n",
       "      <td>92.577166</td>\n",
       "      <td>...</td>\n",
       "      <td>93.342293</td>\n",
       "      <td>92.940601</td>\n",
       "      <td>92.392260</td>\n",
       "      <td>91.920432</td>\n",
       "      <td>90.766365</td>\n",
       "      <td>90.090503</td>\n",
       "      <td>88.687769</td>\n",
       "      <td>87.980027</td>\n",
       "      <td>86.762199</td>\n",
       "      <td>2018-09-21 17:06:15.845999956</td>\n",
       "    </tr>\n",
       "  </tbody>\n",
       "</table>\n",
       "<p>5 rows × 101 columns</p>\n",
       "</div>"
      ],
      "text/plain": [
       "              1          2          3          4          5          6  \\\n",
       "1995  91.518740  92.334876  93.214772  94.834291  93.667472  93.533575   \n",
       "1996  88.636761  87.240404  85.767534  87.610215  86.660182  86.889720   \n",
       "1997  93.106379  96.237024  92.864089  93.552703  93.514447  93.552703   \n",
       "1998  88.349838  87.425309  85.410475  87.112883  86.781327  87.253156   \n",
       "1999  85.302082  87.412557  86.532661  86.545413  88.171309  88.910931   \n",
       "\n",
       "              7          8          9         10  \\\n",
       "1995  93.272157  92.373132  91.244569  90.402930   \n",
       "1996  88.254197  89.248863  90.326417  91.977816   \n",
       "1997  92.347628  90.938519  88.515616  88.553872   \n",
       "1998  88.668641  89.032077  91.155305  91.410347   \n",
       "1999  90.052246  91.869423  92.972482  92.577166   \n",
       "\n",
       "                  ...                       92         93         94  \\\n",
       "1995              ...                88.451855  86.283995  87.214900   \n",
       "1996              ...                94.177557  93.010738  94.694018   \n",
       "1997              ...                86.985361  87.214900  86.570917   \n",
       "1998              ...                93.692976  93.406054  94.088292   \n",
       "1999              ...                93.342293  92.940601  92.392260   \n",
       "\n",
       "             95         96         97         98         99        100  \\\n",
       "1995  86.252114  87.546455  87.661224  89.401888  88.910931  90.772741   \n",
       "1996  92.813080  92.857713  91.608005  91.442227  88.949188  89.185102   \n",
       "1997  88.439103  87.897138  88.145804  90.179767  91.824791  91.168057   \n",
       "1998  93.074499  92.813080  91.467732  91.321082  89.344504  89.223358   \n",
       "1999  91.920432  90.766365  90.090503  88.687769  87.980027  86.762199   \n",
       "\n",
       "                           Datetime  \n",
       "1995  2018-09-21 17:06:14.700999975  \n",
       "1996  2018-09-21 17:06:14.973999977  \n",
       "1997  2018-09-21 17:06:15.302000046  \n",
       "1998  2018-09-21 17:06:15.573999882  \n",
       "1999  2018-09-21 17:06:15.845999956  \n",
       "\n",
       "[5 rows x 101 columns]"
      ]
     },
     "execution_count": 4,
     "metadata": {},
     "output_type": "execute_result"
    }
   ],
   "source": [
    "data.tail()"
   ]
  },
  {
   "cell_type": "markdown",
   "metadata": {},
   "source": [
    "## Averaging effect\n",
    "\n",
    "The DAQ is sampling at 1000Hz collecting 100 samples before the DAQ sends the data to the IOC. This happens every 0.1 second so a new sample is taken every 1 millisecond.  As we are sampling at 1000Hz, we preserve the frequencies less than 500Hz (the Nyquist frequency). \n",
    "\n",
    "We now want to filter out the 50Hz signal. The 50Hz signal repeats every 1/50s = 20ms, so the 50Hz signal repeats every  20 samples. Thus, to alias out the 50Hz we need to average 2 samples which are ten samples apart.\n",
    "\n",
    "We will now create a new data set where one row corresponds to the value generated by averaging 2 samples which are ten samples apart. Each non-datetime element (row, col) of this data set is the average of the values (row, col) and (row, col + 10)."
   ]
  },
  {
   "cell_type": "code",
   "execution_count": 5,
   "metadata": {},
   "outputs": [
    {
     "name": "stderr",
     "output_type": "stream",
     "text": [
      "test_that_GIVEN_a_row_THEN_an_array_of_rolling_averages_is_produced (__main__.AveragingTests) ... ok\n",
      "\n",
      "----------------------------------------------------------------------\n",
      "Ran 1 test in 0.004s\n",
      "\n",
      "OK\n"
     ]
    },
    {
     "data": {
      "text/plain": [
       "<unittest.main.TestProgram at 0xaf5a5f8>"
      ]
     },
     "execution_count": 5,
     "metadata": {},
     "output_type": "execute_result"
    }
   ],
   "source": [
    "def create_rolling_averages(row, increment=10):\n",
    "    \"\"\"\n",
    "    Creates an array of rolling averages\n",
    "    \n",
    "    Args:\n",
    "        row (pandas series): Row of a pandas dataframe.\n",
    "        increment (int, optional): Increment of the point \n",
    "    Return:\n",
    "        averages (list): Row for a pandas dataframe with rolling averages.\n",
    "    \"\"\"\n",
    "    values = row.drop(\"Datetime\")\n",
    "    averages =  [np.mean([values[i], values[i + increment]]) for i in range(0, values.size - increment)]\n",
    "    averages.insert(0, row[\"Datetime\"])\n",
    "    return averages\n",
    "\n",
    "class AveragingTests(unittest.TestCase):\n",
    "    \n",
    "    def test_that_GIVEN_a_row_THEN_an_array_of_rolling_averages_is_produced(self):\n",
    "        # Given:\n",
    "        timestamp = datetime.datetime.utcnow()\n",
    "        row = pd.Series([1, 2, 3, 4, 5, 6, 7, 8, 9, 10, timestamp],\n",
    "                        index=[0, 1, 2, 3, 4, 5, 6, 7, 8, 9, \"Datetime\"])\n",
    "\n",
    "        # Then:\n",
    "        result = create_rolling_averages(row, increment=2)\n",
    "        expected = [timestamp, 2, 3, 4, 5, 6, 7, 8, 9]\n",
    "\n",
    "        self.assertEquals(result, expected)\n",
    "\n",
    "        \n",
    "unittest.main(argv=[''], verbosity=2, exit=False)"
   ]
  },
  {
   "cell_type": "code",
   "execution_count": 6,
   "metadata": {},
   "outputs": [
    {
     "data": {
      "text/html": [
       "<div>\n",
       "<style scoped>\n",
       "    .dataframe tbody tr th:only-of-type {\n",
       "        vertical-align: middle;\n",
       "    }\n",
       "\n",
       "    .dataframe tbody tr th {\n",
       "        vertical-align: top;\n",
       "    }\n",
       "\n",
       "    .dataframe thead th {\n",
       "        text-align: right;\n",
       "    }\n",
       "</style>\n",
       "<table border=\"1\" class=\"dataframe\">\n",
       "  <thead>\n",
       "    <tr style=\"text-align: right;\">\n",
       "      <th></th>\n",
       "      <th>Datetime</th>\n",
       "      <th>1</th>\n",
       "      <th>2</th>\n",
       "      <th>3</th>\n",
       "      <th>4</th>\n",
       "      <th>5</th>\n",
       "      <th>6</th>\n",
       "      <th>7</th>\n",
       "      <th>8</th>\n",
       "      <th>9</th>\n",
       "      <th>...</th>\n",
       "      <th>81</th>\n",
       "      <th>82</th>\n",
       "      <th>83</th>\n",
       "      <th>84</th>\n",
       "      <th>85</th>\n",
       "      <th>86</th>\n",
       "      <th>87</th>\n",
       "      <th>88</th>\n",
       "      <th>89</th>\n",
       "      <th>90</th>\n",
       "    </tr>\n",
       "  </thead>\n",
       "  <tbody>\n",
       "    <tr>\n",
       "      <th>0</th>\n",
       "      <td>2018-09-21 16:56:48.930999994</td>\n",
       "      <td>89.937477</td>\n",
       "      <td>90.307289</td>\n",
       "      <td>89.994862</td>\n",
       "      <td>90.479442</td>\n",
       "      <td>89.854588</td>\n",
       "      <td>90.284972</td>\n",
       "      <td>90.288160</td>\n",
       "      <td>91.110672</td>\n",
       "      <td>90.109631</td>\n",
       "      <td>...</td>\n",
       "      <td>90.074562</td>\n",
       "      <td>90.386989</td>\n",
       "      <td>90.425246</td>\n",
       "      <td>90.798245</td>\n",
       "      <td>90.205272</td>\n",
       "      <td>90.131947</td>\n",
       "      <td>90.603775</td>\n",
       "      <td>90.415682</td>\n",
       "      <td>90.320041</td>\n",
       "      <td>89.867340</td>\n",
       "    </tr>\n",
       "    <tr>\n",
       "      <th>1</th>\n",
       "      <td>2018-09-21 16:56:49.041000128</td>\n",
       "      <td>90.182955</td>\n",
       "      <td>90.109631</td>\n",
       "      <td>89.940665</td>\n",
       "      <td>90.508135</td>\n",
       "      <td>89.991674</td>\n",
       "      <td>90.320041</td>\n",
       "      <td>90.332793</td>\n",
       "      <td>90.128759</td>\n",
       "      <td>90.272220</td>\n",
       "      <td>...</td>\n",
       "      <td>90.122383</td>\n",
       "      <td>90.205272</td>\n",
       "      <td>90.399741</td>\n",
       "      <td>90.112819</td>\n",
       "      <td>90.163827</td>\n",
       "      <td>90.052246</td>\n",
       "      <td>90.422058</td>\n",
       "      <td>89.682435</td>\n",
       "      <td>90.444374</td>\n",
       "      <td>89.966169</td>\n",
       "    </tr>\n",
       "    <tr>\n",
       "      <th>2</th>\n",
       "      <td>2018-09-21 16:56:49.367999792</td>\n",
       "      <td>90.109631</td>\n",
       "      <td>90.345545</td>\n",
       "      <td>90.013990</td>\n",
       "      <td>90.549579</td>\n",
       "      <td>90.587835</td>\n",
       "      <td>90.457126</td>\n",
       "      <td>90.326417</td>\n",
       "      <td>90.128759</td>\n",
       "      <td>90.208460</td>\n",
       "      <td>...</td>\n",
       "      <td>89.899221</td>\n",
       "      <td>90.112819</td>\n",
       "      <td>90.240340</td>\n",
       "      <td>90.170203</td>\n",
       "      <td>90.645220</td>\n",
       "      <td>89.947041</td>\n",
       "      <td>90.575083</td>\n",
       "      <td>89.784452</td>\n",
       "      <td>90.540015</td>\n",
       "      <td>90.141511</td>\n",
       "    </tr>\n",
       "    <tr>\n",
       "      <th>3</th>\n",
       "      <td>2018-09-21 16:56:49.640000105</td>\n",
       "      <td>90.300913</td>\n",
       "      <td>90.810997</td>\n",
       "      <td>90.182955</td>\n",
       "      <td>90.409306</td>\n",
       "      <td>89.969357</td>\n",
       "      <td>89.848212</td>\n",
       "      <td>90.294537</td>\n",
       "      <td>90.128759</td>\n",
       "      <td>90.119195</td>\n",
       "      <td>...</td>\n",
       "      <td>90.399741</td>\n",
       "      <td>89.714315</td>\n",
       "      <td>90.533639</td>\n",
       "      <td>89.813144</td>\n",
       "      <td>90.125571</td>\n",
       "      <td>89.625050</td>\n",
       "      <td>90.495382</td>\n",
       "      <td>89.934289</td>\n",
       "      <td>90.422058</td>\n",
       "      <td>90.096879</td>\n",
       "    </tr>\n",
       "    <tr>\n",
       "      <th>4</th>\n",
       "      <td>2018-09-21 16:56:49.912999868</td>\n",
       "      <td>89.829084</td>\n",
       "      <td>90.141511</td>\n",
       "      <td>89.835460</td>\n",
       "      <td>90.399741</td>\n",
       "      <td>90.109631</td>\n",
       "      <td>90.106443</td>\n",
       "      <td>90.555955</td>\n",
       "      <td>90.163827</td>\n",
       "      <td>90.237152</td>\n",
       "      <td>...</td>\n",
       "      <td>90.275408</td>\n",
       "      <td>90.198896</td>\n",
       "      <td>90.135135</td>\n",
       "      <td>90.119195</td>\n",
       "      <td>90.540015</td>\n",
       "      <td>90.033118</td>\n",
       "      <td>90.205272</td>\n",
       "      <td>89.966169</td>\n",
       "      <td>90.313665</td>\n",
       "      <td>90.029930</td>\n",
       "    </tr>\n",
       "  </tbody>\n",
       "</table>\n",
       "<p>5 rows × 91 columns</p>\n",
       "</div>"
      ],
      "text/plain": [
       "                        Datetime          1          2          3          4  \\\n",
       "0  2018-09-21 16:56:48.930999994  89.937477  90.307289  89.994862  90.479442   \n",
       "1  2018-09-21 16:56:49.041000128  90.182955  90.109631  89.940665  90.508135   \n",
       "2  2018-09-21 16:56:49.367999792  90.109631  90.345545  90.013990  90.549579   \n",
       "3  2018-09-21 16:56:49.640000105  90.300913  90.810997  90.182955  90.409306   \n",
       "4  2018-09-21 16:56:49.912999868  89.829084  90.141511  89.835460  90.399741   \n",
       "\n",
       "           5          6          7          8          9    ...      \\\n",
       "0  89.854588  90.284972  90.288160  91.110672  90.109631    ...       \n",
       "1  89.991674  90.320041  90.332793  90.128759  90.272220    ...       \n",
       "2  90.587835  90.457126  90.326417  90.128759  90.208460    ...       \n",
       "3  89.969357  89.848212  90.294537  90.128759  90.119195    ...       \n",
       "4  90.109631  90.106443  90.555955  90.163827  90.237152    ...       \n",
       "\n",
       "          81         82         83         84         85         86  \\\n",
       "0  90.074562  90.386989  90.425246  90.798245  90.205272  90.131947   \n",
       "1  90.122383  90.205272  90.399741  90.112819  90.163827  90.052246   \n",
       "2  89.899221  90.112819  90.240340  90.170203  90.645220  89.947041   \n",
       "3  90.399741  89.714315  90.533639  89.813144  90.125571  89.625050   \n",
       "4  90.275408  90.198896  90.135135  90.119195  90.540015  90.033118   \n",
       "\n",
       "          87         88         89         90  \n",
       "0  90.603775  90.415682  90.320041  89.867340  \n",
       "1  90.422058  89.682435  90.444374  89.966169  \n",
       "2  90.575083  89.784452  90.540015  90.141511  \n",
       "3  90.495382  89.934289  90.422058  90.096879  \n",
       "4  90.205272  89.966169  90.313665  90.029930  \n",
       "\n",
       "[5 rows x 91 columns]"
      ]
     },
     "execution_count": 6,
     "metadata": {},
     "output_type": "execute_result"
    }
   ],
   "source": [
    "filtered_data = data.apply(create_rolling_averages, axis=1, result_type='expand').rename(columns={0: \"Datetime\"})\n",
    "filtered_data.head()"
   ]
  },
  {
   "cell_type": "markdown",
   "metadata": {},
   "source": [
    "## Comparison between raw data and filtered data\n",
    "\n",
    "Lets look at how the filtering affects the mean and standard deviation of the signal.\n",
    "\n",
    "First, we flatten the raw data and look at the mean and standard deviation and plot the data."
   ]
  },
  {
   "cell_type": "code",
   "execution_count": 7,
   "metadata": {},
   "outputs": [
    {
     "data": {
      "text/html": [
       "<div>\n",
       "<style scoped>\n",
       "    .dataframe tbody tr th:only-of-type {\n",
       "        vertical-align: middle;\n",
       "    }\n",
       "\n",
       "    .dataframe tbody tr th {\n",
       "        vertical-align: top;\n",
       "    }\n",
       "\n",
       "    .dataframe thead th {\n",
       "        text-align: right;\n",
       "    }\n",
       "</style>\n",
       "<table border=\"1\" class=\"dataframe\">\n",
       "  <thead>\n",
       "    <tr style=\"text-align: right;\">\n",
       "      <th></th>\n",
       "      <th>Datetime</th>\n",
       "      <th>Value</th>\n",
       "    </tr>\n",
       "  </thead>\n",
       "  <tbody>\n",
       "    <tr>\n",
       "      <th>0</th>\n",
       "      <td>2018-09-21 16:56:48.930999994</td>\n",
       "      <td>90.371049</td>\n",
       "    </tr>\n",
       "    <tr>\n",
       "      <th>1</th>\n",
       "      <td>2018-09-21 16:56:48.932099995</td>\n",
       "      <td>89.006572</td>\n",
       "    </tr>\n",
       "    <tr>\n",
       "      <th>2</th>\n",
       "      <td>2018-09-21 16:56:48.933199996</td>\n",
       "      <td>88.368966</td>\n",
       "    </tr>\n",
       "    <tr>\n",
       "      <th>3</th>\n",
       "      <td>2018-09-21 16:56:48.934299997</td>\n",
       "      <td>87.999155</td>\n",
       "    </tr>\n",
       "    <tr>\n",
       "      <th>4</th>\n",
       "      <td>2018-09-21 16:56:48.935399998</td>\n",
       "      <td>84.658099</td>\n",
       "    </tr>\n",
       "  </tbody>\n",
       "</table>\n",
       "</div>"
      ],
      "text/plain": [
       "                       Datetime      Value\n",
       "0 2018-09-21 16:56:48.930999994  90.371049\n",
       "1 2018-09-21 16:56:48.932099995  89.006572\n",
       "2 2018-09-21 16:56:48.933199996  88.368966\n",
       "3 2018-09-21 16:56:48.934299997  87.999155\n",
       "4 2018-09-21 16:56:48.935399998  84.658099"
      ]
     },
     "execution_count": 7,
     "metadata": {},
     "output_type": "execute_result"
    }
   ],
   "source": [
    "raw_data = flatten_data(data)\n",
    "raw_data.head()"
   ]
  },
  {
   "cell_type": "code",
   "execution_count": 8,
   "metadata": {},
   "outputs": [
    {
     "data": {
      "text/plain": [
       "(199900, 2)"
      ]
     },
     "execution_count": 8,
     "metadata": {},
     "output_type": "execute_result"
    }
   ],
   "source": [
    "raw_data.shape"
   ]
  },
  {
   "cell_type": "code",
   "execution_count": 9,
   "metadata": {},
   "outputs": [
    {
     "data": {
      "text/plain": [
       "Value    90.241201\n",
       "dtype: float64"
      ]
     },
     "execution_count": 9,
     "metadata": {},
     "output_type": "execute_result"
    }
   ],
   "source": [
    "data_mean = np.mean(raw_data)\n",
    "data_mean"
   ]
  },
  {
   "cell_type": "code",
   "execution_count": 10,
   "metadata": {},
   "outputs": [
    {
     "data": {
      "text/plain": [
       "Value    2.627201\n",
       "dtype: float64"
      ]
     },
     "execution_count": 10,
     "metadata": {},
     "output_type": "execute_result"
    }
   ],
   "source": [
    "data_std = np.std(raw_data)\n",
    "data_std"
   ]
  },
  {
   "cell_type": "code",
   "execution_count": 11,
   "metadata": {},
   "outputs": [
    {
     "data": {
      "application/javascript": [
       "var spec = {\"layer\": [{\"mark\": {\"color\": \"#7570b3\", \"type\": \"line\"}, \"encoding\": {\"y\": {\"field\": \"Value\", \"scale\": {\"domain\": [83, 97]}, \"type\": \"quantitative\", \"title\": \"Voltage (kV)\"}, \"x\": {\"field\": \"Datetime\", \"timeUnit\": \"hoursminutesseconds\", \"type\": \"temporal\", \"title\": \"Time (s:ms)\"}}}, {\"layer\": [{\"mark\": {\"opacity\": 1, \"color\": \"#1b9e77\", \"type\": \"rule\"}, \"encoding\": {\"y\": {\"field\": \"average\", \"type\": \"quantitative\"}, \"size\": {\"value\": 3}}}, {\"mark\": {\"opacity\": 1, \"color\": \"#d95f02\", \"type\": \"rule\"}, \"encoding\": {\"y\": {\"field\": \"high_limit\", \"type\": \"quantitative\"}, \"size\": {\"value\": 3}}}, {\"mark\": {\"opacity\": 1, \"color\": \"#d95f02\", \"type\": \"rule\"}, \"encoding\": {\"y\": {\"field\": \"low_limit\", \"type\": \"quantitative\"}, \"size\": {\"value\": 3}}}], \"data\": {\"url\": \"altair-data-dc91015c91b05e981dc1a8047f494883.json\", \"format\": {\"type\": \"json\"}}}], \"title\": \"Voltage over 566 seconds before filtering\", \"config\": {\"background\": \"white\", \"view\": {\"width\": 400, \"height\": 300}}, \"width\": 875, \"$schema\": \"https://vega.github.io/schema/vega-lite/v2.6.0.json\", \"data\": {\"url\": \"altair-data-7f8db87e6a1a0c54dc49ed67d0efeb45.json\", \"format\": {\"type\": \"json\"}}};\n",
       "var opt = {};\n",
       "var type = \"vega-lite\";\n",
       "var id = \"f39c34be-f36a-45e2-b445-4125aa971418\";\n",
       "\n",
       "var output_area = this;\n",
       "\n",
       "require([\"nbextensions/jupyter-vega/index\"], function(vega) {\n",
       "  var target = document.createElement(\"div\");\n",
       "  target.id = id;\n",
       "  target.className = \"vega-embed\";\n",
       "\n",
       "  var style = document.createElement(\"style\");\n",
       "  style.textContent = [\n",
       "    \".vega-embed .error p {\",\n",
       "    \"  color: firebrick;\",\n",
       "    \"  font-size: 14px;\",\n",
       "    \"}\",\n",
       "  ].join(\"\\\\n\");\n",
       "\n",
       "  // element is a jQuery wrapped DOM element inside the output area\n",
       "  // see http://ipython.readthedocs.io/en/stable/api/generated/\\\n",
       "  // IPython.display.html#IPython.display.Javascript.__init__\n",
       "  element[0].appendChild(target);\n",
       "  element[0].appendChild(style);\n",
       "\n",
       "  vega.render(\"#\" + id, spec, type, opt, output_area);\n",
       "}, function (err) {\n",
       "  if (err.requireType !== \"scripterror\") {\n",
       "    throw(err);\n",
       "  }\n",
       "});\n"
      ],
      "text/plain": [
       "<vega.vegalite.VegaLite at 0x1db61b00>"
      ]
     },
     "metadata": {
      "jupyter-vega": "#f39c34be-f36a-45e2-b445-4125aa971418"
     },
     "output_type": "display_data"
    },
    {
     "data": {
      "text/plain": []
     },
     "execution_count": 11,
     "metadata": {},
     "output_type": "execute_result"
    },
    {
     "data": {
      "image/png": "[encoded data removed]"
     },
     "metadata": {
      "jupyter-vega": "#f39c34be-f36a-45e2-b445-4125aa971418"
     },
     "output_type": "display_data"
    }
   ],
   "source": [
    "raw_stability_rules = generate_stability_rules(raw_data)\n",
    "base = generate_line_chart(x_title=\"Time (s:ms)\", y_title=\"Voltage (kV)\",  time_unit=\"hoursminutesseconds\")\n",
    "\n",
    "alt.layer(base, raw_stability_rules, data=raw_data, \n",
    "          title=\"Voltage over {} seconds before filtering\".format(time_period(raw_data)), \n",
    "          config={\"background\": \"white\"},\n",
    "          width = 875\n",
    "         )"
   ]
  },
  {
   "cell_type": "markdown",
   "metadata": {},
   "source": [
    "Now we flatten the filtered data and look at the mean and standard deviation"
   ]
  },
  {
   "cell_type": "code",
   "execution_count": 12,
   "metadata": {},
   "outputs": [
    {
     "data": {
      "text/html": [
       "<div>\n",
       "<style scoped>\n",
       "    .dataframe tbody tr th:only-of-type {\n",
       "        vertical-align: middle;\n",
       "    }\n",
       "\n",
       "    .dataframe tbody tr th {\n",
       "        vertical-align: top;\n",
       "    }\n",
       "\n",
       "    .dataframe thead th {\n",
       "        text-align: right;\n",
       "    }\n",
       "</style>\n",
       "<table border=\"1\" class=\"dataframe\">\n",
       "  <thead>\n",
       "    <tr style=\"text-align: right;\">\n",
       "      <th></th>\n",
       "      <th>Datetime</th>\n",
       "      <th>Value</th>\n",
       "    </tr>\n",
       "  </thead>\n",
       "  <tbody>\n",
       "    <tr>\n",
       "      <th>0</th>\n",
       "      <td>2018-09-21 16:56:48.930999994</td>\n",
       "      <td>89.937477</td>\n",
       "    </tr>\n",
       "    <tr>\n",
       "      <th>1</th>\n",
       "      <td>2018-09-21 16:56:48.932099995</td>\n",
       "      <td>90.307289</td>\n",
       "    </tr>\n",
       "    <tr>\n",
       "      <th>2</th>\n",
       "      <td>2018-09-21 16:56:48.933199996</td>\n",
       "      <td>89.994862</td>\n",
       "    </tr>\n",
       "    <tr>\n",
       "      <th>3</th>\n",
       "      <td>2018-09-21 16:56:48.934299997</td>\n",
       "      <td>90.479442</td>\n",
       "    </tr>\n",
       "    <tr>\n",
       "      <th>4</th>\n",
       "      <td>2018-09-21 16:56:48.935399998</td>\n",
       "      <td>89.854588</td>\n",
       "    </tr>\n",
       "  </tbody>\n",
       "</table>\n",
       "</div>"
      ],
      "text/plain": [
       "                       Datetime      Value\n",
       "0 2018-09-21 16:56:48.930999994  89.937477\n",
       "1 2018-09-21 16:56:48.932099995  90.307289\n",
       "2 2018-09-21 16:56:48.933199996  89.994862\n",
       "3 2018-09-21 16:56:48.934299997  90.479442\n",
       "4 2018-09-21 16:56:48.935399998  89.854588"
      ]
     },
     "execution_count": 12,
     "metadata": {},
     "output_type": "execute_result"
    }
   ],
   "source": [
    "filtered_data = flatten_data(filtered_data)\n",
    "filtered_data.head()"
   ]
  },
  {
   "cell_type": "code",
   "execution_count": 13,
   "metadata": {},
   "outputs": [
    {
     "data": {
      "text/html": [
       "<div>\n",
       "<style scoped>\n",
       "    .dataframe tbody tr th:only-of-type {\n",
       "        vertical-align: middle;\n",
       "    }\n",
       "\n",
       "    .dataframe tbody tr th {\n",
       "        vertical-align: top;\n",
       "    }\n",
       "\n",
       "    .dataframe thead th {\n",
       "        text-align: right;\n",
       "    }\n",
       "</style>\n",
       "<table border=\"1\" class=\"dataframe\">\n",
       "  <thead>\n",
       "    <tr style=\"text-align: right;\">\n",
       "      <th></th>\n",
       "      <th>Datetime</th>\n",
       "      <th>Value</th>\n",
       "    </tr>\n",
       "  </thead>\n",
       "  <tbody>\n",
       "    <tr>\n",
       "      <th>179905</th>\n",
       "      <td>2018-09-21 17:06:15.805199882</td>\n",
       "      <td>90.316853</td>\n",
       "    </tr>\n",
       "    <tr>\n",
       "      <th>179906</th>\n",
       "      <td>2018-09-21 17:06:15.807919882</td>\n",
       "      <td>89.720691</td>\n",
       "    </tr>\n",
       "    <tr>\n",
       "      <th>179907</th>\n",
       "      <td>2018-09-21 17:06:15.810639882</td>\n",
       "      <td>90.364673</td>\n",
       "    </tr>\n",
       "    <tr>\n",
       "      <th>179908</th>\n",
       "      <td>2018-09-21 17:06:15.813359882</td>\n",
       "      <td>89.969357</td>\n",
       "    </tr>\n",
       "    <tr>\n",
       "      <th>179909</th>\n",
       "      <td>2018-09-21 17:06:15.816079882</td>\n",
       "      <td>90.192520</td>\n",
       "    </tr>\n",
       "  </tbody>\n",
       "</table>\n",
       "</div>"
      ],
      "text/plain": [
       "                            Datetime      Value\n",
       "179905 2018-09-21 17:06:15.805199882  90.316853\n",
       "179906 2018-09-21 17:06:15.807919882  89.720691\n",
       "179907 2018-09-21 17:06:15.810639882  90.364673\n",
       "179908 2018-09-21 17:06:15.813359882  89.969357\n",
       "179909 2018-09-21 17:06:15.816079882  90.192520"
      ]
     },
     "execution_count": 13,
     "metadata": {},
     "output_type": "execute_result"
    }
   ],
   "source": [
    "filtered_data.tail()"
   ]
  },
  {
   "cell_type": "code",
   "execution_count": 14,
   "metadata": {},
   "outputs": [
    {
     "data": {
      "text/plain": [
       "Value    90.241475\n",
       "dtype: float64"
      ]
     },
     "execution_count": 14,
     "metadata": {},
     "output_type": "execute_result"
    }
   ],
   "source": [
    "filtered_mean = np.mean(filtered_data)\n",
    "filtered_mean"
   ]
  },
  {
   "cell_type": "code",
   "execution_count": 15,
   "metadata": {},
   "outputs": [
    {
     "data": {
      "text/plain": [
       "Value    0.27138\n",
       "dtype: float64"
      ]
     },
     "execution_count": 15,
     "metadata": {},
     "output_type": "execute_result"
    }
   ],
   "source": [
    "filtered_std = np.std(filtered_data)\n",
    "filtered_std"
   ]
  },
  {
   "cell_type": "markdown",
   "metadata": {},
   "source": [
    "Lets look at the differences between the filtered mean and standard deviation and the original data."
   ]
  },
  {
   "cell_type": "code",
   "execution_count": 16,
   "metadata": {},
   "outputs": [
    {
     "data": {
      "text/plain": [
       "Value   -0.000274\n",
       "dtype: float64"
      ]
     },
     "execution_count": 16,
     "metadata": {},
     "output_type": "execute_result"
    }
   ],
   "source": [
    "data_mean - filtered_mean"
   ]
  },
  {
   "cell_type": "code",
   "execution_count": 17,
   "metadata": {},
   "outputs": [
    {
     "data": {
      "text/plain": [
       "Value    0.896704\n",
       "dtype: float64"
      ]
     },
     "execution_count": 17,
     "metadata": {},
     "output_type": "execute_result"
    }
   ],
   "source": [
    "1- filtered_std/data_std"
   ]
  },
  {
   "cell_type": "code",
   "execution_count": 18,
   "metadata": {},
   "outputs": [
    {
     "data": {
      "application/javascript": [
       "var spec = {\"layer\": [{\"mark\": {\"color\": \"#7570b3\", \"type\": \"line\"}, \"encoding\": {\"y\": {\"field\": \"Value\", \"scale\": {\"domain\": [88.5, 92]}, \"type\": \"quantitative\", \"title\": \"Voltage (kV)\"}, \"x\": {\"field\": \"Datetime\", \"timeUnit\": \"hoursminutesseconds\", \"type\": \"temporal\", \"title\": \"Time (h:m:s)\"}}}, {\"layer\": [{\"mark\": {\"opacity\": 1, \"color\": \"#1b9e77\", \"type\": \"rule\"}, \"encoding\": {\"y\": {\"field\": \"average\", \"type\": \"quantitative\"}, \"size\": {\"value\": 3}}}, {\"mark\": {\"opacity\": 1, \"color\": \"#d95f02\", \"type\": \"rule\"}, \"encoding\": {\"y\": {\"field\": \"high_limit\", \"type\": \"quantitative\"}, \"size\": {\"value\": 3}}}, {\"mark\": {\"opacity\": 1, \"color\": \"#d95f02\", \"type\": \"rule\"}, \"encoding\": {\"y\": {\"field\": \"low_limit\", \"type\": \"quantitative\"}, \"size\": {\"value\": 3}}}], \"data\": {\"url\": \"altair-data-7f3d5189329c85e0f1f679f8f4717e03.json\", \"format\": {\"type\": \"json\"}}}], \"title\": \"Voltage over 566 seconds after filtering\", \"config\": {\"background\": \"white\", \"view\": {\"width\": 400, \"height\": 300}}, \"width\": 875, \"$schema\": \"https://vega.github.io/schema/vega-lite/v2.6.0.json\", \"data\": {\"url\": \"altair-data-ccd6fe3726da125f6daa1c18bbe577d0.json\", \"format\": {\"type\": \"json\"}}};\n",
       "var opt = {};\n",
       "var type = \"vega-lite\";\n",
       "var id = \"1df1098f-a1f1-4291-8b85-9923f7777ef9\";\n",
       "\n",
       "var output_area = this;\n",
       "\n",
       "require([\"nbextensions/jupyter-vega/index\"], function(vega) {\n",
       "  var target = document.createElement(\"div\");\n",
       "  target.id = id;\n",
       "  target.className = \"vega-embed\";\n",
       "\n",
       "  var style = document.createElement(\"style\");\n",
       "  style.textContent = [\n",
       "    \".vega-embed .error p {\",\n",
       "    \"  color: firebrick;\",\n",
       "    \"  font-size: 14px;\",\n",
       "    \"}\",\n",
       "  ].join(\"\\\\n\");\n",
       "\n",
       "  // element is a jQuery wrapped DOM element inside the output area\n",
       "  // see http://ipython.readthedocs.io/en/stable/api/generated/\\\n",
       "  // IPython.display.html#IPython.display.Javascript.__init__\n",
       "  element[0].appendChild(target);\n",
       "  element[0].appendChild(style);\n",
       "\n",
       "  vega.render(\"#\" + id, spec, type, opt, output_area);\n",
       "}, function (err) {\n",
       "  if (err.requireType !== \"scripterror\") {\n",
       "    throw(err);\n",
       "  }\n",
       "});\n"
      ],
      "text/plain": [
       "<vega.vegalite.VegaLite at 0x1ec559b0>"
      ]
     },
     "metadata": {
      "jupyter-vega": "#1df1098f-a1f1-4291-8b85-9923f7777ef9"
     },
     "output_type": "display_data"
    },
    {
     "data": {
      "text/plain": []
     },
     "execution_count": 18,
     "metadata": {},
     "output_type": "execute_result"
    },
    {
     "data": {
      "image/png": "[encoded data removed]"
     },
     "metadata": {
      "jupyter-vega": "#1df1098f-a1f1-4291-8b85-9923f7777ef9"
     },
     "output_type": "display_data"
    }
   ],
   "source": [
    "averaged_stability_rules = generate_stability_rules(filtered_data)\n",
    "\n",
    "base = generate_line_chart(x_title=\"Time (h:m:s)\", y_title=\"Voltage (kV)\", y_scale=(88.5, 92), time_unit=\"hoursminutesseconds\")\n",
    "\n",
    "alt.layer(base, averaged_stability_rules, data=filtered_data,\n",
    "          title=\"Voltage over {} seconds after filtering\".format(time_period(filtered_data)), \n",
    "          config={\"background\": \"white\"},\n",
    "          width = 875\n",
    "         )"
   ]
  },
  {
   "cell_type": "markdown",
   "metadata": {},
   "source": [
    "## Conclusion\n",
    "\n",
    "By filtering the data using a rolling average to cancel the 50Hz signal we reduce the standard deviation of the signal by 89.6704%. As you can see from the charts above, the filtered signal is more stable. The max and min are now very close to the stability bounds. The filtered data has only 91ms seconds of instability in 10 minutes."
   ]
  },
  {
   "cell_type": "code",
   "execution_count": 19,
   "metadata": {},
   "outputs": [
    {
     "data": {
      "text/plain": [
       "91.585688650000009"
      ]
     },
     "execution_count": 19,
     "metadata": {},
     "output_type": "execute_result"
    }
   ],
   "source": [
    "np.max(filtered_data[\"Value\"])"
   ]
  },
  {
   "cell_type": "code",
   "execution_count": 20,
   "metadata": {},
   "outputs": [
    {
     "data": {
      "text/plain": [
       "88.971504049999993"
      ]
     },
     "execution_count": 20,
     "metadata": {},
     "output_type": "execute_result"
    }
   ],
   "source": [
    "np.min(filtered_data[\"Value\"])"
   ]
  },
  {
   "cell_type": "code",
   "execution_count": 21,
   "metadata": {},
   "outputs": [
    {
     "data": {
      "text/plain": [
       "91.0"
      ]
     },
     "execution_count": 21,
     "metadata": {},
     "output_type": "execute_result"
    }
   ],
   "source": [
    "unstable_milliseconds = unstable_seconds(filtered_data, sampling_rate=1000) * 1000\n",
    "unstable_milliseconds"
   ]
  }
 ],
 "metadata": {
  "kernelspec": {
   "display_name": "Python 2",
   "language": "python",
   "name": "python2"
  },
  "language_info": {
   "codemirror_mode": {
    "name": "ipython",
    "version": 2
   },
   "file_extension": ".py",
   "mimetype": "text/x-python",
   "name": "python",
   "nbconvert_exporter": "python",
   "pygments_lexer": "ipython2",
   "version": "2.7.14"
  }
 },
 "nbformat": 4,
 "nbformat_minor": 2
}
