{
 "cells": [
  {
   "cell_type": "markdown",
   "metadata": {},
   "source": [
    "# Effects of Averaging the data Pre Capacitor addition\n",
    "\n",
    "Now we look at analyzing the signal to work out the curve."
   ]
  },
  {
   "cell_type": "code",
   "execution_count": 6,
   "metadata": {},
   "outputs": [
    {
     "name": "stdout",
     "output_type": "stream",
     "text": [
      "The autoreload extension is already loaded. To reload it, use:\n",
      "  %reload_ext autoreload\n"
     ]
    }
   ],
   "source": [
    "import matplotlib.pyplot as plt\n",
    "import pandas as pd\n",
    "import numpy as np\n",
    "\n",
    "from src.data_processing import convert_time, create_data_from_entry, create_rolling_averages, clean_data\n",
    "\n",
    "%matplotlib inline\n",
    "%load_ext autoreload\n",
    "%autoreload 2"
   ]
  },
  {
   "cell_type": "markdown",
   "metadata": {},
   "source": [
    "First we import 10 minutes (6000 ms) of data."
   ]
  },
  {
   "cell_type": "code",
   "execution_count": 7,
   "metadata": {},
   "outputs": [],
   "source": [
    "raw = pd.read_csv(\"data\\\\raw\\\\muon_results.csv\", nrows=6000, header=None)\n",
    "data = clean_data(raw)"
   ]
  },
  {
   "cell_type": "code",
   "execution_count": 8,
   "metadata": {},
   "outputs": [
    {
     "data": {
      "text/html": [
       "<div>\n",
       "<style scoped>\n",
       "    .dataframe tbody tr th:only-of-type {\n",
       "        vertical-align: middle;\n",
       "    }\n",
       "\n",
       "    .dataframe tbody tr th {\n",
       "        vertical-align: top;\n",
       "    }\n",
       "\n",
       "    .dataframe thead th {\n",
       "        text-align: right;\n",
       "    }\n",
       "</style>\n",
       "<table border=\"1\" class=\"dataframe\">\n",
       "  <thead>\n",
       "    <tr style=\"text-align: right;\">\n",
       "      <th></th>\n",
       "      <th>1</th>\n",
       "      <th>2</th>\n",
       "      <th>3</th>\n",
       "      <th>4</th>\n",
       "      <th>5</th>\n",
       "      <th>6</th>\n",
       "      <th>7</th>\n",
       "      <th>8</th>\n",
       "      <th>9</th>\n",
       "      <th>10</th>\n",
       "      <th>...</th>\n",
       "      <th>92</th>\n",
       "      <th>93</th>\n",
       "      <th>94</th>\n",
       "      <th>95</th>\n",
       "      <th>96</th>\n",
       "      <th>97</th>\n",
       "      <th>98</th>\n",
       "      <th>99</th>\n",
       "      <th>100</th>\n",
       "      <th>Datetime</th>\n",
       "    </tr>\n",
       "  </thead>\n",
       "  <tbody>\n",
       "    <tr>\n",
       "      <th>0</th>\n",
       "      <td>4.518552</td>\n",
       "      <td>4.450329</td>\n",
       "      <td>4.418448</td>\n",
       "      <td>4.399958</td>\n",
       "      <td>4.232905</td>\n",
       "      <td>4.364889</td>\n",
       "      <td>4.349268</td>\n",
       "      <td>4.384018</td>\n",
       "      <td>4.372859</td>\n",
       "      <td>4.489223</td>\n",
       "      <td>...</td>\n",
       "      <td>4.583588</td>\n",
       "      <td>4.619294</td>\n",
       "      <td>4.657232</td>\n",
       "      <td>4.733744</td>\n",
       "      <td>4.664564</td>\n",
       "      <td>4.699314</td>\n",
       "      <td>4.683055</td>\n",
       "      <td>4.667433</td>\n",
       "      <td>4.580400</td>\n",
       "      <td>2018-09-21 16:56:48.930999994</td>\n",
       "    </tr>\n",
       "    <tr>\n",
       "      <th>1</th>\n",
       "      <td>4.662333</td>\n",
       "      <td>4.594428</td>\n",
       "      <td>4.530986</td>\n",
       "      <td>4.521740</td>\n",
       "      <td>4.437258</td>\n",
       "      <td>4.376048</td>\n",
       "      <td>4.420680</td>\n",
       "      <td>4.308780</td>\n",
       "      <td>4.335241</td>\n",
       "      <td>4.349268</td>\n",
       "      <td>...</td>\n",
       "      <td>4.443634</td>\n",
       "      <td>4.479021</td>\n",
       "      <td>4.523972</td>\n",
       "      <td>4.572749</td>\n",
       "      <td>4.621207</td>\n",
       "      <td>4.601122</td>\n",
       "      <td>4.675722</td>\n",
       "      <td>4.678910</td>\n",
       "      <td>4.640973</td>\n",
       "      <td>2018-09-21 16:56:49.041000128</td>\n",
       "    </tr>\n",
       "    <tr>\n",
       "      <th>2</th>\n",
       "      <td>4.574343</td>\n",
       "      <td>4.545651</td>\n",
       "      <td>4.414623</td>\n",
       "      <td>4.446503</td>\n",
       "      <td>4.410478</td>\n",
       "      <td>4.276900</td>\n",
       "      <td>4.364252</td>\n",
       "      <td>4.322807</td>\n",
       "      <td>4.329821</td>\n",
       "      <td>4.408565</td>\n",
       "      <td>...</td>\n",
       "      <td>4.487310</td>\n",
       "      <td>4.581038</td>\n",
       "      <td>4.601760</td>\n",
       "      <td>4.649262</td>\n",
       "      <td>4.719398</td>\n",
       "      <td>4.696445</td>\n",
       "      <td>4.677954</td>\n",
       "      <td>4.710791</td>\n",
       "      <td>4.597616</td>\n",
       "      <td>2018-09-21 16:56:49.367999792</td>\n",
       "    </tr>\n",
       "    <tr>\n",
       "      <th>3</th>\n",
       "      <td>4.467225</td>\n",
       "      <td>4.557128</td>\n",
       "      <td>4.540231</td>\n",
       "      <td>4.637466</td>\n",
       "      <td>4.605267</td>\n",
       "      <td>4.711109</td>\n",
       "      <td>4.667433</td>\n",
       "      <td>4.705371</td>\n",
       "      <td>4.678273</td>\n",
       "      <td>4.630452</td>\n",
       "      <td>...</td>\n",
       "      <td>4.495280</td>\n",
       "      <td>4.479658</td>\n",
       "      <td>4.398364</td>\n",
       "      <td>4.403146</td>\n",
       "      <td>4.286783</td>\n",
       "      <td>4.359789</td>\n",
       "      <td>4.301766</td>\n",
       "      <td>4.342573</td>\n",
       "      <td>4.410478</td>\n",
       "      <td>2018-09-21 16:56:49.640000105</td>\n",
       "    </tr>\n",
       "    <tr>\n",
       "      <th>4</th>\n",
       "      <td>4.386568</td>\n",
       "      <td>4.472645</td>\n",
       "      <td>4.553302</td>\n",
       "      <td>4.616744</td>\n",
       "      <td>4.628539</td>\n",
       "      <td>4.760205</td>\n",
       "      <td>4.666477</td>\n",
       "      <td>4.698039</td>\n",
       "      <td>4.673172</td>\n",
       "      <td>4.654681</td>\n",
       "      <td>...</td>\n",
       "      <td>4.534811</td>\n",
       "      <td>4.435664</td>\n",
       "      <td>4.408565</td>\n",
       "      <td>4.401552</td>\n",
       "      <td>4.286145</td>\n",
       "      <td>4.342892</td>\n",
       "      <td>4.349268</td>\n",
       "      <td>4.333966</td>\n",
       "      <td>4.378279</td>\n",
       "      <td>2018-09-21 16:56:49.912999868</td>\n",
       "    </tr>\n",
       "  </tbody>\n",
       "</table>\n",
       "<p>5 rows × 101 columns</p>\n",
       "</div>"
      ],
      "text/plain": [
       "          1         2         3         4         5         6         7  \\\n",
       "0  4.518552  4.450329  4.418448  4.399958  4.232905  4.364889  4.349268   \n",
       "1  4.662333  4.594428  4.530986  4.521740  4.437258  4.376048  4.420680   \n",
       "2  4.574343  4.545651  4.414623  4.446503  4.410478  4.276900  4.364252   \n",
       "3  4.467225  4.557128  4.540231  4.637466  4.605267  4.711109  4.667433   \n",
       "4  4.386568  4.472645  4.553302  4.616744  4.628539  4.760205  4.666477   \n",
       "\n",
       "          8         9        10              ...                     92  \\\n",
       "0  4.384018  4.372859  4.489223              ...               4.583588   \n",
       "1  4.308780  4.335241  4.349268              ...               4.443634   \n",
       "2  4.322807  4.329821  4.408565              ...               4.487310   \n",
       "3  4.705371  4.678273  4.630452              ...               4.495280   \n",
       "4  4.698039  4.673172  4.654681              ...               4.534811   \n",
       "\n",
       "         93        94        95        96        97        98        99  \\\n",
       "0  4.619294  4.657232  4.733744  4.664564  4.699314  4.683055  4.667433   \n",
       "1  4.479021  4.523972  4.572749  4.621207  4.601122  4.675722  4.678910   \n",
       "2  4.581038  4.601760  4.649262  4.719398  4.696445  4.677954  4.710791   \n",
       "3  4.479658  4.398364  4.403146  4.286783  4.359789  4.301766  4.342573   \n",
       "4  4.435664  4.408565  4.401552  4.286145  4.342892  4.349268  4.333966   \n",
       "\n",
       "        100                      Datetime  \n",
       "0  4.580400 2018-09-21 16:56:48.930999994  \n",
       "1  4.640973 2018-09-21 16:56:49.041000128  \n",
       "2  4.597616 2018-09-21 16:56:49.367999792  \n",
       "3  4.410478 2018-09-21 16:56:49.640000105  \n",
       "4  4.378279 2018-09-21 16:56:49.912999868  \n",
       "\n",
       "[5 rows x 101 columns]"
      ]
     },
     "execution_count": 8,
     "metadata": {},
     "output_type": "execute_result"
    }
   ],
   "source": [
    "data.head()"
   ]
  },
  {
   "cell_type": "code",
   "execution_count": 9,
   "metadata": {},
   "outputs": [
    {
     "data": {
      "text/html": [
       "<div>\n",
       "<style scoped>\n",
       "    .dataframe tbody tr th:only-of-type {\n",
       "        vertical-align: middle;\n",
       "    }\n",
       "\n",
       "    .dataframe tbody tr th {\n",
       "        vertical-align: top;\n",
       "    }\n",
       "\n",
       "    .dataframe thead th {\n",
       "        text-align: right;\n",
       "    }\n",
       "</style>\n",
       "<table border=\"1\" class=\"dataframe\">\n",
       "  <thead>\n",
       "    <tr style=\"text-align: right;\">\n",
       "      <th></th>\n",
       "      <th>1</th>\n",
       "      <th>2</th>\n",
       "      <th>3</th>\n",
       "      <th>4</th>\n",
       "      <th>5</th>\n",
       "      <th>6</th>\n",
       "      <th>7</th>\n",
       "      <th>8</th>\n",
       "      <th>9</th>\n",
       "      <th>10</th>\n",
       "      <th>...</th>\n",
       "      <th>92</th>\n",
       "      <th>93</th>\n",
       "      <th>94</th>\n",
       "      <th>95</th>\n",
       "      <th>96</th>\n",
       "      <th>97</th>\n",
       "      <th>98</th>\n",
       "      <th>99</th>\n",
       "      <th>100</th>\n",
       "      <th>Datetime</th>\n",
       "    </tr>\n",
       "  </thead>\n",
       "  <tbody>\n",
       "    <tr>\n",
       "      <th>1154</th>\n",
       "      <td>4.593790</td>\n",
       "      <td>4.616744</td>\n",
       "      <td>4.485078</td>\n",
       "      <td>4.427694</td>\n",
       "      <td>4.419405</td>\n",
       "      <td>4.356919</td>\n",
       "      <td>4.263829</td>\n",
       "      <td>4.401871</td>\n",
       "      <td>4.304317</td>\n",
       "      <td>4.357876</td>\n",
       "      <td>...</td>\n",
       "      <td>4.450647</td>\n",
       "      <td>4.503888</td>\n",
       "      <td>4.583588</td>\n",
       "      <td>4.642567</td>\n",
       "      <td>4.610049</td>\n",
       "      <td>4.760205</td>\n",
       "      <td>4.647668</td>\n",
       "      <td>4.700270</td>\n",
       "      <td>4.679867</td>\n",
       "      <td>2018-09-21 17:02:15.217000008</td>\n",
       "    </tr>\n",
       "    <tr>\n",
       "      <th>1155</th>\n",
       "      <td>4.434070</td>\n",
       "      <td>4.446184</td>\n",
       "      <td>4.518234</td>\n",
       "      <td>4.575299</td>\n",
       "      <td>4.639698</td>\n",
       "      <td>4.635553</td>\n",
       "      <td>4.783159</td>\n",
       "      <td>4.671259</td>\n",
       "      <td>4.696126</td>\n",
       "      <td>4.720992</td>\n",
       "      <td>...</td>\n",
       "      <td>4.599528</td>\n",
       "      <td>4.502931</td>\n",
       "      <td>4.457023</td>\n",
       "      <td>4.394857</td>\n",
       "      <td>4.398683</td>\n",
       "      <td>4.232586</td>\n",
       "      <td>4.379236</td>\n",
       "      <td>4.322489</td>\n",
       "      <td>4.368715</td>\n",
       "      <td>2018-09-21 17:02:15.437999964</td>\n",
       "    </tr>\n",
       "    <tr>\n",
       "      <th>1156</th>\n",
       "      <td>4.458936</td>\n",
       "      <td>4.485397</td>\n",
       "      <td>4.592834</td>\n",
       "      <td>4.574981</td>\n",
       "      <td>4.650856</td>\n",
       "      <td>4.735657</td>\n",
       "      <td>4.700589</td>\n",
       "      <td>4.696126</td>\n",
       "      <td>4.628221</td>\n",
       "      <td>4.645117</td>\n",
       "      <td>...</td>\n",
       "      <td>4.544694</td>\n",
       "      <td>4.432157</td>\n",
       "      <td>4.428012</td>\n",
       "      <td>4.341617</td>\n",
       "      <td>4.262235</td>\n",
       "      <td>4.372222</td>\n",
       "      <td>4.338429</td>\n",
       "      <td>4.406971</td>\n",
       "      <td>4.390712</td>\n",
       "      <td>2018-09-21 17:02:15.713999987</td>\n",
       "    </tr>\n",
       "    <tr>\n",
       "      <th>1157</th>\n",
       "      <td>4.427694</td>\n",
       "      <td>4.492411</td>\n",
       "      <td>4.566054</td>\n",
       "      <td>4.587414</td>\n",
       "      <td>4.591877</td>\n",
       "      <td>4.648624</td>\n",
       "      <td>4.675085</td>\n",
       "      <td>4.708878</td>\n",
       "      <td>4.625989</td>\n",
       "      <td>4.678592</td>\n",
       "      <td>...</td>\n",
       "      <td>4.530986</td>\n",
       "      <td>4.475514</td>\n",
       "      <td>4.452241</td>\n",
       "      <td>4.390712</td>\n",
       "      <td>4.372859</td>\n",
       "      <td>4.355963</td>\n",
       "      <td>4.327589</td>\n",
       "      <td>4.351500</td>\n",
       "      <td>4.352456</td>\n",
       "      <td>2018-09-21 17:02:15.984999895</td>\n",
       "    </tr>\n",
       "    <tr>\n",
       "      <th>1158</th>\n",
       "      <td>4.343211</td>\n",
       "      <td>4.415260</td>\n",
       "      <td>4.448416</td>\n",
       "      <td>4.482209</td>\n",
       "      <td>4.643204</td>\n",
       "      <td>4.600485</td>\n",
       "      <td>4.642567</td>\n",
       "      <td>4.787622</td>\n",
       "      <td>4.663927</td>\n",
       "      <td>4.652131</td>\n",
       "      <td>...</td>\n",
       "      <td>4.620888</td>\n",
       "      <td>4.572430</td>\n",
       "      <td>4.528117</td>\n",
       "      <td>4.430244</td>\n",
       "      <td>4.435345</td>\n",
       "      <td>4.390712</td>\n",
       "      <td>4.271799</td>\n",
       "      <td>4.355007</td>\n",
       "      <td>4.328546</td>\n",
       "      <td>2018-09-21 17:02:16.257999896</td>\n",
       "    </tr>\n",
       "  </tbody>\n",
       "</table>\n",
       "<p>5 rows × 101 columns</p>\n",
       "</div>"
      ],
      "text/plain": [
       "             1         2         3         4         5         6         7  \\\n",
       "1154  4.593790  4.616744  4.485078  4.427694  4.419405  4.356919  4.263829   \n",
       "1155  4.434070  4.446184  4.518234  4.575299  4.639698  4.635553  4.783159   \n",
       "1156  4.458936  4.485397  4.592834  4.574981  4.650856  4.735657  4.700589   \n",
       "1157  4.427694  4.492411  4.566054  4.587414  4.591877  4.648624  4.675085   \n",
       "1158  4.343211  4.415260  4.448416  4.482209  4.643204  4.600485  4.642567   \n",
       "\n",
       "             8         9        10              ...                     92  \\\n",
       "1154  4.401871  4.304317  4.357876              ...               4.450647   \n",
       "1155  4.671259  4.696126  4.720992              ...               4.599528   \n",
       "1156  4.696126  4.628221  4.645117              ...               4.544694   \n",
       "1157  4.708878  4.625989  4.678592              ...               4.530986   \n",
       "1158  4.787622  4.663927  4.652131              ...               4.620888   \n",
       "\n",
       "            93        94        95        96        97        98        99  \\\n",
       "1154  4.503888  4.583588  4.642567  4.610049  4.760205  4.647668  4.700270   \n",
       "1155  4.502931  4.457023  4.394857  4.398683  4.232586  4.379236  4.322489   \n",
       "1156  4.432157  4.428012  4.341617  4.262235  4.372222  4.338429  4.406971   \n",
       "1157  4.475514  4.452241  4.390712  4.372859  4.355963  4.327589  4.351500   \n",
       "1158  4.572430  4.528117  4.430244  4.435345  4.390712  4.271799  4.355007   \n",
       "\n",
       "           100                      Datetime  \n",
       "1154  4.679867 2018-09-21 17:02:15.217000008  \n",
       "1155  4.368715 2018-09-21 17:02:15.437999964  \n",
       "1156  4.390712 2018-09-21 17:02:15.713999987  \n",
       "1157  4.352456 2018-09-21 17:02:15.984999895  \n",
       "1158  4.328546 2018-09-21 17:02:16.257999896  \n",
       "\n",
       "[5 rows x 101 columns]"
      ]
     },
     "execution_count": 9,
     "metadata": {},
     "output_type": "execute_result"
    }
   ],
   "source": [
    "data.tail()"
   ]
  },
  {
   "cell_type": "markdown",
   "metadata": {},
   "source": [
    "## Averaging effect\n",
    "\n",
    "The DAQ is sampling at 1000Hz collecting 100 samples before giving the data to the IOC. This happens every 0.1 second so a new sample is taken every 0.001 seconds. At 50Hz, the signal repeats every 1/50 = 0.02 seconds. So a period lasts is 20 samples. Thus to average out the 50Hz we need to average every ten samples.\n",
    "\n",
    "We create a new data set from the rolling average of two samples 0.01 seconds apart.\n",
    "\n",
    "Each element (row, col) of this data set is the average of the values (row, col) and (row, col + 10)."
   ]
  },
  {
   "cell_type": "code",
   "execution_count": 11,
   "metadata": {},
   "outputs": [],
   "source": [
    "rolling_averages = data.apply(create_rolling_averages, axis=1, result_type='expand')"
   ]
  },
  {
   "cell_type": "code",
   "execution_count": 13,
   "metadata": {
    "scrolled": true
   },
   "outputs": [
    {
     "data": {
      "text/html": [
       "<div>\n",
       "<style scoped>\n",
       "    .dataframe tbody tr th:only-of-type {\n",
       "        vertical-align: middle;\n",
       "    }\n",
       "\n",
       "    .dataframe tbody tr th {\n",
       "        vertical-align: top;\n",
       "    }\n",
       "\n",
       "    .dataframe thead th {\n",
       "        text-align: right;\n",
       "    }\n",
       "</style>\n",
       "<table border=\"1\" class=\"dataframe\">\n",
       "  <thead>\n",
       "    <tr style=\"text-align: right;\">\n",
       "      <th></th>\n",
       "      <th>Datetime</th>\n",
       "      <th>1</th>\n",
       "      <th>2</th>\n",
       "      <th>3</th>\n",
       "      <th>4</th>\n",
       "      <th>5</th>\n",
       "      <th>6</th>\n",
       "      <th>7</th>\n",
       "      <th>8</th>\n",
       "      <th>9</th>\n",
       "      <th>...</th>\n",
       "      <th>80</th>\n",
       "      <th>81</th>\n",
       "      <th>82</th>\n",
       "      <th>83</th>\n",
       "      <th>84</th>\n",
       "      <th>85</th>\n",
       "      <th>86</th>\n",
       "      <th>87</th>\n",
       "      <th>88</th>\n",
       "      <th>89</th>\n",
       "    </tr>\n",
       "  </thead>\n",
       "  <tbody>\n",
       "    <tr>\n",
       "      <th>0</th>\n",
       "      <td>2018-09-21 16:56:48.930999994</td>\n",
       "      <td>4.496874</td>\n",
       "      <td>4.515364</td>\n",
       "      <td>4.499743</td>\n",
       "      <td>4.523972</td>\n",
       "      <td>4.492729</td>\n",
       "      <td>4.514249</td>\n",
       "      <td>4.514408</td>\n",
       "      <td>4.555534</td>\n",
       "      <td>4.505482</td>\n",
       "      <td>...</td>\n",
       "      <td>4.486035</td>\n",
       "      <td>4.503728</td>\n",
       "      <td>4.519349</td>\n",
       "      <td>4.521262</td>\n",
       "      <td>4.539912</td>\n",
       "      <td>4.510264</td>\n",
       "      <td>4.506597</td>\n",
       "      <td>4.530189</td>\n",
       "      <td>4.520784</td>\n",
       "      <td>4.516002</td>\n",
       "    </tr>\n",
       "    <tr>\n",
       "      <th>1</th>\n",
       "      <td>2018-09-21 16:56:49.041000128</td>\n",
       "      <td>4.509148</td>\n",
       "      <td>4.505482</td>\n",
       "      <td>4.497033</td>\n",
       "      <td>4.525407</td>\n",
       "      <td>4.499584</td>\n",
       "      <td>4.516002</td>\n",
       "      <td>4.516640</td>\n",
       "      <td>4.506438</td>\n",
       "      <td>4.513611</td>\n",
       "      <td>...</td>\n",
       "      <td>4.499743</td>\n",
       "      <td>4.506119</td>\n",
       "      <td>4.510264</td>\n",
       "      <td>4.519987</td>\n",
       "      <td>4.505641</td>\n",
       "      <td>4.508191</td>\n",
       "      <td>4.502612</td>\n",
       "      <td>4.521103</td>\n",
       "      <td>4.484122</td>\n",
       "      <td>4.522219</td>\n",
       "    </tr>\n",
       "    <tr>\n",
       "      <th>2</th>\n",
       "      <td>2018-09-21 16:56:49.367999792</td>\n",
       "      <td>4.505482</td>\n",
       "      <td>4.517277</td>\n",
       "      <td>4.500699</td>\n",
       "      <td>4.527479</td>\n",
       "      <td>4.529392</td>\n",
       "      <td>4.522856</td>\n",
       "      <td>4.516321</td>\n",
       "      <td>4.506438</td>\n",
       "      <td>4.510423</td>\n",
       "      <td>...</td>\n",
       "      <td>4.503728</td>\n",
       "      <td>4.494961</td>\n",
       "      <td>4.505641</td>\n",
       "      <td>4.512017</td>\n",
       "      <td>4.508510</td>\n",
       "      <td>4.532261</td>\n",
       "      <td>4.497352</td>\n",
       "      <td>4.528754</td>\n",
       "      <td>4.489223</td>\n",
       "      <td>4.527001</td>\n",
       "    </tr>\n",
       "    <tr>\n",
       "      <th>3</th>\n",
       "      <td>2018-09-21 16:56:49.640000105</td>\n",
       "      <td>4.515046</td>\n",
       "      <td>4.540550</td>\n",
       "      <td>4.509148</td>\n",
       "      <td>4.520465</td>\n",
       "      <td>4.498468</td>\n",
       "      <td>4.492411</td>\n",
       "      <td>4.514727</td>\n",
       "      <td>4.506438</td>\n",
       "      <td>4.505960</td>\n",
       "      <td>...</td>\n",
       "      <td>4.500859</td>\n",
       "      <td>4.519987</td>\n",
       "      <td>4.485716</td>\n",
       "      <td>4.526682</td>\n",
       "      <td>4.490657</td>\n",
       "      <td>4.506279</td>\n",
       "      <td>4.481253</td>\n",
       "      <td>4.524769</td>\n",
       "      <td>4.496714</td>\n",
       "      <td>4.521103</td>\n",
       "    </tr>\n",
       "    <tr>\n",
       "      <th>4</th>\n",
       "      <td>2018-09-21 16:56:49.912999868</td>\n",
       "      <td>4.491454</td>\n",
       "      <td>4.507076</td>\n",
       "      <td>4.491773</td>\n",
       "      <td>4.519987</td>\n",
       "      <td>4.505482</td>\n",
       "      <td>4.505322</td>\n",
       "      <td>4.527798</td>\n",
       "      <td>4.508191</td>\n",
       "      <td>4.511858</td>\n",
       "      <td>...</td>\n",
       "      <td>4.496236</td>\n",
       "      <td>4.513770</td>\n",
       "      <td>4.509945</td>\n",
       "      <td>4.506757</td>\n",
       "      <td>4.505960</td>\n",
       "      <td>4.527001</td>\n",
       "      <td>4.501656</td>\n",
       "      <td>4.510264</td>\n",
       "      <td>4.498308</td>\n",
       "      <td>4.515683</td>\n",
       "    </tr>\n",
       "  </tbody>\n",
       "</table>\n",
       "<p>5 rows × 90 columns</p>\n",
       "</div>"
      ],
      "text/plain": [
       "                       Datetime         1         2         3         4  \\\n",
       "0 2018-09-21 16:56:48.930999994  4.496874  4.515364  4.499743  4.523972   \n",
       "1 2018-09-21 16:56:49.041000128  4.509148  4.505482  4.497033  4.525407   \n",
       "2 2018-09-21 16:56:49.367999792  4.505482  4.517277  4.500699  4.527479   \n",
       "3 2018-09-21 16:56:49.640000105  4.515046  4.540550  4.509148  4.520465   \n",
       "4 2018-09-21 16:56:49.912999868  4.491454  4.507076  4.491773  4.519987   \n",
       "\n",
       "          5         6         7         8         9    ...           80  \\\n",
       "0  4.492729  4.514249  4.514408  4.555534  4.505482    ...     4.486035   \n",
       "1  4.499584  4.516002  4.516640  4.506438  4.513611    ...     4.499743   \n",
       "2  4.529392  4.522856  4.516321  4.506438  4.510423    ...     4.503728   \n",
       "3  4.498468  4.492411  4.514727  4.506438  4.505960    ...     4.500859   \n",
       "4  4.505482  4.505322  4.527798  4.508191  4.511858    ...     4.496236   \n",
       "\n",
       "         81        82        83        84        85        86        87  \\\n",
       "0  4.503728  4.519349  4.521262  4.539912  4.510264  4.506597  4.530189   \n",
       "1  4.506119  4.510264  4.519987  4.505641  4.508191  4.502612  4.521103   \n",
       "2  4.494961  4.505641  4.512017  4.508510  4.532261  4.497352  4.528754   \n",
       "3  4.519987  4.485716  4.526682  4.490657  4.506279  4.481253  4.524769   \n",
       "4  4.513770  4.509945  4.506757  4.505960  4.527001  4.501656  4.510264   \n",
       "\n",
       "         88        89  \n",
       "0  4.520784  4.516002  \n",
       "1  4.484122  4.522219  \n",
       "2  4.489223  4.527001  \n",
       "3  4.496714  4.521103  \n",
       "4  4.498308  4.515683  \n",
       "\n",
       "[5 rows x 90 columns]"
      ]
     },
     "execution_count": 13,
     "metadata": {},
     "output_type": "execute_result"
    }
   ],
   "source": [
    "rolling_averages.rename(columns={0: \"Datetime\"}, inplace=True)\n",
    "rolling_averages.head()"
   ]
  },
  {
   "cell_type": "markdown",
   "metadata": {},
   "source": [
    "Lets look at how this averaging process affects the mean and standard deviation of the signal.\n",
    "\n",
    "First we flattern the non-averaged data and look at the mean and standard deviation"
   ]
  },
  {
   "cell_type": "code",
   "execution_count": 14,
   "metadata": {},
   "outputs": [
    {
     "data": {
      "text/plain": [
       "array([ 4.51855246,  4.45032862,  4.41844832, ...,  4.27179894,\n",
       "        4.35500652,  4.32854587])"
      ]
     },
     "execution_count": 14,
     "metadata": {},
     "output_type": "execute_result"
    }
   ],
   "source": [
    "flattened_data = data.iloc[:,0:100].values.flatten()\n",
    "flattened_data"
   ]
  },
  {
   "cell_type": "code",
   "execution_count": 15,
   "metadata": {},
   "outputs": [
    {
     "data": {
      "text/plain": [
       "4.5121278598736758"
      ]
     },
     "execution_count": 15,
     "metadata": {},
     "output_type": "execute_result"
    }
   ],
   "source": [
    "data_mean = np.mean(flattened_data)\n",
    "data_mean"
   ]
  },
  {
   "cell_type": "code",
   "execution_count": 16,
   "metadata": {},
   "outputs": [
    {
     "data": {
      "text/plain": [
       "0.13084729299785186"
      ]
     },
     "execution_count": 16,
     "metadata": {},
     "output_type": "execute_result"
    }
   ],
   "source": [
    "data_std = np.std(flattened_data)\n",
    "data_std"
   ]
  },
  {
   "cell_type": "markdown",
   "metadata": {},
   "source": [
    "Now we flattern the averaged data and look at the mean and standard deviation"
   ]
  },
  {
   "cell_type": "code",
   "execution_count": 18,
   "metadata": {},
   "outputs": [
    {
     "data": {
      "text/plain": [
       "array([ 4.49687386,  4.51536443,  4.49974308, ...,  4.51297341,\n",
       "        4.53656483,  4.49719266])"
      ]
     },
     "execution_count": 18,
     "metadata": {},
     "output_type": "execute_result"
    }
   ],
   "source": [
    "rolling_average_data = rolling_averages.drop(\"Datetime\", 1).values.flatten()\n",
    "rolling_average_data"
   ]
  },
  {
   "cell_type": "code",
   "execution_count": 19,
   "metadata": {},
   "outputs": [
    {
     "data": {
      "text/plain": [
       "4.512144862525207"
      ]
     },
     "execution_count": 19,
     "metadata": {},
     "output_type": "execute_result"
    }
   ],
   "source": [
    "rolling_mean = np.mean(rolling_average_data)\n",
    "rolling_mean"
   ]
  },
  {
   "cell_type": "code",
   "execution_count": 20,
   "metadata": {},
   "outputs": [
    {
     "data": {
      "text/plain": [
       "0.013553876677834654"
      ]
     },
     "execution_count": 20,
     "metadata": {},
     "output_type": "execute_result"
    }
   ],
   "source": [
    "rolling_std = np.std(rolling_average_data)\n",
    "rolling_std"
   ]
  },
  {
   "cell_type": "markdown",
   "metadata": {},
   "source": [
    "Lets look at the differences between the rolling average mean and standard deviation and the orginal data"
   ]
  },
  {
   "cell_type": "code",
   "execution_count": 21,
   "metadata": {},
   "outputs": [
    {
     "data": {
      "text/plain": [
       "-1.7002651531150548e-05"
      ]
     },
     "execution_count": 21,
     "metadata": {},
     "output_type": "execute_result"
    }
   ],
   "source": [
    "data_mean - rolling_mean"
   ]
  },
  {
   "cell_type": "code",
   "execution_count": 22,
   "metadata": {},
   "outputs": [
    {
     "data": {
      "text/plain": [
       "0.10358545727084449"
      ]
     },
     "execution_count": 22,
     "metadata": {},
     "output_type": "execute_result"
    }
   ],
   "source": [
    "rolling_std/data_std"
   ]
  },
  {
   "cell_type": "markdown",
   "metadata": {},
   "source": [
    "## Conclusion\n",
    "\n",
    "By averaging the samples using a rolling average to cancel the 50Hz signal we reduce the standard deviation of the signal by 89.6%. Over 0.1 seconds of data (one row or array of data from the DAQ), this can be visualized by the charts below."
   ]
  },
  {
   "cell_type": "code",
   "execution_count": 27,
   "metadata": {},
   "outputs": [
    {
     "data": {
      "text/plain": [
       "Text(0,0.5,'Voltage')"
      ]
     },
     "execution_count": 27,
     "metadata": {},
     "output_type": "execute_result"
    },
    {
     "data": {
      "image/png": "[encoded data removed]",
      "text/plain": [
       "<Figure size 864x648 with 1 Axes>"
      ]
     },
     "metadata": {
      "needs_background": "light"
     },
     "output_type": "display_data"
    }
   ],
   "source": [
    "row_of_data = create_data_from_entry(0, data)\n",
    "row_of_averaged_data = create_data_from_entry(0, rolling_averages)\n",
    "\n",
    "fig = plt.figure(figsize=(12,9))\n",
    "axis = fig.add_subplot(111)\n",
    "axis.plot(row_of_data.loc[:90,\"Datetime\"], row_of_data.loc[:90, \"Value\"])\n",
    "axis.plot(row_of_averaged_data[\"Datetime\"], row_of_averaged_data[\"Value\"])\n",
    "\n",
    "axis.xaxis_date()\n",
    "axis.minorticks_on()\n",
    "axis.legend([\"Without Averaging\", \"With Averaging\"])\n",
    "\n",
    "axis.set_title(\"0.1 Seconds of Voltage Data with and without Averaging\")\n",
    "axis.set_xlabel(\"Time\")\n",
    "axis.set_ylabel(\"Voltage\")"
   ]
  },
  {
   "cell_type": "code",
   "execution_count": 28,
   "metadata": {},
   "outputs": [
    {
     "data": {
      "text/plain": [
       "Text(0,0.5,'Votlage')"
      ]
     },
     "execution_count": 28,
     "metadata": {},
     "output_type": "execute_result"
    },
    {
     "data": {
      "image/png": "[encoded data removed]",
      "text/plain": [
       "<Figure size 864x648 with 2 Axes>"
      ]
     },
     "metadata": {
      "needs_background": "light"
     },
     "output_type": "display_data"
    }
   ],
   "source": [
    "fig = plt.figure(figsize=(12,9))\n",
    "\n",
    "axis1 = fig.add_subplot(211)\n",
    "axis1.plot(row_of_data.loc[:90,\"Datetime\"], row_of_data.loc[:90, \"Value\"])\n",
    "axis1.xaxis_date()\n",
    "axis1.minorticks_on()\n",
    "axis1.set_title(\"0.1 Seconds of Voltage Data without Averaging\")\n",
    "axis1.set_xlabel(\"Datetime\")\n",
    "axis1.set_ylabel(\"Votlage\")\n",
    "\n",
    "axis2 = fig.add_subplot(212)\n",
    "axis2.plot(row_of_averaged_data[\"Datetime\"], row_of_averaged_data[\"Value\"])\n",
    "axis2.xaxis_date()\n",
    "axis2.minorticks_on()\n",
    "axis2.set_title(\"0.1 Seconds of Voltage Data with Averaging\")\n",
    "axis2.set_xlabel(\"Datetime\")\n",
    "axis2.set_ylabel(\"Votlage\")"
   ]
  },
  {
   "cell_type": "code",
   "execution_count": null,
   "metadata": {},
   "outputs": [],
   "source": []
  }
 ],
 "metadata": {
  "kernelspec": {
   "display_name": "Python 2",
   "language": "python",
   "name": "python2"
  },
  "language_info": {
   "codemirror_mode": {
    "name": "ipython",
    "version": 2
   },
   "file_extension": ".py",
   "mimetype": "text/x-python",
   "name": "python",
   "nbconvert_exporter": "python",
   "pygments_lexer": "ipython2",
   "version": "2.7.14"
  }
 },
 "nbformat": 4,
 "nbformat_minor": 2
}
