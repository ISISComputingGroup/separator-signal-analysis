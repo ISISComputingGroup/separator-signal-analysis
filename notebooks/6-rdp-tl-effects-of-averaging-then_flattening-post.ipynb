{
 "cells": [
  {
   "cell_type": "markdown",
   "metadata": {},
   "source": [
    "# Effects of Averaging Then Flattening the Data\n",
    "\n",
    "This notebook investigates the effect of averaging packets of data and then flattening the data out. A 100 elements are collected at 100Hz so we recieve a packet of data every second or so."
   ]
  },
  {
   "cell_type": "code",
   "execution_count": 1,
   "metadata": {},
   "outputs": [],
   "source": [
    "import pandas as pd\n",
    "import numpy as np\n",
    "import unittest\n",
    "import altair as alt\n",
    "\n",
    "from src.data_processing import create_data_from_entry, flatten_data, time_period, unstable_seconds, row_moving_average_filter\n",
    "from src.vizualization import generate_stability_rules, generate_line_chart\n",
    "\n",
    "# Render altair charts correctly\n",
    "alt.renderers.enable('notebook')\n",
    "\n",
    "# Store the altair char json separately and not in the notebook to reduce\n",
    "# notebook size\n",
    "alt.data_transformers.enable('json')\n",
    "\n",
    "%load_ext autoreload\n",
    "%autoreload 2"
   ]
  },
  {
   "cell_type": "markdown",
   "metadata": {},
   "source": [
    "## Load the data"
   ]
  },
  {
   "cell_type": "markdown",
   "metadata": {},
   "source": [
    "First we import the calibrated data created in [Notebook 4](4-rdp-voltage-signal-analysis-post-capacitor-706.ipynb)."
   ]
  },
  {
   "cell_type": "code",
   "execution_count": 2,
   "metadata": {},
   "outputs": [
    {
     "data": {
      "text/html": [
       "<div>\n",
       "<style scoped>\n",
       "    .dataframe tbody tr th:only-of-type {\n",
       "        vertical-align: middle;\n",
       "    }\n",
       "\n",
       "    .dataframe tbody tr th {\n",
       "        vertical-align: top;\n",
       "    }\n",
       "\n",
       "    .dataframe thead th {\n",
       "        text-align: right;\n",
       "    }\n",
       "</style>\n",
       "<table border=\"1\" class=\"dataframe\">\n",
       "  <thead>\n",
       "    <tr style=\"text-align: right;\">\n",
       "      <th></th>\n",
       "      <th>1</th>\n",
       "      <th>2</th>\n",
       "      <th>3</th>\n",
       "      <th>4</th>\n",
       "      <th>5</th>\n",
       "      <th>6</th>\n",
       "      <th>7</th>\n",
       "      <th>8</th>\n",
       "      <th>9</th>\n",
       "      <th>10</th>\n",
       "      <th>...</th>\n",
       "      <th>92</th>\n",
       "      <th>93</th>\n",
       "      <th>94</th>\n",
       "      <th>95</th>\n",
       "      <th>96</th>\n",
       "      <th>97</th>\n",
       "      <th>98</th>\n",
       "      <th>99</th>\n",
       "      <th>100</th>\n",
       "      <th>Datetime</th>\n",
       "    </tr>\n",
       "  </thead>\n",
       "  <tbody>\n",
       "    <tr>\n",
       "      <th>0</th>\n",
       "      <td>92.6090</td>\n",
       "      <td>93.7440</td>\n",
       "      <td>92.6600</td>\n",
       "      <td>93.6674</td>\n",
       "      <td>92.6792</td>\n",
       "      <td>93.6930</td>\n",
       "      <td>92.6728</td>\n",
       "      <td>93.6994</td>\n",
       "      <td>92.7046</td>\n",
       "      <td>93.5974</td>\n",
       "      <td>...</td>\n",
       "      <td>92.9852</td>\n",
       "      <td>93.3678</td>\n",
       "      <td>92.9406</td>\n",
       "      <td>93.4124</td>\n",
       "      <td>92.9470</td>\n",
       "      <td>93.3870</td>\n",
       "      <td>92.9088</td>\n",
       "      <td>93.4380</td>\n",
       "      <td>92.8704</td>\n",
       "      <td>2018-11-09 10:46:08.559401</td>\n",
       "    </tr>\n",
       "    <tr>\n",
       "      <th>1</th>\n",
       "      <td>92.8194</td>\n",
       "      <td>93.5272</td>\n",
       "      <td>92.8130</td>\n",
       "      <td>93.5910</td>\n",
       "      <td>92.7876</td>\n",
       "      <td>93.5718</td>\n",
       "      <td>92.8068</td>\n",
       "      <td>93.5400</td>\n",
       "      <td>92.8386</td>\n",
       "      <td>93.5974</td>\n",
       "      <td>...</td>\n",
       "      <td>93.9990</td>\n",
       "      <td>92.3922</td>\n",
       "      <td>93.9798</td>\n",
       "      <td>92.3412</td>\n",
       "      <td>94.0182</td>\n",
       "      <td>92.3348</td>\n",
       "      <td>93.9926</td>\n",
       "      <td>92.4368</td>\n",
       "      <td>94.0372</td>\n",
       "      <td>2018-11-09 10:46:09.754002</td>\n",
       "    </tr>\n",
       "    <tr>\n",
       "      <th>2</th>\n",
       "      <td>96.3072</td>\n",
       "      <td>90.1096</td>\n",
       "      <td>96.3390</td>\n",
       "      <td>90.1096</td>\n",
       "      <td>96.2626</td>\n",
       "      <td>90.1160</td>\n",
       "      <td>96.3136</td>\n",
       "      <td>90.0842</td>\n",
       "      <td>96.3836</td>\n",
       "      <td>90.1032</td>\n",
       "      <td>...</td>\n",
       "      <td>89.8800</td>\n",
       "      <td>96.4794</td>\n",
       "      <td>89.9312</td>\n",
       "      <td>96.4602</td>\n",
       "      <td>89.9566</td>\n",
       "      <td>96.4920</td>\n",
       "      <td>89.8482</td>\n",
       "      <td>96.5048</td>\n",
       "      <td>89.9502</td>\n",
       "      <td>2018-11-09 10:46:10.942502</td>\n",
       "    </tr>\n",
       "    <tr>\n",
       "      <th>3</th>\n",
       "      <td>90.4284</td>\n",
       "      <td>95.9438</td>\n",
       "      <td>90.4156</td>\n",
       "      <td>95.9564</td>\n",
       "      <td>90.3838</td>\n",
       "      <td>96.0138</td>\n",
       "      <td>90.4412</td>\n",
       "      <td>95.9310</td>\n",
       "      <td>90.3902</td>\n",
       "      <td>95.9756</td>\n",
       "      <td>...</td>\n",
       "      <td>96.3136</td>\n",
       "      <td>90.0394</td>\n",
       "      <td>96.3262</td>\n",
       "      <td>90.0332</td>\n",
       "      <td>96.2816</td>\n",
       "      <td>90.0586</td>\n",
       "      <td>96.2752</td>\n",
       "      <td>90.0268</td>\n",
       "      <td>96.3136</td>\n",
       "      <td>2018-11-09 10:46:12.132639</td>\n",
       "    </tr>\n",
       "    <tr>\n",
       "      <th>4</th>\n",
       "      <td>95.4782</td>\n",
       "      <td>90.9130</td>\n",
       "      <td>95.4400</td>\n",
       "      <td>90.8938</td>\n",
       "      <td>95.4974</td>\n",
       "      <td>90.8366</td>\n",
       "      <td>95.5166</td>\n",
       "      <td>90.8366</td>\n",
       "      <td>95.5548</td>\n",
       "      <td>90.7918</td>\n",
       "      <td>...</td>\n",
       "      <td>90.2052</td>\n",
       "      <td>96.1414</td>\n",
       "      <td>90.1926</td>\n",
       "      <td>96.2052</td>\n",
       "      <td>90.1032</td>\n",
       "      <td>96.2242</td>\n",
       "      <td>90.1542</td>\n",
       "      <td>96.2052</td>\n",
       "      <td>90.1288</td>\n",
       "      <td>2018-11-09 10:46:13.315691</td>\n",
       "    </tr>\n",
       "  </tbody>\n",
       "</table>\n",
       "<p>5 rows × 101 columns</p>\n",
       "</div>"
      ],
      "text/plain": [
       "         1        2        3        4        5        6        7        8  \\\n",
       "0  92.6090  93.7440  92.6600  93.6674  92.6792  93.6930  92.6728  93.6994   \n",
       "1  92.8194  93.5272  92.8130  93.5910  92.7876  93.5718  92.8068  93.5400   \n",
       "2  96.3072  90.1096  96.3390  90.1096  96.2626  90.1160  96.3136  90.0842   \n",
       "3  90.4284  95.9438  90.4156  95.9564  90.3838  96.0138  90.4412  95.9310   \n",
       "4  95.4782  90.9130  95.4400  90.8938  95.4974  90.8366  95.5166  90.8366   \n",
       "\n",
       "         9       10             ...                   92       93       94  \\\n",
       "0  92.7046  93.5974             ...              92.9852  93.3678  92.9406   \n",
       "1  92.8386  93.5974             ...              93.9990  92.3922  93.9798   \n",
       "2  96.3836  90.1032             ...              89.8800  96.4794  89.9312   \n",
       "3  90.3902  95.9756             ...              96.3136  90.0394  96.3262   \n",
       "4  95.5548  90.7918             ...              90.2052  96.1414  90.1926   \n",
       "\n",
       "        95       96       97       98       99      100  \\\n",
       "0  93.4124  92.9470  93.3870  92.9088  93.4380  92.8704   \n",
       "1  92.3412  94.0182  92.3348  93.9926  92.4368  94.0372   \n",
       "2  96.4602  89.9566  96.4920  89.8482  96.5048  89.9502   \n",
       "3  90.0332  96.2816  90.0586  96.2752  90.0268  96.3136   \n",
       "4  96.2052  90.1032  96.2242  90.1542  96.2052  90.1288   \n",
       "\n",
       "                     Datetime  \n",
       "0  2018-11-09 10:46:08.559401  \n",
       "1  2018-11-09 10:46:09.754002  \n",
       "2  2018-11-09 10:46:10.942502  \n",
       "3  2018-11-09 10:46:12.132639  \n",
       "4  2018-11-09 10:46:13.315691  \n",
       "\n",
       "[5 rows x 101 columns]"
      ]
     },
     "execution_count": 2,
     "metadata": {},
     "output_type": "execute_result"
    }
   ],
   "source": [
    "data = pd.read_csv(os.path.join(os.getcwd(), \"..\", \"data\", \"processed\", \"post-capacitor-cleand-calibrated-voltage-data.csv\"))\n",
    "data.head()"
   ]
  },
  {
   "cell_type": "code",
   "execution_count": 3,
   "metadata": {},
   "outputs": [
    {
     "data": {
      "text/plain": [
       "(599, 101)"
      ]
     },
     "execution_count": 3,
     "metadata": {},
     "output_type": "execute_result"
    }
   ],
   "source": [
    "data.shape"
   ]
  },
  {
   "cell_type": "markdown",
   "metadata": {},
   "source": [
    "## Average the packets of data\n",
    "\n",
    "Now we average the packets of data."
   ]
  },
  {
   "cell_type": "code",
   "execution_count": 4,
   "metadata": {},
   "outputs": [
    {
     "data": {
      "text/html": [
       "<div>\n",
       "<style scoped>\n",
       "    .dataframe tbody tr th:only-of-type {\n",
       "        vertical-align: middle;\n",
       "    }\n",
       "\n",
       "    .dataframe tbody tr th {\n",
       "        vertical-align: top;\n",
       "    }\n",
       "\n",
       "    .dataframe thead th {\n",
       "        text-align: right;\n",
       "    }\n",
       "</style>\n",
       "<table border=\"1\" class=\"dataframe\">\n",
       "  <thead>\n",
       "    <tr style=\"text-align: right;\">\n",
       "      <th></th>\n",
       "      <th>Datetime</th>\n",
       "      <th>1</th>\n",
       "      <th>2</th>\n",
       "      <th>3</th>\n",
       "      <th>4</th>\n",
       "      <th>5</th>\n",
       "      <th>6</th>\n",
       "      <th>7</th>\n",
       "      <th>8</th>\n",
       "      <th>9</th>\n",
       "      <th>...</th>\n",
       "      <th>90</th>\n",
       "      <th>91</th>\n",
       "      <th>92</th>\n",
       "      <th>93</th>\n",
       "      <th>94</th>\n",
       "      <th>95</th>\n",
       "      <th>96</th>\n",
       "      <th>97</th>\n",
       "      <th>98</th>\n",
       "      <th>99</th>\n",
       "    </tr>\n",
       "  </thead>\n",
       "  <tbody>\n",
       "    <tr>\n",
       "      <th>0</th>\n",
       "      <td>2018-11-09 10:46:08.559401</td>\n",
       "      <td>93.1765</td>\n",
       "      <td>93.2020</td>\n",
       "      <td>93.1637</td>\n",
       "      <td>93.1733</td>\n",
       "      <td>93.1861</td>\n",
       "      <td>93.1829</td>\n",
       "      <td>93.1861</td>\n",
       "      <td>93.2020</td>\n",
       "      <td>93.1510</td>\n",
       "      <td>...</td>\n",
       "      <td>93.1670</td>\n",
       "      <td>93.1510</td>\n",
       "      <td>93.1765</td>\n",
       "      <td>93.1542</td>\n",
       "      <td>93.1765</td>\n",
       "      <td>93.1797</td>\n",
       "      <td>93.1670</td>\n",
       "      <td>93.1479</td>\n",
       "      <td>93.1734</td>\n",
       "      <td>93.1542</td>\n",
       "    </tr>\n",
       "    <tr>\n",
       "      <th>1</th>\n",
       "      <td>2018-11-09 10:46:09.754002</td>\n",
       "      <td>93.1733</td>\n",
       "      <td>93.1701</td>\n",
       "      <td>93.2020</td>\n",
       "      <td>93.1893</td>\n",
       "      <td>93.1797</td>\n",
       "      <td>93.1893</td>\n",
       "      <td>93.1734</td>\n",
       "      <td>93.1893</td>\n",
       "      <td>93.2180</td>\n",
       "      <td>...</td>\n",
       "      <td>93.1765</td>\n",
       "      <td>93.1829</td>\n",
       "      <td>93.1956</td>\n",
       "      <td>93.1860</td>\n",
       "      <td>93.1605</td>\n",
       "      <td>93.1797</td>\n",
       "      <td>93.1765</td>\n",
       "      <td>93.1637</td>\n",
       "      <td>93.2147</td>\n",
       "      <td>93.2370</td>\n",
       "    </tr>\n",
       "    <tr>\n",
       "      <th>2</th>\n",
       "      <td>2018-11-09 10:46:10.942502</td>\n",
       "      <td>93.2084</td>\n",
       "      <td>93.2243</td>\n",
       "      <td>93.2243</td>\n",
       "      <td>93.1861</td>\n",
       "      <td>93.1893</td>\n",
       "      <td>93.2148</td>\n",
       "      <td>93.1989</td>\n",
       "      <td>93.2339</td>\n",
       "      <td>93.2434</td>\n",
       "      <td>...</td>\n",
       "      <td>93.2339</td>\n",
       "      <td>93.1765</td>\n",
       "      <td>93.1797</td>\n",
       "      <td>93.2053</td>\n",
       "      <td>93.1957</td>\n",
       "      <td>93.2084</td>\n",
       "      <td>93.2243</td>\n",
       "      <td>93.1701</td>\n",
       "      <td>93.1765</td>\n",
       "      <td>93.2275</td>\n",
       "    </tr>\n",
       "    <tr>\n",
       "      <th>3</th>\n",
       "      <td>2018-11-09 10:46:12.132639</td>\n",
       "      <td>93.1861</td>\n",
       "      <td>93.1797</td>\n",
       "      <td>93.1860</td>\n",
       "      <td>93.1701</td>\n",
       "      <td>93.1988</td>\n",
       "      <td>93.2275</td>\n",
       "      <td>93.1861</td>\n",
       "      <td>93.1606</td>\n",
       "      <td>93.1829</td>\n",
       "      <td>...</td>\n",
       "      <td>93.1638</td>\n",
       "      <td>93.1702</td>\n",
       "      <td>93.1765</td>\n",
       "      <td>93.1828</td>\n",
       "      <td>93.1797</td>\n",
       "      <td>93.1574</td>\n",
       "      <td>93.1701</td>\n",
       "      <td>93.1669</td>\n",
       "      <td>93.1510</td>\n",
       "      <td>93.1702</td>\n",
       "    </tr>\n",
       "    <tr>\n",
       "      <th>4</th>\n",
       "      <td>2018-11-09 10:46:13.315691</td>\n",
       "      <td>93.1956</td>\n",
       "      <td>93.1765</td>\n",
       "      <td>93.1669</td>\n",
       "      <td>93.1956</td>\n",
       "      <td>93.1670</td>\n",
       "      <td>93.1766</td>\n",
       "      <td>93.1766</td>\n",
       "      <td>93.1957</td>\n",
       "      <td>93.1733</td>\n",
       "      <td>...</td>\n",
       "      <td>93.1893</td>\n",
       "      <td>93.1988</td>\n",
       "      <td>93.1733</td>\n",
       "      <td>93.1670</td>\n",
       "      <td>93.1989</td>\n",
       "      <td>93.1542</td>\n",
       "      <td>93.1637</td>\n",
       "      <td>93.1892</td>\n",
       "      <td>93.1797</td>\n",
       "      <td>93.1670</td>\n",
       "    </tr>\n",
       "  </tbody>\n",
       "</table>\n",
       "<p>5 rows × 100 columns</p>\n",
       "</div>"
      ],
      "text/plain": [
       "                     Datetime        1        2        3        4        5  \\\n",
       "0  2018-11-09 10:46:08.559401  93.1765  93.2020  93.1637  93.1733  93.1861   \n",
       "1  2018-11-09 10:46:09.754002  93.1733  93.1701  93.2020  93.1893  93.1797   \n",
       "2  2018-11-09 10:46:10.942502  93.2084  93.2243  93.2243  93.1861  93.1893   \n",
       "3  2018-11-09 10:46:12.132639  93.1861  93.1797  93.1860  93.1701  93.1988   \n",
       "4  2018-11-09 10:46:13.315691  93.1956  93.1765  93.1669  93.1956  93.1670   \n",
       "\n",
       "         6        7        8        9   ...          90       91       92  \\\n",
       "0  93.1829  93.1861  93.2020  93.1510   ...     93.1670  93.1510  93.1765   \n",
       "1  93.1893  93.1734  93.1893  93.2180   ...     93.1765  93.1829  93.1956   \n",
       "2  93.2148  93.1989  93.2339  93.2434   ...     93.2339  93.1765  93.1797   \n",
       "3  93.2275  93.1861  93.1606  93.1829   ...     93.1638  93.1702  93.1765   \n",
       "4  93.1766  93.1766  93.1957  93.1733   ...     93.1893  93.1988  93.1733   \n",
       "\n",
       "        93       94       95       96       97       98       99  \n",
       "0  93.1542  93.1765  93.1797  93.1670  93.1479  93.1734  93.1542  \n",
       "1  93.1860  93.1605  93.1797  93.1765  93.1637  93.2147  93.2370  \n",
       "2  93.2053  93.1957  93.2084  93.2243  93.1701  93.1765  93.2275  \n",
       "3  93.1828  93.1797  93.1574  93.1701  93.1669  93.1510  93.1702  \n",
       "4  93.1670  93.1989  93.1542  93.1637  93.1892  93.1797  93.1670  \n",
       "\n",
       "[5 rows x 100 columns]"
      ]
     },
     "execution_count": 4,
     "metadata": {},
     "output_type": "execute_result"
    }
   ],
   "source": [
    "filtered_data = data.apply(row_moving_average_filter, axis=1, result_type='expand').rename(columns={0: \"Datetime\"})\n",
    "filtered_data.head()"
   ]
  },
  {
   "cell_type": "markdown",
   "metadata": {},
   "source": [
    "Lets check manually we get the results we expect."
   ]
  },
  {
   "cell_type": "code",
   "execution_count": 5,
   "metadata": {},
   "outputs": [],
   "source": [
    "for i, j in zip(range(1,100), filtered_data.index):\n",
    "    assert filtered_data.iloc[j, i] == np.mean([data.iloc[j,i-1], data.iloc[j,i]])"
   ]
  },
  {
   "cell_type": "markdown",
   "metadata": {},
   "source": [
    "We now flatten the data to allow us to plot the signal."
   ]
  },
  {
   "cell_type": "code",
   "execution_count": 6,
   "metadata": {},
   "outputs": [
    {
     "data": {
      "text/html": [
       "<div>\n",
       "<style scoped>\n",
       "    .dataframe tbody tr th:only-of-type {\n",
       "        vertical-align: middle;\n",
       "    }\n",
       "\n",
       "    .dataframe tbody tr th {\n",
       "        vertical-align: top;\n",
       "    }\n",
       "\n",
       "    .dataframe thead th {\n",
       "        text-align: right;\n",
       "    }\n",
       "</style>\n",
       "<table border=\"1\" class=\"dataframe\">\n",
       "  <thead>\n",
       "    <tr style=\"text-align: right;\">\n",
       "      <th></th>\n",
       "      <th>Datetime</th>\n",
       "      <th>Value</th>\n",
       "    </tr>\n",
       "  </thead>\n",
       "  <tbody>\n",
       "    <tr>\n",
       "      <th>0</th>\n",
       "      <td>2018-11-09 10:46:08.559401000</td>\n",
       "      <td>93.1765</td>\n",
       "    </tr>\n",
       "    <tr>\n",
       "      <th>1</th>\n",
       "      <td>2018-11-09 10:46:08.571347010</td>\n",
       "      <td>93.2020</td>\n",
       "    </tr>\n",
       "    <tr>\n",
       "      <th>2</th>\n",
       "      <td>2018-11-09 10:46:08.583293020</td>\n",
       "      <td>93.1637</td>\n",
       "    </tr>\n",
       "    <tr>\n",
       "      <th>3</th>\n",
       "      <td>2018-11-09 10:46:08.595239030</td>\n",
       "      <td>93.1733</td>\n",
       "    </tr>\n",
       "    <tr>\n",
       "      <th>4</th>\n",
       "      <td>2018-11-09 10:46:08.607185040</td>\n",
       "      <td>93.1861</td>\n",
       "    </tr>\n",
       "  </tbody>\n",
       "</table>\n",
       "</div>"
      ],
      "text/plain": [
       "                       Datetime    Value\n",
       "0 2018-11-09 10:46:08.559401000  93.1765\n",
       "1 2018-11-09 10:46:08.571347010  93.2020\n",
       "2 2018-11-09 10:46:08.583293020  93.1637\n",
       "3 2018-11-09 10:46:08.595239030  93.1733\n",
       "4 2018-11-09 10:46:08.607185040  93.1861"
      ]
     },
     "execution_count": 6,
     "metadata": {},
     "output_type": "execute_result"
    }
   ],
   "source": [
    "flattened_filtered_data = flatten_data(filtered_data)\n",
    "flattened_filtered_data.head()"
   ]
  },
  {
   "cell_type": "code",
   "execution_count": 7,
   "metadata": {},
   "outputs": [
    {
     "data": {
      "text/plain": [
       "93.177498462889787"
      ]
     },
     "execution_count": 7,
     "metadata": {},
     "output_type": "execute_result"
    }
   ],
   "source": [
    "np.mean(flattened_filtered_data[\"Value\"])"
   ]
  },
  {
   "cell_type": "code",
   "execution_count": 8,
   "metadata": {},
   "outputs": [
    {
     "data": {
      "text/plain": [
       "0.021491007906388405"
      ]
     },
     "execution_count": 8,
     "metadata": {},
     "output_type": "execute_result"
    }
   ],
   "source": [
    "np.std(flattened_filtered_data[\"Value\"])"
   ]
  },
  {
   "cell_type": "markdown",
   "metadata": {},
   "source": [
    "So the mean value is 93.177498kV and the standard deviation is 0.02149kV, or 21.49V.\n",
    "\n",
    "Now we plot the signal."
   ]
  },
  {
   "cell_type": "code",
   "execution_count": 9,
   "metadata": {},
   "outputs": [
    {
     "data": {
      "application/javascript": [
       "var spec = {\"layer\": [{\"mark\": {\"color\": \"#7570b3\", \"type\": \"line\"}, \"encoding\": {\"y\": {\"field\": \"Value\", \"scale\": {\"domain\": [92, 94.3]}, \"type\": \"quantitative\", \"title\": \"Voltage (kV)\"}, \"x\": {\"field\": \"Datetime\", \"timeUnit\": \"hoursminutesseconds\", \"type\": \"temporal\", \"title\": \"Time (s:ms)\"}}}, {\"layer\": [{\"mark\": {\"opacity\": 1, \"color\": \"#1b9e77\", \"type\": \"rule\"}, \"encoding\": {\"y\": {\"field\": \"average\", \"type\": \"quantitative\"}, \"size\": {\"value\": 3}}}, {\"mark\": {\"opacity\": 1, \"color\": \"#d95f02\", \"type\": \"rule\"}, \"encoding\": {\"y\": {\"field\": \"high_limit\", \"type\": \"quantitative\"}, \"size\": {\"value\": 3}}}, {\"mark\": {\"opacity\": 1, \"color\": \"#d95f02\", \"type\": \"rule\"}, \"encoding\": {\"y\": {\"field\": \"low_limit\", \"type\": \"quantitative\"}, \"size\": {\"value\": 3}}}], \"data\": {\"url\": \"altair-data-9bd2a92bbb003bccde1bb50817c7f87c.json\", \"format\": {\"type\": \"json\"}}}], \"title\": \"Voltage over 706 seconds after filtering\", \"config\": {\"background\": \"white\", \"view\": {\"width\": 400, \"height\": 300}}, \"width\": 875, \"$schema\": \"https://vega.github.io/schema/vega-lite/v2.6.0.json\", \"data\": {\"url\": \"altair-data-acb2a235cb59a6a6ee7d65d7736afa1d.json\", \"format\": {\"type\": \"json\"}}};\n",
       "var opt = {};\n",
       "var type = \"vega-lite\";\n",
       "var id = \"8a6ac53d-c1ad-4c85-b09d-45dc99d4d841\";\n",
       "\n",
       "var output_area = this;\n",
       "\n",
       "require([\"nbextensions/jupyter-vega/index\"], function(vega) {\n",
       "  var target = document.createElement(\"div\");\n",
       "  target.id = id;\n",
       "  target.className = \"vega-embed\";\n",
       "\n",
       "  var style = document.createElement(\"style\");\n",
       "  style.textContent = [\n",
       "    \".vega-embed .error p {\",\n",
       "    \"  color: firebrick;\",\n",
       "    \"  font-size: 14px;\",\n",
       "    \"}\",\n",
       "  ].join(\"\\\\n\");\n",
       "\n",
       "  // element is a jQuery wrapped DOM element inside the output area\n",
       "  // see http://ipython.readthedocs.io/en/stable/api/generated/\\\n",
       "  // IPython.display.html#IPython.display.Javascript.__init__\n",
       "  element[0].appendChild(target);\n",
       "  element[0].appendChild(style);\n",
       "\n",
       "  vega.render(\"#\" + id, spec, type, opt, output_area);\n",
       "}, function (err) {\n",
       "  if (err.requireType !== \"scripterror\") {\n",
       "    throw(err);\n",
       "  }\n",
       "});\n"
      ],
      "text/plain": [
       "<vega.vegalite.VegaLite at 0x1c68deb8>"
      ]
     },
     "metadata": {
      "jupyter-vega": "#8a6ac53d-c1ad-4c85-b09d-45dc99d4d841"
     },
     "output_type": "display_data"
    },
    {
     "data": {
      "text/plain": []
     },
     "execution_count": 9,
     "metadata": {},
     "output_type": "execute_result"
    },
    {
     "data": {
      "image/png": "[encoded data removed]"
     },
     "metadata": {
      "jupyter-vega": "#8a6ac53d-c1ad-4c85-b09d-45dc99d4d841"
     },
     "output_type": "display_data"
    }
   ],
   "source": [
    "stability_rules = generate_stability_rules(flattened_filtered_data)\n",
    "base = generate_line_chart(x_title=\"Time (s:ms)\", y_title=\"Voltage (kV)\",  time_unit=\"hoursminutesseconds\", y_scale=(92,94.3))\n",
    "\n",
    "alt.layer(base, stability_rules, data=flattened_filtered_data, \n",
    "          title=\"Voltage over {} seconds after filtering\".format(time_period(flattened_filtered_data)), \n",
    "          config={\"background\": \"white\"},\n",
    "          width = 875\n",
    "         )"
   ]
  }
 ],
 "metadata": {
  "kernelspec": {
   "display_name": "Python 2",
   "language": "python",
   "name": "python2"
  },
  "language_info": {
   "codemirror_mode": {
    "name": "ipython",
    "version": 2
   },
   "file_extension": ".py",
   "mimetype": "text/x-python",
   "name": "python",
   "nbconvert_exporter": "python",
   "pygments_lexer": "ipython2",
   "version": "2.7.14"
  }
 },
 "nbformat": 4,
 "nbformat_minor": 2
}
