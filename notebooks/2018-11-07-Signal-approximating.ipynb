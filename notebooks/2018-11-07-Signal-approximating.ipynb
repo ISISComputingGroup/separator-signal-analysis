{
 "cells": [
  {
   "cell_type": "markdown",
   "metadata": {},
   "source": [
    "# Signal-approximating\n",
    "\n",
    "Now we look at analyzing the signal to work out the curve."
   ]
  },
  {
   "cell_type": "code",
   "execution_count": 1,
   "metadata": {},
   "outputs": [],
   "source": [
    "import matplotlib.pyplot as plt\n",
    "import pandas as pd\n",
    "import numpy as np\n",
    "\n",
    "from src.data_processing import convert_time, create_data_from_entry, load_data\n",
    "\n",
    "%matplotlib inline"
   ]
  },
  {
   "cell_type": "markdown",
   "metadata": {},
   "source": [
    "Lets import the data and clean it up to be how we want it."
   ]
  },
  {
   "cell_type": "code",
   "execution_count": 2,
   "metadata": {},
   "outputs": [],
   "source": [
    "data = load_data(100000)"
   ]
  },
  {
   "cell_type": "code",
   "execution_count": 3,
   "metadata": {},
   "outputs": [
    {
     "data": {
      "text/html": [
       "<div>\n",
       "<style scoped>\n",
       "    .dataframe tbody tr th:only-of-type {\n",
       "        vertical-align: middle;\n",
       "    }\n",
       "\n",
       "    .dataframe tbody tr th {\n",
       "        vertical-align: top;\n",
       "    }\n",
       "\n",
       "    .dataframe thead th {\n",
       "        text-align: right;\n",
       "    }\n",
       "</style>\n",
       "<table border=\"1\" class=\"dataframe\">\n",
       "  <thead>\n",
       "    <tr style=\"text-align: right;\">\n",
       "      <th></th>\n",
       "      <th>1</th>\n",
       "      <th>2</th>\n",
       "      <th>3</th>\n",
       "      <th>4</th>\n",
       "      <th>5</th>\n",
       "      <th>6</th>\n",
       "      <th>7</th>\n",
       "      <th>8</th>\n",
       "      <th>9</th>\n",
       "      <th>10</th>\n",
       "      <th>...</th>\n",
       "      <th>92</th>\n",
       "      <th>93</th>\n",
       "      <th>94</th>\n",
       "      <th>95</th>\n",
       "      <th>96</th>\n",
       "      <th>97</th>\n",
       "      <th>98</th>\n",
       "      <th>99</th>\n",
       "      <th>100</th>\n",
       "      <th>Time</th>\n",
       "    </tr>\n",
       "  </thead>\n",
       "  <tbody>\n",
       "    <tr>\n",
       "      <th>0</th>\n",
       "      <td>4.518552</td>\n",
       "      <td>4.450329</td>\n",
       "      <td>4.418448</td>\n",
       "      <td>4.399958</td>\n",
       "      <td>4.232905</td>\n",
       "      <td>4.364889</td>\n",
       "      <td>4.349268</td>\n",
       "      <td>4.384018</td>\n",
       "      <td>4.372859</td>\n",
       "      <td>4.489223</td>\n",
       "      <td>...</td>\n",
       "      <td>4.583588</td>\n",
       "      <td>4.619294</td>\n",
       "      <td>4.657232</td>\n",
       "      <td>4.733744</td>\n",
       "      <td>4.664564</td>\n",
       "      <td>4.699314</td>\n",
       "      <td>4.683055</td>\n",
       "      <td>4.667433</td>\n",
       "      <td>4.580400</td>\n",
       "      <td>2018-09-21 16:56:48.930999994</td>\n",
       "    </tr>\n",
       "    <tr>\n",
       "      <th>1</th>\n",
       "      <td>4.662333</td>\n",
       "      <td>4.594428</td>\n",
       "      <td>4.530986</td>\n",
       "      <td>4.521740</td>\n",
       "      <td>4.437258</td>\n",
       "      <td>4.376048</td>\n",
       "      <td>4.420680</td>\n",
       "      <td>4.308780</td>\n",
       "      <td>4.335241</td>\n",
       "      <td>4.349268</td>\n",
       "      <td>...</td>\n",
       "      <td>4.443634</td>\n",
       "      <td>4.479021</td>\n",
       "      <td>4.523972</td>\n",
       "      <td>4.572749</td>\n",
       "      <td>4.621207</td>\n",
       "      <td>4.601122</td>\n",
       "      <td>4.675722</td>\n",
       "      <td>4.678910</td>\n",
       "      <td>4.640973</td>\n",
       "      <td>2018-09-21 16:56:49.041000128</td>\n",
       "    </tr>\n",
       "    <tr>\n",
       "      <th>2</th>\n",
       "      <td>4.574343</td>\n",
       "      <td>4.545651</td>\n",
       "      <td>4.414623</td>\n",
       "      <td>4.446503</td>\n",
       "      <td>4.410478</td>\n",
       "      <td>4.276900</td>\n",
       "      <td>4.364252</td>\n",
       "      <td>4.322807</td>\n",
       "      <td>4.329821</td>\n",
       "      <td>4.408565</td>\n",
       "      <td>...</td>\n",
       "      <td>4.487310</td>\n",
       "      <td>4.581038</td>\n",
       "      <td>4.601760</td>\n",
       "      <td>4.649262</td>\n",
       "      <td>4.719398</td>\n",
       "      <td>4.696445</td>\n",
       "      <td>4.677954</td>\n",
       "      <td>4.710791</td>\n",
       "      <td>4.597616</td>\n",
       "      <td>2018-09-21 16:56:49.367999792</td>\n",
       "    </tr>\n",
       "    <tr>\n",
       "      <th>3</th>\n",
       "      <td>4.467225</td>\n",
       "      <td>4.557128</td>\n",
       "      <td>4.540231</td>\n",
       "      <td>4.637466</td>\n",
       "      <td>4.605267</td>\n",
       "      <td>4.711109</td>\n",
       "      <td>4.667433</td>\n",
       "      <td>4.705371</td>\n",
       "      <td>4.678273</td>\n",
       "      <td>4.630452</td>\n",
       "      <td>...</td>\n",
       "      <td>4.495280</td>\n",
       "      <td>4.479658</td>\n",
       "      <td>4.398364</td>\n",
       "      <td>4.403146</td>\n",
       "      <td>4.286783</td>\n",
       "      <td>4.359789</td>\n",
       "      <td>4.301766</td>\n",
       "      <td>4.342573</td>\n",
       "      <td>4.410478</td>\n",
       "      <td>2018-09-21 16:56:49.640000105</td>\n",
       "    </tr>\n",
       "    <tr>\n",
       "      <th>4</th>\n",
       "      <td>4.386568</td>\n",
       "      <td>4.472645</td>\n",
       "      <td>4.553302</td>\n",
       "      <td>4.616744</td>\n",
       "      <td>4.628539</td>\n",
       "      <td>4.760205</td>\n",
       "      <td>4.666477</td>\n",
       "      <td>4.698039</td>\n",
       "      <td>4.673172</td>\n",
       "      <td>4.654681</td>\n",
       "      <td>...</td>\n",
       "      <td>4.534811</td>\n",
       "      <td>4.435664</td>\n",
       "      <td>4.408565</td>\n",
       "      <td>4.401552</td>\n",
       "      <td>4.286145</td>\n",
       "      <td>4.342892</td>\n",
       "      <td>4.349268</td>\n",
       "      <td>4.333966</td>\n",
       "      <td>4.378279</td>\n",
       "      <td>2018-09-21 16:56:49.912999868</td>\n",
       "    </tr>\n",
       "  </tbody>\n",
       "</table>\n",
       "<p>5 rows × 101 columns</p>\n",
       "</div>"
      ],
      "text/plain": [
       "          1         2         3         4         5         6         7  \\\n",
       "0  4.518552  4.450329  4.418448  4.399958  4.232905  4.364889  4.349268   \n",
       "1  4.662333  4.594428  4.530986  4.521740  4.437258  4.376048  4.420680   \n",
       "2  4.574343  4.545651  4.414623  4.446503  4.410478  4.276900  4.364252   \n",
       "3  4.467225  4.557128  4.540231  4.637466  4.605267  4.711109  4.667433   \n",
       "4  4.386568  4.472645  4.553302  4.616744  4.628539  4.760205  4.666477   \n",
       "\n",
       "          8         9        10              ...                     92  \\\n",
       "0  4.384018  4.372859  4.489223              ...               4.583588   \n",
       "1  4.308780  4.335241  4.349268              ...               4.443634   \n",
       "2  4.322807  4.329821  4.408565              ...               4.487310   \n",
       "3  4.705371  4.678273  4.630452              ...               4.495280   \n",
       "4  4.698039  4.673172  4.654681              ...               4.534811   \n",
       "\n",
       "         93        94        95        96        97        98        99  \\\n",
       "0  4.619294  4.657232  4.733744  4.664564  4.699314  4.683055  4.667433   \n",
       "1  4.479021  4.523972  4.572749  4.621207  4.601122  4.675722  4.678910   \n",
       "2  4.581038  4.601760  4.649262  4.719398  4.696445  4.677954  4.710791   \n",
       "3  4.479658  4.398364  4.403146  4.286783  4.359789  4.301766  4.342573   \n",
       "4  4.435664  4.408565  4.401552  4.286145  4.342892  4.349268  4.333966   \n",
       "\n",
       "        100                          Time  \n",
       "0  4.580400 2018-09-21 16:56:48.930999994  \n",
       "1  4.640973 2018-09-21 16:56:49.041000128  \n",
       "2  4.597616 2018-09-21 16:56:49.367999792  \n",
       "3  4.410478 2018-09-21 16:56:49.640000105  \n",
       "4  4.378279 2018-09-21 16:56:49.912999868  \n",
       "\n",
       "[5 rows x 101 columns]"
      ]
     },
     "execution_count": 3,
     "metadata": {},
     "output_type": "execute_result"
    }
   ],
   "source": [
    "data.head()"
   ]
  },
  {
   "cell_type": "code",
   "execution_count": 4,
   "metadata": {},
   "outputs": [
    {
     "data": {
      "text/html": [
       "<div>\n",
       "<style scoped>\n",
       "    .dataframe tbody tr th:only-of-type {\n",
       "        vertical-align: middle;\n",
       "    }\n",
       "\n",
       "    .dataframe tbody tr th {\n",
       "        vertical-align: top;\n",
       "    }\n",
       "\n",
       "    .dataframe thead th {\n",
       "        text-align: right;\n",
       "    }\n",
       "</style>\n",
       "<table border=\"1\" class=\"dataframe\">\n",
       "  <thead>\n",
       "    <tr style=\"text-align: right;\">\n",
       "      <th></th>\n",
       "      <th>1</th>\n",
       "      <th>2</th>\n",
       "      <th>3</th>\n",
       "      <th>4</th>\n",
       "      <th>5</th>\n",
       "      <th>6</th>\n",
       "      <th>7</th>\n",
       "      <th>8</th>\n",
       "      <th>9</th>\n",
       "      <th>10</th>\n",
       "      <th>...</th>\n",
       "      <th>92</th>\n",
       "      <th>93</th>\n",
       "      <th>94</th>\n",
       "      <th>95</th>\n",
       "      <th>96</th>\n",
       "      <th>97</th>\n",
       "      <th>98</th>\n",
       "      <th>99</th>\n",
       "      <th>100</th>\n",
       "      <th>Time</th>\n",
       "    </tr>\n",
       "  </thead>\n",
       "  <tbody>\n",
       "    <tr>\n",
       "      <th>99995</th>\n",
       "      <td>4.680504</td>\n",
       "      <td>4.652450</td>\n",
       "      <td>4.590283</td>\n",
       "      <td>4.533855</td>\n",
       "      <td>4.493367</td>\n",
       "      <td>4.443953</td>\n",
       "      <td>4.400595</td>\n",
       "      <td>4.407928</td>\n",
       "      <td>4.330459</td>\n",
       "      <td>4.295390</td>\n",
       "      <td>...</td>\n",
       "      <td>4.337154</td>\n",
       "      <td>4.415898</td>\n",
       "      <td>4.483484</td>\n",
       "      <td>4.554896</td>\n",
       "      <td>4.546607</td>\n",
       "      <td>4.635553</td>\n",
       "      <td>4.567967</td>\n",
       "      <td>4.711747</td>\n",
       "      <td>4.679229</td>\n",
       "      <td>2018-09-22 00:56:02.032000065</td>\n",
       "    </tr>\n",
       "    <tr>\n",
       "      <th>99996</th>\n",
       "      <td>4.390712</td>\n",
       "      <td>4.390712</td>\n",
       "      <td>4.409841</td>\n",
       "      <td>4.500381</td>\n",
       "      <td>4.562228</td>\n",
       "      <td>4.587414</td>\n",
       "      <td>4.656275</td>\n",
       "      <td>4.727687</td>\n",
       "      <td>4.639060</td>\n",
       "      <td>4.784434</td>\n",
       "      <td>...</td>\n",
       "      <td>4.595065</td>\n",
       "      <td>4.539593</td>\n",
       "      <td>4.553302</td>\n",
       "      <td>4.453517</td>\n",
       "      <td>4.441402</td>\n",
       "      <td>4.359470</td>\n",
       "      <td>4.364571</td>\n",
       "      <td>4.347355</td>\n",
       "      <td>4.327589</td>\n",
       "      <td>2018-09-22 00:56:02.305000067</td>\n",
       "    </tr>\n",
       "    <tr>\n",
       "      <th>99997</th>\n",
       "      <td>4.692300</td>\n",
       "      <td>4.634916</td>\n",
       "      <td>4.613237</td>\n",
       "      <td>4.543100</td>\n",
       "      <td>4.507713</td>\n",
       "      <td>4.425143</td>\n",
       "      <td>4.399320</td>\n",
       "      <td>4.314200</td>\n",
       "      <td>4.336516</td>\n",
       "      <td>4.389437</td>\n",
       "      <td>...</td>\n",
       "      <td>4.368715</td>\n",
       "      <td>4.411753</td>\n",
       "      <td>4.473282</td>\n",
       "      <td>4.496874</td>\n",
       "      <td>4.586139</td>\n",
       "      <td>4.602716</td>\n",
       "      <td>4.701227</td>\n",
       "      <td>4.690387</td>\n",
       "      <td>4.673172</td>\n",
       "      <td>2018-09-22 00:56:02.577000141</td>\n",
       "    </tr>\n",
       "    <tr>\n",
       "      <th>99998</th>\n",
       "      <td>4.348312</td>\n",
       "      <td>4.428331</td>\n",
       "      <td>4.443953</td>\n",
       "      <td>4.488904</td>\n",
       "      <td>4.577531</td>\n",
       "      <td>4.634916</td>\n",
       "      <td>4.599528</td>\n",
       "      <td>4.746178</td>\n",
       "      <td>4.643204</td>\n",
       "      <td>4.716210</td>\n",
       "      <td>...</td>\n",
       "      <td>4.580400</td>\n",
       "      <td>4.572111</td>\n",
       "      <td>4.510901</td>\n",
       "      <td>4.453835</td>\n",
       "      <td>4.358832</td>\n",
       "      <td>4.429925</td>\n",
       "      <td>4.249483</td>\n",
       "      <td>4.387206</td>\n",
       "      <td>4.312606</td>\n",
       "      <td>2018-09-22 00:56:02.849999905</td>\n",
       "    </tr>\n",
       "    <tr>\n",
       "      <th>99999</th>\n",
       "      <td>4.679867</td>\n",
       "      <td>4.626945</td>\n",
       "      <td>4.566054</td>\n",
       "      <td>4.520146</td>\n",
       "      <td>4.454154</td>\n",
       "      <td>4.429606</td>\n",
       "      <td>4.406971</td>\n",
       "      <td>4.333009</td>\n",
       "      <td>4.312287</td>\n",
       "      <td>4.322807</td>\n",
       "      <td>...</td>\n",
       "      <td>4.396770</td>\n",
       "      <td>4.422912</td>\n",
       "      <td>4.510582</td>\n",
       "      <td>4.555852</td>\n",
       "      <td>4.625033</td>\n",
       "      <td>4.619613</td>\n",
       "      <td>4.726731</td>\n",
       "      <td>4.644798</td>\n",
       "      <td>4.700270</td>\n",
       "      <td>2018-09-22 00:56:03.177000046</td>\n",
       "    </tr>\n",
       "  </tbody>\n",
       "</table>\n",
       "<p>5 rows × 101 columns</p>\n",
       "</div>"
      ],
      "text/plain": [
       "              1         2         3         4         5         6         7  \\\n",
       "99995  4.680504  4.652450  4.590283  4.533855  4.493367  4.443953  4.400595   \n",
       "99996  4.390712  4.390712  4.409841  4.500381  4.562228  4.587414  4.656275   \n",
       "99997  4.692300  4.634916  4.613237  4.543100  4.507713  4.425143  4.399320   \n",
       "99998  4.348312  4.428331  4.443953  4.488904  4.577531  4.634916  4.599528   \n",
       "99999  4.679867  4.626945  4.566054  4.520146  4.454154  4.429606  4.406971   \n",
       "\n",
       "              8         9        10              ...                     92  \\\n",
       "99995  4.407928  4.330459  4.295390              ...               4.337154   \n",
       "99996  4.727687  4.639060  4.784434              ...               4.595065   \n",
       "99997  4.314200  4.336516  4.389437              ...               4.368715   \n",
       "99998  4.746178  4.643204  4.716210              ...               4.580400   \n",
       "99999  4.333009  4.312287  4.322807              ...               4.396770   \n",
       "\n",
       "             93        94        95        96        97        98        99  \\\n",
       "99995  4.415898  4.483484  4.554896  4.546607  4.635553  4.567967  4.711747   \n",
       "99996  4.539593  4.553302  4.453517  4.441402  4.359470  4.364571  4.347355   \n",
       "99997  4.411753  4.473282  4.496874  4.586139  4.602716  4.701227  4.690387   \n",
       "99998  4.572111  4.510901  4.453835  4.358832  4.429925  4.249483  4.387206   \n",
       "99999  4.422912  4.510582  4.555852  4.625033  4.619613  4.726731  4.644798   \n",
       "\n",
       "            100                          Time  \n",
       "99995  4.679229 2018-09-22 00:56:02.032000065  \n",
       "99996  4.327589 2018-09-22 00:56:02.305000067  \n",
       "99997  4.673172 2018-09-22 00:56:02.577000141  \n",
       "99998  4.312606 2018-09-22 00:56:02.849999905  \n",
       "99999  4.700270 2018-09-22 00:56:03.177000046  \n",
       "\n",
       "[5 rows x 101 columns]"
      ]
     },
     "execution_count": 4,
     "metadata": {},
     "output_type": "execute_result"
    }
   ],
   "source": [
    "data.tail()"
   ]
  },
  {
   "cell_type": "markdown",
   "metadata": {},
   "source": [
    "Lets look at a row of data again"
   ]
  },
  {
   "cell_type": "code",
   "execution_count": 5,
   "metadata": {},
   "outputs": [],
   "source": [
    "first_tenth_second = create_data_from_entry(0, data)"
   ]
  },
  {
   "cell_type": "code",
   "execution_count": 6,
   "metadata": {},
   "outputs": [
    {
     "data": {
      "text/plain": [
       "[<matplotlib.lines.Line2D at 0x259f0630>]"
      ]
     },
     "execution_count": 6,
     "metadata": {},
     "output_type": "execute_result"
    },
    {
     "data": {
      "image/png": "[encoded data removed]",
      "text/plain": [
       "<Figure size 432x288 with 1 Axes>"
      ]
     },
     "metadata": {
      "needs_background": "light"
     },
     "output_type": "display_data"
    }
   ],
   "source": [
    "plt.plot(first_tenth_second[\"Time\"], first_tenth_second[1])"
   ]
  },
  {
   "cell_type": "markdown",
   "metadata": {},
   "source": [
    "The DAQ is sampling at 1000Hz collecting 100 samples before giving the data to the IOC. This happens every 0.1 seconds. Each sample is take every 0.001 seconds. At 50Hz, the signal repeats every 1/50 = 0.02 seconds. So we need to average samples every 20 element of the array. \n",
    "\n",
    "Taking the first sample and the twentith sample and averaging these does the following:"
   ]
  },
  {
   "cell_type": "code",
   "execution_count": 7,
   "metadata": {},
   "outputs": [
    {
     "data": {
      "text/plain": [
       "1    4.51855\n",
       "2    4.45033\n",
       "3    4.41845\n",
       "4    4.39996\n",
       "5     4.2329\n",
       "Name: 0, dtype: object"
      ]
     },
     "execution_count": 7,
     "metadata": {},
     "output_type": "execute_result"
    }
   ],
   "source": [
    "row = data.iloc[0,:]\n",
    "row.head()"
   ]
  },
  {
   "cell_type": "code",
   "execution_count": 8,
   "metadata": {},
   "outputs": [
    {
     "name": "stdout",
     "output_type": "stream",
     "text": [
      "Sample1 is 4.518552461\n",
      "Sample2 is 4.598890817\n",
      "Average is 4.558721639\n"
     ]
    }
   ],
   "source": [
    "sample1 = row[0]\n",
    "sample2 = row[19]\n",
    "average = np.mean([sample1, sample2])\n",
    "print(\"Sample1 is {}\".format(sample1))\n",
    "print(\"Sample2 is {}\".format(sample2))\n",
    "print(\"Average is {}\".format(average))"
   ]
  },
  {
   "cell_type": "markdown",
   "metadata": {},
   "source": [
    "Now lets do that for all rows."
   ]
  },
  {
   "cell_type": "code",
   "execution_count": 9,
   "metadata": {},
   "outputs": [],
   "source": [
    "def period_average(row):\n",
    "    return np.mean([row[0], row[19]])\n",
    "    \n",
    "average_values = data.apply(period_average, axis=1)"
   ]
  },
  {
   "cell_type": "code",
   "execution_count": 10,
   "metadata": {},
   "outputs": [
    {
     "data": {
      "text/plain": [
       "0    4.558722\n",
       "1    4.660739\n",
       "2    4.583110\n",
       "3    4.447459\n",
       "4    4.368715\n",
       "dtype: float64"
      ]
     },
     "execution_count": 10,
     "metadata": {},
     "output_type": "execute_result"
    }
   ],
   "source": [
    "average_values.head()"
   ]
  },
  {
   "cell_type": "code",
   "execution_count": null,
   "metadata": {},
   "outputs": [],
   "source": []
  }
 ],
 "metadata": {
  "kernelspec": {
   "display_name": "Python 2",
   "language": "python",
   "name": "python2"
  },
  "language_info": {
   "codemirror_mode": {
    "name": "ipython",
    "version": 2
   },
   "file_extension": ".py",
   "mimetype": "text/x-python",
   "name": "python",
   "nbconvert_exporter": "python",
   "pygments_lexer": "ipython2",
   "version": "2.7.14"
  }
 },
 "nbformat": 4,
 "nbformat_minor": 2
}
