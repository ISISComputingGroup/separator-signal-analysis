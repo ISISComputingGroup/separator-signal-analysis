{
 "cells": [
  {
   "cell_type": "markdown",
   "metadata": {},
   "source": [
    "# Analysis of the Voltage Signal post-capacitor installation"
   ]
  },
  {
   "cell_type": "code",
   "execution_count": null,
   "metadata": {},
   "outputs": [],
   "source": [
    "import altair as alt\n",
    "import numpy as np\n",
    "import pandas as pd\n",
    "\n",
    "from src.data_processing import calibrate_data, create_data_from_entry, unstable_seconds, flatten_data\n",
    "from src.data_processing import average_data, time_period\n",
    "from src.vizualization import generate_stability_rules, generate_line_chart\n",
    "\n",
    "# Render altair charts correctly\n",
    "alt.renderers.enable('notebook')\n",
    "\n",
    "# Store the altair char json separately and not in the notebook \n",
    "# to reduce notebook size\n",
    "alt.data_transformers.enable('json')"
   ]
  },
  {
   "cell_type": "markdown",
   "metadata": {},
   "source": [
    "## Load and clean data\n",
    "\n",
    "First we load, clean and calibrate the raw data obtained by camonitoring the PV and having the output put into a file."
   ]
  },
  {
   "cell_type": "code",
   "execution_count": null,
   "metadata": {},
   "outputs": [],
   "source": [
    "def clean_camonitored_data(data):\n",
    "    \"\"\"\n",
    "    Cleans file produced from camonitoring a PV.\n",
    "\n",
    "    Args:\n",
    "        data (pandas Dataframe): Pandas Dataframe to be parsed.\n",
    "    Returns:\n",
    "        cleaned_dataframe (Dataframe): Cleaned dataframe\n",
    "    \"\"\"\n",
    "    columns = [\"PV name\", \"Date\", \"Time\", \"NELM\"]\n",
    "    columns.extend(list(range(1, 100 + 1)))\n",
    "    data.columns = columns\n",
    "\n",
    "    data[\"Datetime\"] = pd.to_datetime(data[\"Date\"] + ' ' + data[\"Time\"])\n",
    "\n",
    "    new_columns = [\"Datetime\"]\n",
    "    new_columns.extend(list(range(1, 100 + 1)))\n",
    "    cleaned_dataframe = data[new_columns]\n",
    "    \n",
    "    return cleaned_dataframe\n",
    "\n",
    "data = pd.read_csv(os.path.join(os.getcwd(), \"..\", \"data\", \"raw\", \"2018-11-09-voltage-data.txt\"), \n",
    "                   delim_whitespace=True, header=None, nrows=600)\n",
    "\n",
    "data = clean_camonitored_data(data)\n",
    "calibrated_data = calibrate_data(data, 20)\n",
    "calibrated_data.head()"
   ]
  },
  {
   "cell_type": "markdown",
   "metadata": {},
   "source": [
    "We can now save this cleaned file to load later."
   ]
  },
  {
   "cell_type": "code",
   "execution_count": null,
   "metadata": {},
   "outputs": [],
   "source": [
    "calibrated_data.to_csv(os.path.join(os.getcwd(), \"..\", \"data\", \"processed\", \"post-capacitor-cleand-calibrated-voltage-data.csv\"), index=None)"
   ]
  },
  {
   "cell_type": "markdown",
   "metadata": {},
   "source": [
    "## Analysis of 706 seconds of signal"
   ]
  },
  {
   "cell_type": "markdown",
   "metadata": {},
   "source": [
    "### Raw data Analysis"
   ]
  },
  {
   "cell_type": "markdown",
   "metadata": {},
   "source": [
    "Now we flatten each array of data by assigning a time stamp to each element of the array in the following way:\n",
    "\n",
    "- Given a row,  finding the time delta between this row and the next row,\n",
    "- Dividing this time delta by the number of elements in an array (100 in this case) to get the time delta between readings.\n",
    "- For each element of the array, multiple the time delta between readings and the position of the element in the array and add this to the time reading for the row.\n",
    "\n",
    "Note this assumes that readings are sampled equally spaced apart."
   ]
  },
  {
   "cell_type": "code",
   "execution_count": null,
   "metadata": {},
   "outputs": [],
   "source": [
    "flatten_raw_data = flatten_data(calibrated_data)\n",
    "flatten_raw_data.head()"
   ]
  },
  {
   "cell_type": "code",
   "execution_count": null,
   "metadata": {},
   "outputs": [],
   "source": [
    "flatten_raw_data.shape"
   ]
  },
  {
   "cell_type": "code",
   "execution_count": null,
   "metadata": {
    "scrolled": true
   },
   "outputs": [],
   "source": [
    "stability_rules_layer = generate_stability_rules(flatten_raw_data)\n",
    "base_line = generate_line_chart(x_title=\"Time (h:m:s)\", y_title=\"Voltage (kV)\", \n",
    "                                y_scale=(89,97), time_unit=\"hoursminutesseconds\")\n",
    "\n",
    "alt.layer(base_line, stability_rules_layer, data=flatten_raw_data, \n",
    "          title=\"Voltage before averaging over {} seconds\".format(time_period(flatten_raw_data)),\n",
    "          width=875,\n",
    "          config={\"background\": \"white\"})"
   ]
  },
  {
   "cell_type": "code",
   "execution_count": null,
   "metadata": {},
   "outputs": [],
   "source": [
    "raw_mean = np.mean(flatten_raw_data)\n",
    "raw_mean"
   ]
  },
  {
   "cell_type": "code",
   "execution_count": null,
   "metadata": {},
   "outputs": [],
   "source": [
    "raw_std = np.std(flatten_raw_data)\n",
    "raw_std"
   ]
  },
  {
   "cell_type": "markdown",
   "metadata": {},
   "source": [
    "The graph above shows how often the signal is outside of the stability parameters set at $\\pm1kV$ from the mean. We also see that the signal has a standard deviation of $2.383439kV$ from a mean of $93.177092kV$."
   ]
  },
  {
   "cell_type": "code",
   "execution_count": null,
   "metadata": {},
   "outputs": [],
   "source": [
    "raw_unstable_seconds = unstable_seconds(flatten_raw_data, float(raw_mean))\n",
    "raw_unstable_seconds"
   ]
  },
  {
   "cell_type": "markdown",
   "metadata": {},
   "source": [
    "The number of unstable seconds is 93.29 over this 706 second window."
   ]
  },
  {
   "cell_type": "markdown",
   "metadata": {},
   "source": [
    "### Averaging the data\n",
    "\n",
    "Now we will average the data by averaging values which are 180 degrees apart on the 50Hz wave. As this data was collected while sampling 100 elements at 100Hz (new reading every second) we need to average each pair of elements. We set the timestamp of the average to the later element's timestamp. Assuming the DAQ keeps sampling at 100Hz while sending the data to the IOC, this won't create artifacts at the ends of the packets of data."
   ]
  },
  {
   "cell_type": "code",
   "execution_count": null,
   "metadata": {},
   "outputs": [],
   "source": [
    "filtered_data = average_data(flatten_raw_data)"
   ]
  },
  {
   "cell_type": "code",
   "execution_count": null,
   "metadata": {},
   "outputs": [],
   "source": [
    "filtered_data_mean = np.mean(filtered_data)\n",
    "filtered_data_mean"
   ]
  },
  {
   "cell_type": "code",
   "execution_count": null,
   "metadata": {},
   "outputs": [],
   "source": [
    "np.std(filtered_data)"
   ]
  },
  {
   "cell_type": "code",
   "execution_count": null,
   "metadata": {},
   "outputs": [],
   "source": [
    "1- np.std(filtered_data)/np.std(flatten_raw_data)"
   ]
  },
  {
   "cell_type": "code",
   "execution_count": null,
   "metadata": {
    "scrolled": false
   },
   "outputs": [],
   "source": [
    "averaged_stability_bounds = generate_stability_rules(filtered_data)\n",
    "\n",
    "alt.layer(base_line, averaged_stability_bounds, data=filtered_data, \n",
    "          title=\"Voltage after averaging over over {} seconds\".format(time_period(filtered_data)),\n",
    "          width=850,\n",
    "          config={\"background\": \"white\"})"
   ]
  },
  {
   "cell_type": "markdown",
   "metadata": {},
   "source": [
    "The graph above shows how often the signal is outside of the stability parameters set at $\\pm1kV$ from the mean. We also see that the signal has a standard deviation of $0.151717kV$ from a mean of $93.177117kV$. This is a $93.6345\\%$ reduction of the standard deviation."
   ]
  },
  {
   "cell_type": "code",
   "execution_count": null,
   "metadata": {},
   "outputs": [],
   "source": [
    "averaged_unstable_second = unstable_seconds(filtered_data)\n",
    "averaged_unstable_second"
   ]
  },
  {
   "cell_type": "code",
   "execution_count": null,
   "metadata": {},
   "outputs": [],
   "source": [
    "1 - averaged_unstable_second/raw_unstable_seconds"
   ]
  },
  {
   "cell_type": "markdown",
   "metadata": {},
   "source": [
    "The number of unstable seconds is 2.07 seconds over this 706 second window - a 99.13% decrease in the amount of time spent unstable."
   ]
  }
 ],
 "metadata": {
  "kernelspec": {
   "display_name": "Python 2",
   "language": "python",
   "name": "python2"
  },
  "language_info": {
   "codemirror_mode": {
    "name": "ipython",
    "version": 2
   },
   "file_extension": ".py",
   "mimetype": "text/x-python",
   "name": "python",
   "nbconvert_exporter": "python",
   "pygments_lexer": "ipython2",
   "version": "2.7.14"
  }
 },
 "nbformat": 4,
 "nbformat_minor": 2
}
